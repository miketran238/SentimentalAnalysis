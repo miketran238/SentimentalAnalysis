{
 "cells": [
  {
   "cell_type": "markdown",
   "metadata": {},
   "source": [
    "# Creating a Sentiment Analysis Web App\n",
    "## Using PyTorch and SageMaker\n",
    "\n",
    "_Deep Learning Nanodegree Program | Deployment_\n",
    "\n",
    "---\n",
    "\n",
    "Now that we have a basic understanding of how SageMaker works we will try to use it to construct a complete project from end to end. Our goal will be to have a simple web page which a user can use to enter a movie review. The web page will then send the review off to our deployed model which will predict the sentiment of the entered review.\n",
    "\n",
    "## Instructions\n",
    "\n",
    "Some template code has already been provided for you, and you will need to implement additional functionality to successfully complete this notebook. You will not need to modify the included code beyond what is requested. Sections that begin with '**TODO**' in the header indicate that you need to complete or implement some portion within them. Instructions will be provided for each section and the specifics of the implementation are marked in the code block with a `# TODO: ...` comment. Please be sure to read the instructions carefully!\n",
    "\n",
    "In addition to implementing code, there will be questions for you to answer which relate to the task and your implementation. Each section where you will answer a question is preceded by a '**Question:**' header. Carefully read each question and provide your answer below the '**Answer:**' header by editing the Markdown cell.\n",
    "\n",
    "> **Note**: Code and Markdown cells can be executed using the **Shift+Enter** keyboard shortcut. In addition, a cell can be edited by typically clicking it (double-click for Markdown cells) or by pressing **Enter** while it is highlighted.\n",
    "\n",
    "## General Outline\n",
    "\n",
    "Recall the general outline for SageMaker projects using a notebook instance.\n",
    "\n",
    "1. Download or otherwise retrieve the data.\n",
    "2. Process / Prepare the data.\n",
    "3. Upload the processed data to S3.\n",
    "4. Train a chosen model.\n",
    "5. Test the trained model (typically using a batch transform job).\n",
    "6. Deploy the trained model.\n",
    "7. Use the deployed model.\n",
    "\n",
    "For this project, you will be following the steps in the general outline with some modifications. \n",
    "\n",
    "First, you will not be testing the model in its own step. You will still be testing the model, however, you will do it by deploying your model and then using the deployed model by sending the test data to it. One of the reasons for doing this is so that you can make sure that your deployed model is working correctly before moving forward.\n",
    "\n",
    "In addition, you will deploy and use your trained model a second time. In the second iteration you will customize the way that your trained model is deployed by including some of your own code. In addition, your newly deployed model will be used in the sentiment analysis web app."
   ]
  },
  {
   "cell_type": "code",
   "execution_count": 1,
   "metadata": {},
   "outputs": [
    {
     "name": "stdout",
     "output_type": "stream",
     "text": [
      "Collecting sagemaker==1.72.0\n",
      "  Downloading sagemaker-1.72.0.tar.gz (297 kB)\n",
      "\u001b[K     |████████████████████████████████| 297 kB 15.8 MB/s eta 0:00:01\n",
      "\u001b[?25hRequirement already satisfied: boto3>=1.14.12 in /home/ec2-user/anaconda3/envs/pytorch_p36/lib/python3.6/site-packages (from sagemaker==1.72.0) (1.16.63)\n",
      "Requirement already satisfied: numpy>=1.9.0 in /home/ec2-user/anaconda3/envs/pytorch_p36/lib/python3.6/site-packages (from sagemaker==1.72.0) (1.19.5)\n",
      "Requirement already satisfied: protobuf>=3.1 in /home/ec2-user/anaconda3/envs/pytorch_p36/lib/python3.6/site-packages (from sagemaker==1.72.0) (3.14.0)\n",
      "Requirement already satisfied: scipy>=0.19.0 in /home/ec2-user/anaconda3/envs/pytorch_p36/lib/python3.6/site-packages (from sagemaker==1.72.0) (1.4.1)\n",
      "Requirement already satisfied: protobuf3-to-dict>=0.1.5 in /home/ec2-user/anaconda3/envs/pytorch_p36/lib/python3.6/site-packages (from sagemaker==1.72.0) (0.1.5)\n",
      "Requirement already satisfied: importlib-metadata>=1.4.0 in /home/ec2-user/anaconda3/envs/pytorch_p36/lib/python3.6/site-packages (from sagemaker==1.72.0) (3.4.0)\n",
      "Requirement already satisfied: packaging>=20.0 in /home/ec2-user/anaconda3/envs/pytorch_p36/lib/python3.6/site-packages (from sagemaker==1.72.0) (20.8)\n",
      "Collecting smdebug-rulesconfig==0.1.4\n",
      "  Downloading smdebug_rulesconfig-0.1.4-py2.py3-none-any.whl (10 kB)\n",
      "Requirement already satisfied: botocore<1.20.0,>=1.19.63 in /home/ec2-user/anaconda3/envs/pytorch_p36/lib/python3.6/site-packages (from boto3>=1.14.12->sagemaker==1.72.0) (1.19.63)\n",
      "Requirement already satisfied: s3transfer<0.4.0,>=0.3.0 in /home/ec2-user/anaconda3/envs/pytorch_p36/lib/python3.6/site-packages (from boto3>=1.14.12->sagemaker==1.72.0) (0.3.4)\n",
      "Requirement already satisfied: jmespath<1.0.0,>=0.7.1 in /home/ec2-user/anaconda3/envs/pytorch_p36/lib/python3.6/site-packages (from boto3>=1.14.12->sagemaker==1.72.0) (0.10.0)\n",
      "Requirement already satisfied: urllib3<1.27,>=1.25.4 in /home/ec2-user/anaconda3/envs/pytorch_p36/lib/python3.6/site-packages (from botocore<1.20.0,>=1.19.63->boto3>=1.14.12->sagemaker==1.72.0) (1.26.2)\n",
      "Requirement already satisfied: python-dateutil<3.0.0,>=2.1 in /home/ec2-user/anaconda3/envs/pytorch_p36/lib/python3.6/site-packages (from botocore<1.20.0,>=1.19.63->boto3>=1.14.12->sagemaker==1.72.0) (2.8.1)\n",
      "Requirement already satisfied: typing-extensions>=3.6.4 in /home/ec2-user/anaconda3/envs/pytorch_p36/lib/python3.6/site-packages (from importlib-metadata>=1.4.0->sagemaker==1.72.0) (3.7.4.3)\n",
      "Requirement already satisfied: zipp>=0.5 in /home/ec2-user/anaconda3/envs/pytorch_p36/lib/python3.6/site-packages (from importlib-metadata>=1.4.0->sagemaker==1.72.0) (3.4.0)\n",
      "Requirement already satisfied: pyparsing>=2.0.2 in /home/ec2-user/anaconda3/envs/pytorch_p36/lib/python3.6/site-packages (from packaging>=20.0->sagemaker==1.72.0) (2.4.7)\n",
      "Requirement already satisfied: six>=1.9 in /home/ec2-user/anaconda3/envs/pytorch_p36/lib/python3.6/site-packages (from protobuf>=3.1->sagemaker==1.72.0) (1.15.0)\n",
      "Building wheels for collected packages: sagemaker\n",
      "  Building wheel for sagemaker (setup.py) ... \u001b[?25ldone\n",
      "\u001b[?25h  Created wheel for sagemaker: filename=sagemaker-1.72.0-py2.py3-none-any.whl size=386358 sha256=ed28414456b8ebe024428535a7eac73c5edd53c7742acd3d0d3c4b2a0a6c6825\n",
      "  Stored in directory: /home/ec2-user/.cache/pip/wheels/c3/58/70/85faf4437568bfaa4c419937569ba1fe54d44c5db42406bbd7\n",
      "Successfully built sagemaker\n",
      "Installing collected packages: smdebug-rulesconfig, sagemaker\n",
      "  Attempting uninstall: smdebug-rulesconfig\n",
      "    Found existing installation: smdebug-rulesconfig 1.0.1\n",
      "    Uninstalling smdebug-rulesconfig-1.0.1:\n",
      "      Successfully uninstalled smdebug-rulesconfig-1.0.1\n",
      "  Attempting uninstall: sagemaker\n",
      "    Found existing installation: sagemaker 2.24.1\n",
      "    Uninstalling sagemaker-2.24.1:\n",
      "      Successfully uninstalled sagemaker-2.24.1\n",
      "Successfully installed sagemaker-1.72.0 smdebug-rulesconfig-0.1.4\n",
      "\u001b[33mWARNING: You are using pip version 20.3.3; however, version 21.0.1 is available.\n",
      "You should consider upgrading via the '/home/ec2-user/anaconda3/envs/pytorch_p36/bin/python -m pip install --upgrade pip' command.\u001b[0m\n"
     ]
    }
   ],
   "source": [
    "# Make sure that we use SageMaker 1.x\n",
    "!pip install sagemaker==1.72.0"
   ]
  },
  {
   "cell_type": "markdown",
   "metadata": {},
   "source": [
    "## Step 1: Downloading the data\n",
    "\n",
    "As in the XGBoost in SageMaker notebook, we will be using the [IMDb dataset](http://ai.stanford.edu/~amaas/data/sentiment/)\n",
    "\n",
    "> Maas, Andrew L., et al. [Learning Word Vectors for Sentiment Analysis](http://ai.stanford.edu/~amaas/data/sentiment/). In _Proceedings of the 49th Annual Meeting of the Association for Computational Linguistics: Human Language Technologies_. Association for Computational Linguistics, 2011."
   ]
  },
  {
   "cell_type": "code",
   "execution_count": 2,
   "metadata": {},
   "outputs": [
    {
     "name": "stdout",
     "output_type": "stream",
     "text": [
      "mkdir: cannot create directory ‘../data’: File exists\n",
      "--2021-02-08 03:42:26--  http://ai.stanford.edu/~amaas/data/sentiment/aclImdb_v1.tar.gz\n",
      "Resolving ai.stanford.edu (ai.stanford.edu)... 171.64.68.10\n",
      "Connecting to ai.stanford.edu (ai.stanford.edu)|171.64.68.10|:80... connected.\n",
      "HTTP request sent, awaiting response... 200 OK\n",
      "Length: 84125825 (80M) [application/x-gzip]\n",
      "Saving to: ‘../data/aclImdb_v1.tar.gz’\n",
      "\n",
      "../data/aclImdb_v1. 100%[===================>]  80.23M  26.3MB/s    in 3.0s    \n",
      "\n",
      "2021-02-08 03:42:30 (26.3 MB/s) - ‘../data/aclImdb_v1.tar.gz’ saved [84125825/84125825]\n",
      "\n"
     ]
    }
   ],
   "source": [
    "%mkdir ../data\n",
    "!wget -O ../data/aclImdb_v1.tar.gz http://ai.stanford.edu/~amaas/data/sentiment/aclImdb_v1.tar.gz\n",
    "!tar -zxf ../data/aclImdb_v1.tar.gz -C ../data"
   ]
  },
  {
   "cell_type": "markdown",
   "metadata": {},
   "source": [
    "## Step 2: Preparing and Processing the data\n",
    "\n",
    "Also, as in the XGBoost notebook, we will be doing some initial data processing. The first few steps are the same as in the XGBoost example. To begin with, we will read in each of the reviews and combine them into a single input structure. Then, we will split the dataset into a training set and a testing set."
   ]
  },
  {
   "cell_type": "code",
   "execution_count": 3,
   "metadata": {},
   "outputs": [],
   "source": [
    "import os\n",
    "import glob\n",
    "\n",
    "def read_imdb_data(data_dir='../data/aclImdb'):\n",
    "    data = {}\n",
    "    labels = {}\n",
    "    \n",
    "    for data_type in ['train', 'test']:\n",
    "        data[data_type] = {}\n",
    "        labels[data_type] = {}\n",
    "        \n",
    "        for sentiment in ['pos', 'neg']:\n",
    "            data[data_type][sentiment] = []\n",
    "            labels[data_type][sentiment] = []\n",
    "            \n",
    "            path = os.path.join(data_dir, data_type, sentiment, '*.txt')\n",
    "            files = glob.glob(path)\n",
    "            \n",
    "            for f in files:\n",
    "                with open(f) as review:\n",
    "                    data[data_type][sentiment].append(review.read())\n",
    "                    # Here we represent a positive review by '1' and a negative review by '0'\n",
    "                    labels[data_type][sentiment].append(1 if sentiment == 'pos' else 0)\n",
    "                    \n",
    "            assert len(data[data_type][sentiment]) == len(labels[data_type][sentiment]), \\\n",
    "                    \"{}/{} data size does not match labels size\".format(data_type, sentiment)\n",
    "                \n",
    "    return data, labels"
   ]
  },
  {
   "cell_type": "code",
   "execution_count": 4,
   "metadata": {},
   "outputs": [
    {
     "name": "stdout",
     "output_type": "stream",
     "text": [
      "IMDB reviews: train = 12500 pos / 12500 neg, test = 12500 pos / 12500 neg\n"
     ]
    }
   ],
   "source": [
    "data, labels = read_imdb_data()\n",
    "print(\"IMDB reviews: train = {} pos / {} neg, test = {} pos / {} neg\".format(\n",
    "            len(data['train']['pos']), len(data['train']['neg']),\n",
    "            len(data['test']['pos']), len(data['test']['neg'])))"
   ]
  },
  {
   "cell_type": "markdown",
   "metadata": {},
   "source": [
    "Now that we've read the raw training and testing data from the downloaded dataset, we will combine the positive and negative reviews and shuffle the resulting records."
   ]
  },
  {
   "cell_type": "code",
   "execution_count": 5,
   "metadata": {},
   "outputs": [],
   "source": [
    "from sklearn.utils import shuffle\n",
    "\n",
    "def prepare_imdb_data(data, labels):\n",
    "    \"\"\"Prepare training and test sets from IMDb movie reviews.\"\"\"\n",
    "    \n",
    "    #Combine positive and negative reviews and labels\n",
    "    data_train = data['train']['pos'] + data['train']['neg']\n",
    "    data_test = data['test']['pos'] + data['test']['neg']\n",
    "    labels_train = labels['train']['pos'] + labels['train']['neg']\n",
    "    labels_test = labels['test']['pos'] + labels['test']['neg']\n",
    "    \n",
    "    #Shuffle reviews and corresponding labels within training and test sets\n",
    "    data_train, labels_train = shuffle(data_train, labels_train)\n",
    "    data_test, labels_test = shuffle(data_test, labels_test)\n",
    "    \n",
    "    # Return a unified training data, test data, training labels, test labets\n",
    "    return data_train, data_test, labels_train, labels_test"
   ]
  },
  {
   "cell_type": "code",
   "execution_count": 6,
   "metadata": {},
   "outputs": [
    {
     "name": "stdout",
     "output_type": "stream",
     "text": [
      "IMDb reviews (combined): train = 25000, test = 25000\n"
     ]
    }
   ],
   "source": [
    "train_X, test_X, train_y, test_y = prepare_imdb_data(data, labels)\n",
    "print(\"IMDb reviews (combined): train = {}, test = {}\".format(len(train_X), len(test_X)))"
   ]
  },
  {
   "cell_type": "markdown",
   "metadata": {},
   "source": [
    "Now that we have our training and testing sets unified and prepared, we should do a quick check and see an example of the data our model will be trained on. This is generally a good idea as it allows you to see how each of the further processing steps affects the reviews and it also ensures that the data has been loaded correctly."
   ]
  },
  {
   "cell_type": "code",
   "execution_count": 7,
   "metadata": {},
   "outputs": [
    {
     "name": "stdout",
     "output_type": "stream",
     "text": [
      "This film is shoddily-made, unoriginal garbage. I like romantic comedies sometimes. Watching a good one is like eating ice cream for dinner. It's not something you are going to do all the time, but the experience is so pleasurable that you can ignore how unwise you are being. This movie made me think about how stupid I was for continuing to remain seated for its entire running time. Everything about it screamed made on the cheap. It actually looks like they overexposed the film at certain points it is so washed out. It boasts cheesy CGI and lame sets, too.<br /><br />The writing was clunky. I know that you can usually expect some plot problems in a screwball comedy, but you usually don't really care because you are laughing. This movie is so unfunny that you actually sit there and wonder about the unlikely series of coincidences and completely unbelievable behavior involved. Events were placed in the film just to move the characters from one scene to the next or to provide exposition. Sure, this is how all movies work, but you shouldn't notice that it's happening. Inelegant. That's the term I should use.<br /><br />There was almost no one in the movie who was really likable. I didn't care who ended up with whom, as long as they all stayed the hell away from me, and I didn't have to listen to them talk about it anymore. Why would the only really cool character in the movie, the Paul Rudd character, want to have anything to do with the completely bitchy, condescending, control freak played by Eva Longoria? Also, almost all of the characters involved consistently picked the sleaziest solution to any situation. A straight man pretends to be gay for five years just to hang out (and bathe with) with a woman he is attracted to? The best feel-good moment they could come up with was to tack on a happy ending for the same schmoe where he gets together with Rudd's equally annoying lying, kleptomaniac sister? Lake Bell and Eva Longoria are very attractive, appealing women. Maybe they will find something better to appear in down the road.\n",
      "0\n"
     ]
    }
   ],
   "source": [
    "print(train_X[100])\n",
    "print(train_y[100])"
   ]
  },
  {
   "cell_type": "markdown",
   "metadata": {},
   "source": [
    "The first step in processing the reviews is to make sure that any html tags that appear should be removed. In addition we wish to tokenize our input, that way words such as *entertained* and *entertaining* are considered the same with regard to sentiment analysis."
   ]
  },
  {
   "cell_type": "code",
   "execution_count": 8,
   "metadata": {},
   "outputs": [],
   "source": [
    "import nltk\n",
    "from nltk.corpus import stopwords\n",
    "from nltk.stem.porter import *\n",
    "\n",
    "import re\n",
    "from bs4 import BeautifulSoup\n",
    "\n",
    "def review_to_words(review):\n",
    "    nltk.download(\"stopwords\", quiet=True)\n",
    "    stemmer = PorterStemmer()\n",
    "    \n",
    "    text = BeautifulSoup(review, \"html.parser\").get_text() # Remove HTML tags\n",
    "    text = re.sub(r\"[^a-zA-Z0-9]\", \" \", text.lower()) # Convert to lower case\n",
    "    words = text.split() # Split string into words\n",
    "    words = [w for w in words if w not in stopwords.words(\"english\")] # Remove stopwords\n",
    "    words = [PorterStemmer().stem(w) for w in words] # stem\n",
    "    \n",
    "    return words"
   ]
  },
  {
   "cell_type": "markdown",
   "metadata": {},
   "source": [
    "The `review_to_words` method defined above uses `BeautifulSoup` to remove any html tags that appear and uses the `nltk` package to tokenize the reviews. As a check to ensure we know how everything is working, try applying `review_to_words` to one of the reviews in the training set."
   ]
  },
  {
   "cell_type": "code",
   "execution_count": 9,
   "metadata": {},
   "outputs": [
    {
     "name": "stdout",
     "output_type": "stream",
     "text": [
      "['film', 'shoddili', 'made', 'unorigin', 'garbag', 'like', 'romant', 'comedi', 'sometim', 'watch', 'good', 'one', 'like', 'eat', 'ice', 'cream', 'dinner', 'someth', 'go', 'time', 'experi', 'pleasur', 'ignor', 'unwis', 'movi', 'made', 'think', 'stupid', 'continu', 'remain', 'seat', 'entir', 'run', 'time', 'everyth', 'scream', 'made', 'cheap', 'actual', 'look', 'like', 'overexpos', 'film', 'certain', 'point', 'wash', 'boast', 'cheesi', 'cgi', 'lame', 'set', 'write', 'clunki', 'know', 'usual', 'expect', 'plot', 'problem', 'screwbal', 'comedi', 'usual', 'realli', 'care', 'laugh', 'movi', 'unfunni', 'actual', 'sit', 'wonder', 'unlik', 'seri', 'coincid', 'complet', 'unbeliev', 'behavior', 'involv', 'event', 'place', 'film', 'move', 'charact', 'one', 'scene', 'next', 'provid', 'exposit', 'sure', 'movi', 'work', 'notic', 'happen', 'ineleg', 'term', 'use', 'almost', 'one', 'movi', 'realli', 'likabl', 'care', 'end', 'long', 'stay', 'hell', 'away', 'listen', 'talk', 'anymor', 'would', 'realli', 'cool', 'charact', 'movi', 'paul', 'rudd', 'charact', 'want', 'anyth', 'complet', 'bitchi', 'condescend', 'control', 'freak', 'play', 'eva', 'longoria', 'also', 'almost', 'charact', 'involv', 'consist', 'pick', 'sleaziest', 'solut', 'situat', 'straight', 'man', 'pretend', 'gay', 'five', 'year', 'hang', 'bath', 'woman', 'attract', 'best', 'feel', 'good', 'moment', 'could', 'come', 'tack', 'happi', 'end', 'schmoe', 'get', 'togeth', 'rudd', 'equal', 'annoy', 'lie', 'kleptomaniac', 'sister', 'lake', 'bell', 'eva', 'longoria', 'attract', 'appeal', 'women', 'mayb', 'find', 'someth', 'better', 'appear', 'road']\n"
     ]
    }
   ],
   "source": [
    "# TODO: Apply review_to_words to a review (train_X[100] or any other review)\n",
    "print(review_to_words(train_X[100]))"
   ]
  },
  {
   "cell_type": "markdown",
   "metadata": {},
   "source": [
    "**Question:** Above we mentioned that `review_to_words` method removes html formatting and allows us to tokenize the words found in a review, for example, converting *entertained* and *entertaining* into *entertain* so that they are treated as though they are the same word. What else, if anything, does this method do to the input?"
   ]
  },
  {
   "cell_type": "markdown",
   "metadata": {},
   "source": [
    "**Answer:**\n",
    "First, the method removes any special html characters or tags from the input. Then it converts the input to lower case and split the sentence into multiple words. After, it removes stop words (words without much meaning). Lastly, it applies Porter Stemming to the words which is like normalization on words. "
   ]
  },
  {
   "cell_type": "markdown",
   "metadata": {},
   "source": [
    "The method below applies the `review_to_words` method to each of the reviews in the training and testing datasets. In addition it caches the results. This is because performing this processing step can take a long time. This way if you are unable to complete the notebook in the current session, you can come back without needing to process the data a second time."
   ]
  },
  {
   "cell_type": "code",
   "execution_count": 10,
   "metadata": {},
   "outputs": [],
   "source": [
    "import pickle\n",
    "\n",
    "cache_dir = os.path.join(\"../cache\", \"sentiment_analysis\")  # where to store cache files\n",
    "os.makedirs(cache_dir, exist_ok=True)  # ensure cache directory exists\n",
    "\n",
    "def preprocess_data(data_train, data_test, labels_train, labels_test,\n",
    "                    cache_dir=cache_dir, cache_file=\"preprocessed_data.pkl\"):\n",
    "    \"\"\"Convert each review to words; read from cache if available.\"\"\"\n",
    "\n",
    "    # If cache_file is not None, try to read from it first\n",
    "    cache_data = None\n",
    "    if cache_file is not None:\n",
    "        try:\n",
    "            with open(os.path.join(cache_dir, cache_file), \"rb\") as f:\n",
    "                cache_data = pickle.load(f)\n",
    "            print(\"Read preprocessed data from cache file:\", cache_file)\n",
    "        except:\n",
    "            pass  # unable to read from cache, but that's okay\n",
    "    \n",
    "    # If cache is missing, then do the heavy lifting\n",
    "    if cache_data is None:\n",
    "        # Preprocess training and test data to obtain words for each review\n",
    "        #words_train = list(map(review_to_words, data_train))\n",
    "        #words_test = list(map(review_to_words, data_test))\n",
    "        words_train = [review_to_words(review) for review in data_train]\n",
    "        words_test = [review_to_words(review) for review in data_test]\n",
    "        \n",
    "        # Write to cache file for future runs\n",
    "        if cache_file is not None:\n",
    "            cache_data = dict(words_train=words_train, words_test=words_test,\n",
    "                              labels_train=labels_train, labels_test=labels_test)\n",
    "            with open(os.path.join(cache_dir, cache_file), \"wb\") as f:\n",
    "                pickle.dump(cache_data, f)\n",
    "            print(\"Wrote preprocessed data to cache file:\", cache_file)\n",
    "    else:\n",
    "        # Unpack data loaded from cache file\n",
    "        words_train, words_test, labels_train, labels_test = (cache_data['words_train'],\n",
    "                cache_data['words_test'], cache_data['labels_train'], cache_data['labels_test'])\n",
    "    \n",
    "    return words_train, words_test, labels_train, labels_test"
   ]
  },
  {
   "cell_type": "code",
   "execution_count": 11,
   "metadata": {},
   "outputs": [
    {
     "name": "stdout",
     "output_type": "stream",
     "text": [
      "Read preprocessed data from cache file: preprocessed_data.pkl\n"
     ]
    }
   ],
   "source": [
    "# Preprocess data\n",
    "train_X, test_X, train_y, test_y = preprocess_data(train_X, test_X, train_y, test_y)"
   ]
  },
  {
   "cell_type": "markdown",
   "metadata": {},
   "source": [
    "## Transform the data\n",
    "\n",
    "In the XGBoost notebook we transformed the data from its word representation to a bag-of-words feature representation. For the model we are going to construct in this notebook we will construct a feature representation which is very similar. To start, we will represent each word as an integer. Of course, some of the words that appear in the reviews occur very infrequently and so likely don't contain much information for the purposes of sentiment analysis. The way we will deal with this problem is that we will fix the size of our working vocabulary and we will only include the words that appear most frequently. We will then combine all of the infrequent words into a single category and, in our case, we will label it as `1`.\n",
    "\n",
    "Since we will be using a recurrent neural network, it will be convenient if the length of each review is the same. To do this, we will fix a size for our reviews and then pad short reviews with the category 'no word' (which we will label `0`) and truncate long reviews."
   ]
  },
  {
   "cell_type": "markdown",
   "metadata": {},
   "source": [
    "### (TODO) Create a word dictionary\n",
    "\n",
    "To begin with, we need to construct a way to map words that appear in the reviews to integers. Here we fix the size of our vocabulary (including the 'no word' and 'infrequent' categories) to be `5000` but you may wish to change this to see how it affects the model.\n",
    "\n",
    "> **TODO:** Complete the implementation for the `build_dict()` method below. Note that even though the vocab_size is set to `5000`, we only want to construct a mapping for the most frequently appearing `4998` words. This is because we want to reserve the special labels `0` for 'no word' and `1` for 'infrequent word'."
   ]
  },
  {
   "cell_type": "code",
   "execution_count": 12,
   "metadata": {},
   "outputs": [],
   "source": [
    "import numpy as np\n",
    "from collections import defaultdict\n",
    "\n",
    "def build_dict(data, vocab_size = 5000):\n",
    "    \"\"\"Construct and return a dictionary mapping each of the most frequently appearing words to a unique integer.\"\"\"\n",
    "    \n",
    "    # TODO: Determine how often each word appears in `data`. Note that `data` is a list of sentences and that a\n",
    "    #       sentence is a list of words.\n",
    "    # A dict storing the words that appear in the reviews along with how often they occur\n",
    "    word_count = {} \n",
    "    for each_review in data:\n",
    "        for each_word in each_review:\n",
    "            if each_word not in word_count:\n",
    "                word_count[each_word] = 1\n",
    "            else:\n",
    "                word_count[each_word] += 1\n",
    "            \n",
    "    # TODO: Sort the words found in `data` so that sorted_words[0] is the most frequently appearing word and\n",
    "    #       sorted_words[-1] is the least frequently appearing word.\n",
    "    sorted_words = list(k[0] for k in sorted(word_count.items(), key = lambda x: -x[1]))\n",
    "    #print(sorted_words) \n",
    "    \n",
    "    word_dict = {} # This is what we are building, a dictionary that translates words into integers\n",
    "    for idx, word in enumerate(sorted_words[:vocab_size - 2]): # The -2 is so that we save room for the 'no word'\n",
    "        word_dict[word] = idx + 2                              # 'infrequent' labels\n",
    "    print(word_dict)\n",
    "    return word_dict"
   ]
  },
  {
   "cell_type": "code",
   "execution_count": 13,
   "metadata": {},
   "outputs": [
    {
     "name": "stdout",
     "output_type": "stream",
     "text": [
      "{'movi': 2, 'film': 3, 'one': 4, 'like': 5, 'time': 6, 'good': 7, 'make': 8, 'charact': 9, 'get': 10, 'see': 11, 'watch': 12, 'stori': 13, 'even': 14, 'would': 15, 'realli': 16, 'well': 17, 'scene': 18, 'look': 19, 'show': 20, 'much': 21, 'end': 22, 'peopl': 23, 'bad': 24, 'go': 25, 'great': 26, 'also': 27, 'first': 28, 'love': 29, 'think': 30, 'way': 31, 'act': 32, 'play': 33, 'made': 34, 'thing': 35, 'could': 36, 'know': 37, 'say': 38, 'seem': 39, 'work': 40, 'plot': 41, 'two': 42, 'actor': 43, 'year': 44, 'come': 45, 'mani': 46, 'seen': 47, 'take': 48, 'life': 49, 'want': 50, 'never': 51, 'littl': 52, 'best': 53, 'tri': 54, 'man': 55, 'ever': 56, 'give': 57, 'better': 58, 'still': 59, 'perform': 60, 'find': 61, 'feel': 62, 'part': 63, 'back': 64, 'use': 65, 'someth': 66, 'director': 67, 'actual': 68, 'interest': 69, 'lot': 70, 'real': 71, 'old': 72, 'cast': 73, 'though': 74, 'live': 75, 'star': 76, 'enjoy': 77, 'guy': 78, 'anoth': 79, 'new': 80, 'role': 81, 'noth': 82, '10': 83, 'funni': 84, 'music': 85, 'point': 86, 'start': 87, 'set': 88, 'girl': 89, 'origin': 90, 'day': 91, 'world': 92, 'everi': 93, 'believ': 94, 'turn': 95, 'quit': 96, 'us': 97, 'direct': 98, 'thought': 99, 'fact': 100, 'minut': 101, 'horror': 102, 'kill': 103, 'action': 104, 'comedi': 105, 'pretti': 106, 'young': 107, 'wonder': 108, 'happen': 109, 'around': 110, 'got': 111, 'effect': 112, 'right': 113, 'long': 114, 'howev': 115, 'big': 116, 'line': 117, 'famili': 118, 'enough': 119, 'seri': 120, 'may': 121, 'need': 122, 'fan': 123, 'bit': 124, 'script': 125, 'beauti': 126, 'person': 127, 'becom': 128, 'without': 129, 'must': 130, 'alway': 131, 'friend': 132, 'tell': 133, 'reason': 134, 'saw': 135, 'last': 136, 'final': 137, 'kid': 138, 'almost': 139, 'put': 140, 'least': 141, 'sure': 142, 'done': 143, 'whole': 144, 'place': 145, 'complet': 146, 'kind': 147, 'differ': 148, 'expect': 149, 'shot': 150, 'far': 151, 'mean': 152, 'anyth': 153, 'book': 154, 'laugh': 155, 'might': 156, 'name': 157, 'sinc': 158, 'begin': 159, '2': 160, 'probabl': 161, 'woman': 162, 'help': 163, 'entertain': 164, 'let': 165, 'screen': 166, 'call': 167, 'tv': 168, 'moment': 169, 'away': 170, 'read': 171, 'yet': 172, 'rather': 173, 'worst': 174, 'run': 175, 'fun': 176, 'lead': 177, 'hard': 178, 'audienc': 179, 'idea': 180, 'anyon': 181, 'episod': 182, 'american': 183, 'found': 184, 'appear': 185, 'bore': 186, 'especi': 187, 'although': 188, 'hope': 189, 'cours': 190, 'keep': 191, 'anim': 192, 'job': 193, 'goe': 194, 'move': 195, 'sens': 196, 'dvd': 197, 'version': 198, 'war': 199, 'money': 200, 'someon': 201, 'mind': 202, 'mayb': 203, 'problem': 204, 'true': 205, 'hous': 206, 'everyth': 207, 'nice': 208, 'second': 209, 'rate': 210, 'three': 211, 'night': 212, 'face': 213, 'follow': 214, 'recommend': 215, 'main': 216, 'product': 217, 'worth': 218, 'leav': 219, 'human': 220, 'special': 221, 'excel': 222, 'togeth': 223, 'wast': 224, 'everyon': 225, 'sound': 226, 'john': 227, 'hand': 228, '1': 229, 'father': 230, 'later': 231, 'eye': 232, 'said': 233, 'view': 234, 'instead': 235, 'review': 236, 'boy': 237, 'high': 238, 'hour': 239, 'miss': 240, 'talk': 241, 'classic': 242, 'wife': 243, 'understand': 244, 'left': 245, 'care': 246, 'black': 247, 'death': 248, 'open': 249, 'murder': 250, 'write': 251, 'half': 252, 'head': 253, 'rememb': 254, 'chang': 255, 'viewer': 256, 'fight': 257, 'gener': 258, 'surpris': 259, 'includ': 260, 'short': 261, 'die': 262, 'fall': 263, 'less': 264, 'els': 265, 'entir': 266, 'piec': 267, 'involv': 268, 'pictur': 269, 'simpli': 270, 'power': 271, 'top': 272, 'home': 273, 'total': 274, 'usual': 275, 'budget': 276, 'attempt': 277, 'suppos': 278, 'releas': 279, 'hollywood': 280, 'terribl': 281, 'song': 282, 'men': 283, 'possibl': 284, 'featur': 285, 'portray': 286, 'disappoint': 287, '3': 288, 'poor': 289, 'coupl': 290, 'stupid': 291, 'camera': 292, 'dead': 293, 'wrong': 294, 'low': 295, 'produc': 296, 'video': 297, 'either': 298, 'aw': 299, 'definit': 300, 'except': 301, 'rest': 302, 'given': 303, 'absolut': 304, 'women': 305, 'lack': 306, 'word': 307, 'writer': 308, 'titl': 309, 'talent': 310, 'decid': 311, 'full': 312, 'perfect': 313, 'along': 314, 'style': 315, 'close': 316, 'truli': 317, 'school': 318, 'emot': 319, 'save': 320, 'sex': 321, 'age': 322, 'next': 323, 'bring': 324, 'mr': 325, 'case': 326, 'killer': 327, 'heart': 328, 'comment': 329, 'sort': 330, 'creat': 331, 'perhap': 332, 'came': 333, 'brother': 334, 'sever': 335, 'joke': 336, 'art': 337, 'dialogu': 338, 'game': 339, 'small': 340, 'base': 341, 'flick': 342, 'written': 343, 'sequenc': 344, 'meet': 345, 'earli': 346, 'often': 347, 'other': 348, 'mother': 349, 'develop': 350, 'humor': 351, 'actress': 352, 'consid': 353, 'dark': 354, 'guess': 355, 'amaz': 356, 'unfortun': 357, 'lost': 358, 'light': 359, 'exampl': 360, 'cinema': 361, 'drama': 362, 'ye': 363, 'white': 364, 'experi': 365, 'imagin': 366, 'mention': 367, 'stop': 368, 'natur': 369, 'forc': 370, 'manag': 371, 'felt': 372, 'cut': 373, 'present': 374, 'children': 375, 'fail': 376, 'son': 377, 'support': 378, 'car': 379, 'qualiti': 380, 'ask': 381, 'hit': 382, 'side': 383, 'voic': 384, 'extrem': 385, 'impress': 386, 'evil': 387, 'wors': 388, 'went': 389, 'stand': 390, 'certainli': 391, 'basic': 392, 'oh': 393, 'overal': 394, 'favorit': 395, 'horribl': 396, 'mysteri': 397, 'number': 398, 'type': 399, 'danc': 400, 'wait': 401, 'hero': 402, '5': 403, 'alreadi': 404, 'learn': 405, 'matter': 406, '4': 407, 'michael': 408, 'genr': 409, 'fine': 410, 'despit': 411, 'throughout': 412, 'walk': 413, 'success': 414, 'histori': 415, 'question': 416, 'zombi': 417, 'town': 418, 'relationship': 419, 'realiz': 420, 'child': 421, 'past': 422, 'daughter': 423, 'late': 424, 'b': 425, 'wish': 426, 'credit': 427, 'hate': 428, 'event': 429, 'theme': 430, 'touch': 431, 'citi': 432, 'today': 433, 'sometim': 434, 'behind': 435, 'god': 436, 'twist': 437, 'sit': 438, 'deal': 439, 'stay': 440, 'annoy': 441, 'abl': 442, 'rent': 443, 'pleas': 444, 'edit': 445, 'blood': 446, 'deserv': 447, 'comic': 448, 'anyway': 449, 'appar': 450, 'soon': 451, 'gave': 452, 'etc': 453, 'level': 454, 'slow': 455, 'chanc': 456, 'score': 457, 'bodi': 458, 'brilliant': 459, 'incred': 460, 'figur': 461, 'situat': 462, 'major': 463, 'self': 464, 'stuff': 465, 'decent': 466, 'element': 467, 'dream': 468, 'return': 469, 'obvious': 470, 'order': 471, 'continu': 472, 'pace': 473, 'ridicul': 474, 'happi': 475, 'highli': 476, 'group': 477, 'add': 478, 'thank': 479, 'ladi': 480, 'novel': 481, 'speak': 482, 'pain': 483, 'career': 484, 'shoot': 485, 'strang': 486, 'heard': 487, 'sad': 488, 'polic': 489, 'husband': 490, 'import': 491, 'break': 492, 'took': 493, 'strong': 494, 'cannot': 495, 'robert': 496, 'predict': 497, 'violenc': 498, 'hilari': 499, 'recent': 500, 'countri': 501, 'known': 502, 'particularli': 503, 'pick': 504, 'documentari': 505, 'season': 506, 'critic': 507, 'jame': 508, 'compar': 509, 'obviou': 510, 'alon': 511, 'told': 512, 'state': 513, 'visual': 514, 'rock': 515, 'exist': 516, 'theater': 517, 'offer': 518, 'opinion': 519, 'gore': 520, 'hold': 521, 'crap': 522, 'result': 523, 'hear': 524, 'room': 525, 'realiti': 526, 'effort': 527, 'clich': 528, 'thriller': 529, 'caus': 530, 'explain': 531, 'serious': 532, 'sequel': 533, 'king': 534, 'local': 535, 'ago': 536, 'none': 537, 'hell': 538, 'note': 539, 'allow': 540, 'david': 541, 'sister': 542, 'simpl': 543, 'femal': 544, 'deliv': 545, 'ok': 546, 'class': 547, 'convinc': 548, 'check': 549, 'suspens': 550, 'win': 551, 'buy': 552, 'oscar': 553, 'huge': 554, 'valu': 555, 'sexual': 556, 'cool': 557, 'scari': 558, 'excit': 559, 'similar': 560, 'exactli': 561, 'provid': 562, 'apart': 563, 'avoid': 564, 'shown': 565, 'seriou': 566, 'english': 567, 'whose': 568, 'taken': 569, 'cinematographi': 570, 'shock': 571, 'polit': 572, 'spoiler': 573, 'offic': 574, 'across': 575, 'middl': 576, 'pass': 577, 'street': 578, 'messag': 579, 'somewhat': 580, 'silli': 581, 'charm': 582, 'modern': 583, 'confus': 584, 'filmmak': 585, 'form': 586, 'tale': 587, 'singl': 588, 'jack': 589, 'mostli': 590, 'william': 591, 'carri': 592, 'attent': 593, 'sing': 594, 'subject': 595, 'five': 596, 'prove': 597, 'richard': 598, 'stage': 599, 'team': 600, 'cop': 601, 'unlik': 602, 'georg': 603, 'monster': 604, 'televis': 605, 'earth': 606, 'villain': 607, 'cover': 608, 'pay': 609, 'marri': 610, 'toward': 611, 'build': 612, 'pull': 613, 'parent': 614, 'due': 615, 'respect': 616, 'fill': 617, 'dialog': 618, 'four': 619, 'remind': 620, 'futur': 621, 'typic': 622, 'weak': 623, '7': 624, 'cheap': 625, 'intellig': 626, 'atmospher': 627, 'british': 628, '80': 629, 'clearli': 630, 'paul': 631, 'dog': 632, 'non': 633, '8': 634, 'knew': 635, 'fast': 636, 'artist': 637, 'crime': 638, 'easili': 639, 'escap': 640, 'doubt': 641, 'adult': 642, 'detail': 643, 'date': 644, 'member': 645, 'fire': 646, 'romant': 647, 'gun': 648, 'drive': 649, 'straight': 650, 'fit': 651, 'beyond': 652, 'attack': 653, 'imag': 654, 'upon': 655, 'posit': 656, 'whether': 657, 'fantast': 658, 'peter': 659, 'appreci': 660, 'captur': 661, 'aspect': 662, 'ten': 663, 'plan': 664, 'discov': 665, 'remain': 666, 'near': 667, 'period': 668, 'realist': 669, 'air': 670, 'mark': 671, 'red': 672, 'dull': 673, 'adapt': 674, 'within': 675, 'spend': 676, 'lose': 677, 'materi': 678, 'color': 679, 'chase': 680, 'mari': 681, 'storylin': 682, 'forget': 683, 'bunch': 684, 'clear': 685, 'lee': 686, 'victim': 687, 'nearli': 688, 'box': 689, 'york': 690, 'inspir': 691, 'match': 692, 'mess': 693, 'finish': 694, 'standard': 695, 'easi': 696, 'truth': 697, 'suffer': 698, 'busi': 699, 'space': 700, 'dramat': 701, 'bill': 702, 'western': 703, 'e': 704, 'list': 705, 'battl': 706, 'notic': 707, 'de': 708, 'french': 709, 'ad': 710, '9': 711, 'tom': 712, 'larg': 713, 'among': 714, 'eventu': 715, 'accept': 716, 'train': 717, 'agre': 718, 'soundtrack': 719, 'spirit': 720, 'third': 721, 'teenag': 722, 'soldier': 723, 'adventur': 724, 'drug': 725, 'suggest': 726, 'sorri': 727, 'famou': 728, 'cri': 729, 'babi': 730, 'normal': 731, 'ultim': 732, 'troubl': 733, 'contain': 734, 'certain': 735, 'cultur': 736, 'romanc': 737, 'rare': 738, 'lame': 739, 'somehow': 740, 'disney': 741, 'mix': 742, 'gone': 743, 'cartoon': 744, 'student': 745, 'reveal': 746, 'fear': 747, 'kept': 748, 'suck': 749, 'attract': 750, 'appeal': 751, 'premis': 752, 'design': 753, 'secret': 754, 'greatest': 755, 'shame': 756, 'throw': 757, 'scare': 758, 'copi': 759, 'wit': 760, 'admit': 761, 'america': 762, 'relat': 763, 'brought': 764, 'particular': 765, 'screenplay': 766, 'whatev': 767, 'pure': 768, '70': 769, 'averag': 770, 'harri': 771, 'master': 772, 'describ': 773, 'male': 774, 'treat': 775, '20': 776, 'issu': 777, 'fantasi': 778, 'warn': 779, 'inde': 780, 'forward': 781, 'background': 782, 'project': 783, 'free': 784, 'japanes': 785, 'memor': 786, 'poorli': 787, 'award': 788, 'locat': 789, 'amus': 790, 'potenti': 791, 'struggl': 792, 'weird': 793, 'magic': 794, 'societi': 795, 'okay': 796, 'imdb': 797, 'doctor': 798, 'accent': 799, 'hot': 800, 'water': 801, 'dr': 802, 'alien': 803, 'express': 804, '30': 805, 'odd': 806, 'crazi': 807, 'choic': 808, 'fiction': 809, 'studio': 810, 'control': 811, 'becam': 812, 'masterpiec': 813, 'difficult': 814, 'fli': 815, 'joe': 816, 'scream': 817, 'costum': 818, 'lover': 819, 'refer': 820, 'uniqu': 821, 'remak': 822, 'vampir': 823, 'girlfriend': 824, 'prison': 825, 'execut': 826, 'wear': 827, 'jump': 828, 'unless': 829, 'wood': 830, 'creepi': 831, 'cheesi': 832, 'superb': 833, 'otherwis': 834, 'parti': 835, 'roll': 836, 'ghost': 837, 'public': 838, 'mad': 839, 'depict': 840, 'moral': 841, 'week': 842, 'earlier': 843, 'jane': 844, 'badli': 845, 'dumb': 846, 'fi': 847, 'grow': 848, 'flaw': 849, 'deep': 850, 'sci': 851, 'cat': 852, 'maker': 853, 'older': 854, 'footag': 855, 'connect': 856, 'plenti': 857, 'bother': 858, 'outsid': 859, 'stick': 860, 'gay': 861, 'catch': 862, 'co': 863, 'plu': 864, 'popular': 865, 'equal': 866, 'social': 867, 'quickli': 868, 'disturb': 869, 'perfectli': 870, 'dress': 871, 'era': 872, '90': 873, 'mistak': 874, 'lie': 875, 'ride': 876, 'previou': 877, 'combin': 878, 'concept': 879, 'band': 880, 'surviv': 881, 'rich': 882, 'answer': 883, 'front': 884, 'sweet': 885, 'christma': 886, 'insid': 887, 'concern': 888, 'bare': 889, 'eat': 890, 'ben': 891, 'listen': 892, 'beat': 893, 'c': 894, 'serv': 895, 'term': 896, 'meant': 897, 'la': 898, 'german': 899, 'hardli': 900, 'stereotyp': 901, 'innoc': 902, 'law': 903, 'desper': 904, 'promis': 905, 'memori': 906, 'intent': 907, 'cute': 908, 'inform': 909, 'steal': 910, 'variou': 911, 'brain': 912, 'post': 913, 'tone': 914, 'island': 915, 'amount': 916, 'nuditi': 917, 'track': 918, 'compani': 919, 'claim': 920, 'store': 921, 'flat': 922, 'hair': 923, '50': 924, 'univers': 925, 'land': 926, 'danger': 927, 'fairli': 928, 'kick': 929, 'scott': 930, 'player': 931, 'plain': 932, 'step': 933, 'crew': 934, 'toni': 935, 'share': 936, 'centuri': 937, 'tast': 938, 'achiev': 939, 'engag': 940, 'travel': 941, 'cold': 942, 'record': 943, 'rip': 944, 'suit': 945, 'sadli': 946, 'manner': 947, 'spot': 948, 'tension': 949, 'wrote': 950, 'fascin': 951, 'intens': 952, 'familiar': 953, 'depth': 954, 'burn': 955, 'remark': 956, 'destroy': 957, 'histor': 958, 'sleep': 959, 'purpos': 960, 'languag': 961, 'ignor': 962, 'ruin': 963, 'delight': 964, 'unbeliev': 965, 'italian': 966, 'soul': 967, 'collect': 968, 'abil': 969, 'clever': 970, 'detect': 971, 'violent': 972, 'rape': 973, 'reach': 974, 'door': 975, 'trash': 976, 'scienc': 977, 'liter': 978, 'reveng': 979, 'caught': 980, 'commun': 981, 'creatur': 982, 'trip': 983, 'approach': 984, 'fashion': 985, 'intrigu': 986, 'skill': 987, 'paint': 988, 'introduc': 989, 'complex': 990, 'channel': 991, 'camp': 992, 'christian': 993, 'hole': 994, 'extra': 995, 'mental': 996, 'ann': 997, 'immedi': 998, 'limit': 999, 'mere': 1000, 'comput': 1001, '6': 1002, 'slightli': 1003, 'million': 1004, 'slasher': 1005, 'conclus': 1006, 'imposs': 1007, 'suddenli': 1008, 'crimin': 1009, 'neither': 1010, 'teen': 1011, 'physic': 1012, 'spent': 1013, 'nation': 1014, 'respons': 1015, 'planet': 1016, 'fake': 1017, 'receiv': 1018, 'blue': 1019, 'sick': 1020, 'bizarr': 1021, 'embarrass': 1022, 'indian': 1023, '15': 1024, 'ring': 1025, 'pop': 1026, 'drop': 1027, 'drag': 1028, 'haunt': 1029, 'suspect': 1030, 'pointless': 1031, 'edg': 1032, 'search': 1033, 'handl': 1034, 'biggest': 1035, 'common': 1036, 'hurt': 1037, 'faith': 1038, 'arriv': 1039, 'technic': 1040, 'angel': 1041, 'genuin': 1042, 'dad': 1043, 'solid': 1044, 'awesom': 1045, 'f': 1046, 'colleg': 1047, 'van': 1048, 'former': 1049, 'focu': 1050, 'count': 1051, 'tear': 1052, 'heavi': 1053, 'rais': 1054, 'wall': 1055, 'younger': 1056, 'visit': 1057, 'laughabl': 1058, 'fair': 1059, 'excus': 1060, 'sign': 1061, 'cult': 1062, 'tough': 1063, 'key': 1064, 'motion': 1065, 'desir': 1066, 'super': 1067, 'stun': 1068, 'addit': 1069, 'cloth': 1070, 'exploit': 1071, 'tortur': 1072, 'smith': 1073, 'davi': 1074, 'race': 1075, 'author': 1076, 'cross': 1077, 'jim': 1078, 'minor': 1079, 'compel': 1080, 'focus': 1081, 'consist': 1082, 'pathet': 1083, 'chemistri': 1084, 'commit': 1085, 'park': 1086, 'frank': 1087, 'obsess': 1088, 'tradit': 1089, 'grade': 1090, 'asid': 1091, '60': 1092, 'brutal': 1093, 'somewher': 1094, 'steve': 1095, 'opportun': 1096, 'grant': 1097, 'u': 1098, 'rule': 1099, 'depress': 1100, 'explor': 1101, 'besid': 1102, 'honest': 1103, 'dub': 1104, 'anti': 1105, 'trailer': 1106, 'intend': 1107, 'bar': 1108, 'longer': 1109, 'west': 1110, 'regard': 1111, 'scientist': 1112, 'judg': 1113, 'decad': 1114, 'silent': 1115, 'armi': 1116, 'creativ': 1117, 'wild': 1118, 'south': 1119, 'g': 1120, 'stewart': 1121, 'draw': 1122, 'road': 1123, 'govern': 1124, 'boss': 1125, 'ex': 1126, 'practic': 1127, 'club': 1128, 'surprisingli': 1129, 'motiv': 1130, 'festiv': 1131, 'gang': 1132, 'redeem': 1133, 'green': 1134, 'london': 1135, 'page': 1136, 'idiot': 1137, 'machin': 1138, 'militari': 1139, 'display': 1140, 'aliv': 1141, 'repeat': 1142, 'thrill': 1143, '100': 1144, 'yeah': 1145, 'folk': 1146, 'nobodi': 1147, '40': 1148, 'journey': 1149, 'garbag': 1150, 'tire': 1151, 'ground': 1152, 'smile': 1153, 'bought': 1154, 'mood': 1155, 'sam': 1156, 'cost': 1157, 'stone': 1158, 'mouth': 1159, 'noir': 1160, 'terrif': 1161, 'agent': 1162, 'requir': 1163, 'utterli': 1164, 'area': 1165, 'sexi': 1166, 'honestli': 1167, 'geniu': 1168, 'report': 1169, 'humour': 1170, 'enter': 1171, 'glad': 1172, 'investig': 1173, 'serial': 1174, 'narr': 1175, 'passion': 1176, 'occasion': 1177, 'marriag': 1178, 'climax': 1179, 'studi': 1180, 'industri': 1181, 'charli': 1182, 'demon': 1183, 'nowher': 1184, 'center': 1185, 'ship': 1186, 'bear': 1187, 'loos': 1188, 'hors': 1189, 'wow': 1190, 'hang': 1191, 'graphic': 1192, 'giant': 1193, 'admir': 1194, 'send': 1195, 'loud': 1196, 'damn': 1197, 'nake': 1198, 'subtl': 1199, 'rel': 1200, 'profession': 1201, 'blow': 1202, 'bottom': 1203, 'insult': 1204, 'batman': 1205, 'r': 1206, 'kelli': 1207, 'doubl': 1208, 'boyfriend': 1209, 'initi': 1210, 'frame': 1211, 'gem': 1212, 'opera': 1213, 'affect': 1214, 'church': 1215, 'drawn': 1216, 'cinemat': 1217, 'challeng': 1218, 'fulli': 1219, 'seek': 1220, 'evid': 1221, 'j': 1222, 'nightmar': 1223, 'l': 1224, 'essenti': 1225, 'arm': 1226, 'conflict': 1227, 'henri': 1228, 'grace': 1229, 'wind': 1230, 'christoph': 1231, 'witch': 1232, 'narrat': 1233, 'assum': 1234, 'hunt': 1235, 'push': 1236, 'chri': 1237, 'wise': 1238, 'nomin': 1239, 'repres': 1240, 'month': 1241, 'hide': 1242, 'sceneri': 1243, 'avail': 1244, 'affair': 1245, 'thu': 1246, 'bond': 1247, 'smart': 1248, 'justic': 1249, 'outstand': 1250, 'flashback': 1251, 'interview': 1252, 'constantli': 1253, 'satisfi': 1254, 'presenc': 1255, 'central': 1256, 'bed': 1257, 'iron': 1258, 'sell': 1259, 'content': 1260, 'gag': 1261, 'everybodi': 1262, 'hotel': 1263, 'slowli': 1264, 'hire': 1265, 'system': 1266, 'individu': 1267, 'thrown': 1268, 'adam': 1269, 'hey': 1270, 'charl': 1271, 'mediocr': 1272, 'allen': 1273, 'jone': 1274, 'billi': 1275, 'lesson': 1276, 'ray': 1277, 'cameo': 1278, 'photographi': 1279, 'fellow': 1280, 'pari': 1281, 'strike': 1282, 'brief': 1283, 'independ': 1284, 'rise': 1285, 'absurd': 1286, 'neg': 1287, 'phone': 1288, 'impact': 1289, 'born': 1290, 'ill': 1291, 'model': 1292, 'fresh': 1293, 'spoil': 1294, 'angl': 1295, 'likabl': 1296, 'abus': 1297, 'hill': 1298, 'discuss': 1299, 'sight': 1300, 'ahead': 1301, 'photograph': 1302, 'sent': 1303, 'occur': 1304, 'blame': 1305, 'logic': 1306, 'shine': 1307, 'mainli': 1308, 'bruce': 1309, 'commerci': 1310, 'forev': 1311, 'skip': 1312, 'held': 1313, 'teacher': 1314, 'surround': 1315, 'segment': 1316, 'zero': 1317, 'blond': 1318, 'resembl': 1319, 'trap': 1320, 'satir': 1321, 'summer': 1322, 'queen': 1323, 'six': 1324, 'ball': 1325, 'fool': 1326, 'tragedi': 1327, 'twice': 1328, 'sub': 1329, 'pack': 1330, 'reaction': 1331, 'bomb': 1332, 'will': 1333, 'hospit': 1334, 'protagonist': 1335, 'mile': 1336, 'sport': 1337, 'vote': 1338, 'jerri': 1339, 'mom': 1340, 'drink': 1341, 'trust': 1342, 'encount': 1343, 'plane': 1344, 'current': 1345, 'station': 1346, 'al': 1347, 'program': 1348, 'celebr': 1349, 'choos': 1350, 'martin': 1351, 'join': 1352, 'tragic': 1353, 'favourit': 1354, 'round': 1355, 'field': 1356, 'lord': 1357, 'vision': 1358, 'robot': 1359, 'jean': 1360, 'tie': 1361, 'arthur': 1362, 'random': 1363, 'fortun': 1364, 'roger': 1365, 'intern': 1366, 'dread': 1367, 'psycholog': 1368, 'nonsens': 1369, 'prefer': 1370, 'epic': 1371, 'improv': 1372, 'legend': 1373, 'highlight': 1374, 'formula': 1375, 'pleasur': 1376, 'tape': 1377, '11': 1378, 'dollar': 1379, 'wide': 1380, 'object': 1381, 'thin': 1382, 'fox': 1383, 'porn': 1384, 'gorgeou': 1385, 'ugli': 1386, 'buddi': 1387, 'influenc': 1388, 'prepar': 1389, 'ii': 1390, 'nasti': 1391, 'reflect': 1392, 'supposedli': 1393, 'warm': 1394, 'progress': 1395, 'worthi': 1396, 'youth': 1397, 'unusu': 1398, 'latter': 1399, 'length': 1400, 'crash': 1401, 'superior': 1402, 'childhood': 1403, 'seven': 1404, 'shop': 1405, 'remot': 1406, 'theatr': 1407, 'pilot': 1408, 'paid': 1409, 'disgust': 1410, 'funniest': 1411, 'trick': 1412, 'castl': 1413, 'fell': 1414, 'convers': 1415, 'disast': 1416, 'rob': 1417, 'gangster': 1418, 'establish': 1419, 'ident': 1420, 'heaven': 1421, 'suicid': 1422, 'disappear': 1423, 'mine': 1424, 'mask': 1425, 'heroin': 1426, 'decis': 1427, 'forgotten': 1428, 'tend': 1429, 'singer': 1430, 'partner': 1431, 'brian': 1432, 'recogn': 1433, 'desert': 1434, 'alan': 1435, 'sky': 1436, 'p': 1437, 'stuck': 1438, 'thoroughli': 1439, 'ms': 1440, 'replac': 1441, 'accur': 1442, 'market': 1443, 'seemingli': 1444, 'clue': 1445, 'commentari': 1446, 'andi': 1447, 'eddi': 1448, 'uncl': 1449, 'danni': 1450, 'jackson': 1451, 'devil': 1452, 'therefor': 1453, 'pair': 1454, 'that': 1455, 'refus': 1456, 'fault': 1457, 'accid': 1458, 'unit': 1459, 'river': 1460, 'fate': 1461, 'ed': 1462, 'afraid': 1463, 'tune': 1464, 'hidden': 1465, 'russian': 1466, 'clean': 1467, 'stephen': 1468, 'irrit': 1469, 'captain': 1470, 'instanc': 1471, 'convey': 1472, 'quick': 1473, 'test': 1474, 'readi': 1475, 'european': 1476, 'frustrat': 1477, 'daniel': 1478, 'insan': 1479, 'food': 1480, 'wed': 1481, '1950': 1482, 'rescu': 1483, 'chines': 1484, 'angri': 1485, 'dirti': 1486, 'lock': 1487, 'joy': 1488, 'steven': 1489, 'price': 1490, 'cage': 1491, 'bland': 1492, 'rang': 1493, 'anymor': 1494, 'wooden': 1495, 'n': 1496, 'jason': 1497, 'rush': 1498, 'news': 1499, '12': 1500, 'worri': 1501, 'board': 1502, 'twenti': 1503, 'led': 1504, 'martial': 1505, 'hunter': 1506, 'transform': 1507, 'symbol': 1508, 'cgi': 1509, 'piti': 1510, 'invent': 1511, 'sentiment': 1512, 'johnni': 1513, 'onto': 1514, 'x': 1515, 'attitud': 1516, 'explan': 1517, 'process': 1518, 'owner': 1519, 'awar': 1520, 'aim': 1521, 'necessari': 1522, 'target': 1523, 'floor': 1524, 'favor': 1525, 'energi': 1526, 'opposit': 1527, 'religi': 1528, 'insight': 1529, 'window': 1530, 'blind': 1531, 'chick': 1532, 'movement': 1533, 'possess': 1534, 'deepli': 1535, 'comparison': 1536, 'research': 1537, 'mountain': 1538, 'comed': 1539, 'whatsoev': 1540, 'grand': 1541, 'rain': 1542, 'began': 1543, 'mid': 1544, 'shadow': 1545, 'bank': 1546, 'parodi': 1547, 'princ': 1548, 'friendship': 1549, 'credibl': 1550, 'pre': 1551, 'taylor': 1552, 'weapon': 1553, 'teach': 1554, 'dougla': 1555, 'flesh': 1556, 'bloodi': 1557, 'protect': 1558, 'terror': 1559, 'hint': 1560, 'marvel': 1561, 'load': 1562, 'drunk': 1563, 'watchabl': 1564, 'accord': 1565, 'leader': 1566, 'anybodi': 1567, 'superman': 1568, 'brown': 1569, 'freddi': 1570, 'seat': 1571, 'tim': 1572, 'jeff': 1573, 'hitler': 1574, 'appropri': 1575, 'charg': 1576, 'villag': 1577, 'keaton': 1578, 'unknown': 1579, 'knock': 1580, 'empti': 1581, 'unnecessari': 1582, 'media': 1583, 'enemi': 1584, 'england': 1585, 'utter': 1586, 'craft': 1587, 'perspect': 1588, 'strength': 1589, 'dare': 1590, 'wave': 1591, 'buck': 1592, 'contrast': 1593, 'correct': 1594, 'kiss': 1595, 'nativ': 1596, 'ford': 1597, 'anywher': 1598, 'knowledg': 1599, 'nazi': 1600, 'magnific': 1601, 'chill': 1602, 'speed': 1603, 'distract': 1604, 'soap': 1605, 'breath': 1606, '1980': 1607, 'fred': 1608, 'mission': 1609, 'ice': 1610, 'jr': 1611, 'crowd': 1612, 'moon': 1613, 'joan': 1614, 'kate': 1615, 'soft': 1616, '000': 1617, 'frighten': 1618, 'dan': 1619, 'nick': 1620, 'hundr': 1621, 'dick': 1622, 'dozen': 1623, 'somebodi': 1624, 'simon': 1625, 'radio': 1626, 'loss': 1627, 'thousand': 1628, 'andrew': 1629, 'shakespear': 1630, 'academi': 1631, 'quot': 1632, 'account': 1633, 'sum': 1634, 'root': 1635, 'vehicl': 1636, 'leg': 1637, 'convent': 1638, 'behavior': 1639, '1970': 1640, 'gold': 1641, 'regular': 1642, 'worker': 1643, 'demand': 1644, 'compet': 1645, 'pretenti': 1646, 'japan': 1647, 'stretch': 1648, 'notabl': 1649, 'privat': 1650, 'interpret': 1651, 'explos': 1652, 'candi': 1653, 'lynch': 1654, 'debut': 1655, 'constant': 1656, 'tarzan': 1657, 'sea': 1658, 'spi': 1659, 'prais': 1660, 'translat': 1661, 'revolv': 1662, 'failur': 1663, 'threaten': 1664, 'jesu': 1665, 'technolog': 1666, 'sat': 1667, 'quiet': 1668, 'ass': 1669, 'franc': 1670, 'met': 1671, 'higher': 1672, 'aid': 1673, 'punch': 1674, 'toy': 1675, 'kevin': 1676, 'mike': 1677, 'vh': 1678, 'interact': 1679, 'abandon': 1680, 'separ': 1681, 'command': 1682, 'confront': 1683, 'bet': 1684, 'techniqu': 1685, 'site': 1686, 'gotten': 1687, 'recal': 1688, 'belong': 1689, 'servic': 1690, 'stunt': 1691, 'cabl': 1692, 'bug': 1693, 'foot': 1694, 'freak': 1695, 'bright': 1696, 'capabl': 1697, 'jimmi': 1698, 'fu': 1699, 'african': 1700, 'succeed': 1701, 'fat': 1702, 'clark': 1703, 'presid': 1704, 'stock': 1705, 'boat': 1706, 'gene': 1707, 'structur': 1708, 'spanish': 1709, 'paper': 1710, 'kidnap': 1711, 'factor': 1712, 'whilst': 1713, 'belief': 1714, 'tree': 1715, 'complic': 1716, 'realism': 1717, 'realis': 1718, 'bob': 1719, 'educ': 1720, 'witti': 1721, 'attend': 1722, 'finest': 1723, 'broken': 1724, 'assist': 1725, 'santa': 1726, 'up': 1727, 'determin': 1728, 'observ': 1729, 'depart': 1730, 'v': 1731, 'smoke': 1732, 'oper': 1733, 'routin': 1734, 'rubbish': 1735, 'fame': 1736, 'domin': 1737, 'hat': 1738, 'lewi': 1739, 'hook': 1740, 'foreign': 1741, 'lone': 1742, 'advanc': 1743, 'kinda': 1744, 'morgan': 1745, 'safe': 1746, 'rank': 1747, 'numer': 1748, 'shape': 1749, 'shallow': 1750, 'vs': 1751, 'werewolf': 1752, 'washington': 1753, 'civil': 1754, 'rose': 1755, 'gari': 1756, 'morn': 1757, 'ordinari': 1758, 'accomplish': 1759, 'winner': 1760, 'kong': 1761, 'virtual': 1762, 'whenev': 1763, 'grab': 1764, 'peac': 1765, 'h': 1766, 'luck': 1767, 'offens': 1768, 'activ': 1769, 'unfunni': 1770, 'patient': 1771, 'bigger': 1772, 'contriv': 1773, 'complain': 1774, 'welcom': 1775, 'dimension': 1776, 'trek': 1777, 'con': 1778, 'pretend': 1779, 'lesbian': 1780, 'wake': 1781, 'flash': 1782, 'eric': 1783, 'dri': 1784, 'code': 1785, 'cain': 1786, 'dancer': 1787, 'manipul': 1788, 'guard': 1789, 'statu': 1790, 'corrupt': 1791, 'albert': 1792, 'gain': 1793, 'awkward': 1794, 'context': 1795, 'sourc': 1796, 'signific': 1797, 'speech': 1798, 'corni': 1799, 'anthoni': 1800, 'psycho': 1801, 'clip': 1802, 'sean': 1803, '13': 1804, 'priest': 1805, 'advic': 1806, 'reli': 1807, 'religion': 1808, 'theatric': 1809, 'curiou': 1810, 'w': 1811, 'flow': 1812, 'addict': 1813, 'secur': 1814, 'asian': 1815, 'skin': 1816, 'jennif': 1817, 'specif': 1818, 'howard': 1819, 'core': 1820, 'golden': 1821, 'promot': 1822, 'comfort': 1823, 'organ': 1824, 'luke': 1825, 'cheat': 1826, 'lucki': 1827, 'cash': 1828, 'lower': 1829, 'associ': 1830, 'dislik': 1831, 'degre': 1832, 'devic': 1833, 'frequent': 1834, 'regret': 1835, 'frankli': 1836, 'balanc': 1837, 'contribut': 1838, 'wing': 1839, 'spell': 1840, 'print': 1841, 'sake': 1842, 'forgiv': 1843, 'lake': 1844, 'mass': 1845, 'thoma': 1846, 'betti': 1847, 'gordon': 1848, 'crack': 1849, 'unexpect': 1850, 'unfold': 1851, 'amateur': 1852, 'grown': 1853, 'invit': 1854, 'construct': 1855, 'categori': 1856, 'depend': 1857, 'anna': 1858, 'honor': 1859, 'grew': 1860, 'condit': 1861, 'walter': 1862, 'intellectu': 1863, 'matur': 1864, 'sudden': 1865, 'sole': 1866, 'veteran': 1867, 'spectacular': 1868, 'mirror': 1869, 'demonstr': 1870, 'overli': 1871, 'grip': 1872, 'gift': 1873, 'card': 1874, 'meanwhil': 1875, 'freedom': 1876, 'experienc': 1877, 'liner': 1878, 'robin': 1879, 'subtitl': 1880, 'colour': 1881, 'crappi': 1882, 'brilliantli': 1883, 'circumst': 1884, 'section': 1885, 'unabl': 1886, 'sheriff': 1887, 'oliv': 1888, 'theori': 1889, 'drew': 1890, 'laughter': 1891, 'sheer': 1892, 'matt': 1893, 'path': 1894, 'pile': 1895, 'altern': 1896, 'parker': 1897, 'cook': 1898, 'sinatra': 1899, 'wander': 1900, 'defin': 1901, 'lawyer': 1902, 'hall': 1903, 'relief': 1904, 'treatment': 1905, 'accident': 1906, 'captiv': 1907, 'dragon': 1908, 'hank': 1909, 'moor': 1910, 'gratuit': 1911, 'halloween': 1912, 'k': 1913, 'jacki': 1914, 'wayn': 1915, 'unintent': 1916, 'wound': 1917, 'cowboy': 1918, 'barbara': 1919, 'kung': 1920, 'broadway': 1921, 'spoof': 1922, 'surreal': 1923, 'winter': 1924, 'canadian': 1925, 'statement': 1926, 'cheer': 1927, 'compos': 1928, 'fare': 1929, 'fish': 1930, 'gonna': 1931, 'treasur': 1932, 'sensit': 1933, 'woodi': 1934, 'unrealist': 1935, 'victor': 1936, 'emerg': 1937, 'sympathet': 1938, 'neighbor': 1939, 'driven': 1940, 'ran': 1941, 'overlook': 1942, 'expos': 1943, 'authent': 1944, 'topic': 1945, 'glass': 1946, 'menac': 1947, 'chief': 1948, 'michel': 1949, 'ancient': 1950, 'handsom': 1951, 'gross': 1952, 'feet': 1953, 'network': 1954, 'comedian': 1955, 'nevertheless': 1956, 'built': 1957, 'pleasant': 1958, 'cinderella': 1959, 'contemporari': 1960, 'stranger': 1961, 'russel': 1962, 'consider': 1963, 'earn': 1964, 'endless': 1965, 'gori': 1966, 'blockbust': 1967, 'miser': 1968, 'underr': 1969, 'letter': 1970, 'solv': 1971, 'switch': 1972, 'brook': 1973, 'victoria': 1974, 'joseph': 1975, 'bullet': 1976, 'edward': 1977, 'convict': 1978, 'virgin': 1979, 'scale': 1980, 'cynic': 1981, 'chosen': 1982, 'scenario': 1983, 'alex': 1984, '0': 1985, 'outrag': 1986, 'sword': 1987, 'com': 1988, 'gut': 1989, 'curs': 1990, 'wrap': 1991, 'substanc': 1992, 'driver': 1993, 'juli': 1994, 'proper': 1995, 'screenwrit': 1996, 'uk': 1997, 'monkey': 1998, 'indic': 1999, 'court': 2000, 'bird': 2001, 'par': 2002, 'remov': 2003, 'advertis': 2004, 'rental': 2005, 'consequ': 2006, 'grave': 2007, 'nanci': 2008, 'roy': 2009, 'loser': 2010, 'inevit': 2011, 'naiv': 2012, 'bridg': 2013, 'slap': 2014, 'brave': 2015, 'le': 2016, 'germani': 2017, 'fatal': 2018, 'invis': 2019, 'provok': 2020, 'footbal': 2021, 'loui': 2022, 'ador': 2023, 'anger': 2024, 'chan': 2025, 'anderson': 2026, 'alcohol': 2027, 'stumbl': 2028, 'professor': 2029, 'willi': 2030, 'ryan': 2031, 'patrick': 2032, 'sharp': 2033, '1930': 2034, 'assassin': 2035, 'bat': 2036, 'australian': 2037, 'cell': 2038, 'liber': 2039, 'strongli': 2040, 'refresh': 2041, 'trilog': 2042, 'saturday': 2043, 'heck': 2044, 'deni': 2045, 'ape': 2046, 'amateurish': 2047, 'eight': 2048, 'lousi': 2049, 'sin': 2050, 'san': 2051, 'vagu': 2052, 'resid': 2053, 'justifi': 2054, 'defeat': 2055, 'reput': 2056, 'indi': 2057, 'mini': 2058, 'sympathi': 2059, 'terrifi': 2060, 'creator': 2061, 'expert': 2062, 'task': 2063, 'tabl': 2064, 'tediou': 2065, 'prevent': 2066, 'endur': 2067, 'employ': 2068, 'imit': 2069, 'trial': 2070, 'basebal': 2071, 'rival': 2072, 'offend': 2073, 'che': 2074, 'fairi': 2075, 'beach': 2076, 'weekend': 2077, 'dig': 2078, 'max': 2079, 'complaint': 2080, 'pitch': 2081, 'europ': 2082, 'murphi': 2083, 'risk': 2084, 'format': 2085, 'purchas': 2086, 'glimps': 2087, 'bite': 2088, 'hype': 2089, 'reminisc': 2090, 'tini': 2091, 'titan': 2092, 'harsh': 2093, 'nois': 2094, 'powel': 2095, 'asleep': 2096, '14': 2097, 'fals': 2098, 'till': 2099, 'prime': 2100, 'strip': 2101, 'north': 2102, 'descript': 2103, 'destruct': 2104, 'revel': 2105, 'texa': 2106, 'africa': 2107, 'excess': 2108, 'uninterest': 2109, 'sitcom': 2110, 'semi': 2111, 'arrest': 2112, 'inner': 2113, 'spin': 2114, 'surfac': 2115, 'makeup': 2116, 'dinosaur': 2117, 'maintain': 2118, 'controversi': 2119, 'massiv': 2120, 'twin': 2121, 'argu': 2122, 'hitchcock': 2123, 'kim': 2124, 'reject': 2125, 'ideal': 2126, 'insist': 2127, 'melodrama': 2128, 'ludicr': 2129, 'stare': 2130, 'expens': 2131, 'nail': 2132, 'forest': 2133, 'erot': 2134, 'host': 2135, 'supernatur': 2136, 'atroci': 2137, 'press': 2138, 'ala': 2139, 'subplot': 2140, 'columbo': 2141, 'ga': 2142, 'identifi': 2143, 'presum': 2144, 'dude': 2145, 'notch': 2146, 'cant': 2147, 'plagu': 2148, 'forgett': 2149, 'guest': 2150, 'method': 2151, 'closer': 2152, 'crude': 2153, 'character': 2154, 'princess': 2155, 'border': 2156, 'ear': 2157, 'landscap': 2158, 'foster': 2159, 'beast': 2160, 'lion': 2161, 'bound': 2162, 'damag': 2163, 'accus': 2164, 'birth': 2165, 'previous': 2166, 'storytel': 2167, 'aunt': 2168, 'jungl': 2169, 'urban': 2170, 'pacino': 2171, 'guid': 2172, 'thirti': 2173, 'propaganda': 2174, 'chose': 2175, 'nude': 2176, 'doll': 2177, 'jess': 2178, 'emma': 2179, 'mate': 2180, '25': 2181, 'mainstream': 2182, 'warrior': 2183, 'whoever': 2184, 'pet': 2185, 'latest': 2186, 'size': 2187, 'cooper': 2188, 'poster': 2189, 'upset': 2190, 'gritti': 2191, 'deadli': 2192, 'friday': 2193, 'exact': 2194, 'merit': 2195, 'rough': 2196, '1990': 2197, 'citizen': 2198, 'wilson': 2199, 'contest': 2200, 'settl': 2201, 'blend': 2202, 'contact': 2203, 'popul': 2204, 'buff': 2205, 'ton': 2206, 'sun': 2207, 'corps': 2208, 'warner': 2209, 'widow': 2210, 'metal': 2211, 'environ': 2212, 'pitt': 2213, 'rat': 2214, 'select': 2215, 'overcom': 2216, 'mgm': 2217, 'alic': 2218, 'bu': 2219, 'lift': 2220, 'revolut': 2221, 'link': 2222, 'particip': 2223, 'ted': 2224, 'guilti': 2225, 'prostitut': 2226, 'accompani': 2227, 'moron': 2228, 'johnson': 2229, 'corner': 2230, 'corpor': 2231, '1960': 2232, 'afternoon': 2233, 'exagger': 2234, 'matrix': 2235, 'hood': 2236, 'clair': 2237, 'friendli': 2238, 'multipl': 2239, 'holm': 2240, 'instal': 2241, 'sincer': 2242, 'doom': 2243, 'leagu': 2244, 'sunday': 2245, 'junk': 2246, 'string': 2247, 'examin': 2248, 'advis': 2249, 'aka': 2250, 'campi': 2251, 'irish': 2252, 'grim': 2253, 'lugosi': 2254, 'hip': 2255, 'defend': 2256, 'blah': 2257, 'tight': 2258, 'confid': 2259, 'shut': 2260, 'rachel': 2261, 'pro': 2262, 'varieti': 2263, 'icon': 2264, 'shake': 2265, 'jaw': 2266, 'mexican': 2267, 'medic': 2268, 'attach': 2269, 'sullivan': 2270, 'denni': 2271, 'goal': 2272, 'directli': 2273, 'duke': 2274, 'sentenc': 2275, 'courag': 2276, 'dean': 2277, 'truck': 2278, 'prior': 2279, 'legendari': 2280, 'breast': 2281, 'vietnam': 2282, 'terrorist': 2283, 'sarah': 2284, 'bourn': 2285, 'split': 2286, 'donald': 2287, 'proceed': 2288, 'nose': 2289, 'behav': 2290, 'un': 2291, 'yell': 2292, 'entri': 2293, 'hong': 2294, 'everywher': 2295, 'confess': 2296, 'crush': 2297, 'gather': 2298, 'buri': 2299, 'lifetim': 2300, 'unconvinc': 2301, 'borrow': 2302, 'concentr': 2303, 'forth': 2304, 'jerk': 2305, 'swim': 2306, 'stolen': 2307, 'lip': 2308, 'pan': 2309, 'deliveri': 2310, 'spite': 2311, 'turkey': 2312, 'california': 2313, 'julia': 2314, 'proud': 2315, 'reward': 2316, 'flight': 2317, 'quest': 2318, 'offici': 2319, 'hoffman': 2320, 'china': 2321, 'downright': 2322, 'freeman': 2323, 'fabul': 2324, 'sink': 2325, 'encourag': 2326, 'jon': 2327, 'betray': 2328, 'worthwhil': 2329, 'jail': 2330, 'fade': 2331, 'inept': 2332, 'sir': 2333, 'lazi': 2334, 'notori': 2335, 'teeth': 2336, 'bell': 2337, 'bag': 2338, 'retard': 2339, 'relev': 2340, 'lisa': 2341, 'storm': 2342, 'imageri': 2343, 'cousin': 2344, 'branagh': 2345, 'shower': 2346, 'susan': 2347, 'survivor': 2348, 'toler': 2349, 'stab': 2350, 'bride': 2351, 'tremend': 2352, 'shark': 2353, 'facial': 2354, 'trade': 2355, 'finger': 2356, 'alright': 2357, 'summari': 2358, 'mexico': 2359, 'quirki': 2360, 'hugh': 2361, 'von': 2362, 'hyster': 2363, 'bitter': 2364, 'pose': 2365, 'blown': 2366, 'ha': 2367, 'ron': 2368, 'christ': 2369, 'larri': 2370, 'scheme': 2371, 'bone': 2372, 'address': 2373, 'afterward': 2374, 'cruel': 2375, 'ned': 2376, 'thumb': 2377, 'tour': 2378, 'beg': 2379, 'swear': 2380, 'pursu': 2381, 'screw': 2382, 'distinct': 2383, 'feed': 2384, 'traci': 2385, 'snake': 2386, 'obscur': 2387, 'mechan': 2388, 'stomach': 2389, 'chair': 2390, 'photo': 2391, 'occas': 2392, 'raw': 2393, 'render': 2394, 'chain': 2395, 'heavili': 2396, 'necessarili': 2397, 'southern': 2398, 'resist': 2399, 'argument': 2400, 'hardi': 2401, 'holiday': 2402, 'gruesom': 2403, 'cabin': 2404, 'sidney': 2405, 'indulg': 2406, 'understood': 2407, 'satan': 2408, 'india': 2409, 'racist': 2410, 'philip': 2411, 'stalk': 2412, 'belov': 2413, 'pregnant': 2414, 'outfit': 2415, 'integr': 2416, 'lay': 2417, 'obnoxi': 2418, 'tongu': 2419, 'forgot': 2420, 'midnight': 2421, 'fourth': 2422, 'ticket': 2423, 'magazin': 2424, 'inhabit': 2425, 'carol': 2426, 'deeper': 2427, 'garden': 2428, 'restor': 2429, 'slapstick': 2430, '17': 2431, 'devot': 2432, 'shoe': 2433, 'brad': 2434, 'incid': 2435, 'lincoln': 2436, 'maria': 2437, 'disbelief': 2438, 'anticip': 2439, 'divorc': 2440, 'lili': 2441, 'elizabeth': 2442, 'benefit': 2443, 'underground': 2444, 'guarante': 2445, 'sandler': 2446, 'bbc': 2447, 'capit': 2448, 'mildli': 2449, 'amazingli': 2450, 'cring': 2451, 'creation': 2452, 'slave': 2453, 'princip': 2454, 'explod': 2455, 'greater': 2456, 'extraordinari': 2457, 'funnier': 2458, 'halfway': 2459, 'lesli': 2460, 'introduct': 2461, 'text': 2462, 'overwhelm': 2463, 'wreck': 2464, 'punish': 2465, 'advantag': 2466, 'extent': 2467, 'enhanc': 2468, 'transfer': 2469, 'tap': 2470, 'dynam': 2471, 'horrif': 2472, 'preview': 2473, 'lane': 2474, 'lo': 2475, 'deliber': 2476, 'jessica': 2477, 'east': 2478, 'error': 2479, 'plant': 2480, 'miller': 2481, 'appli': 2482, 'vacat': 2483, 'basi': 2484, 'sophist': 2485, 'vincent': 2486, 'miscast': 2487, 'homosexu': 2488, '2000': 2489, 'ensu': 2490, 'uncomfort': 2491, 'elev': 2492, 'steel': 2493, 'measur': 2494, 'via': 2495, 'spoken': 2496, 'extend': 2497, 'sleazi': 2498, 'bollywood': 2499, 'mansion': 2500, 'reed': 2501, 'mous': 2502, 'assign': 2503, 'cathol': 2504, 'beer': 2505, 'overact': 2506, 'stanley': 2507, 'fix': 2508, 'breathtak': 2509, 'hippi': 2510, 'conceiv': 2511, 'alter': 2512, 'dentist': 2513, 'blair': 2514, 'goofi': 2515, 'daili': 2516, 'melt': 2517, 'savag': 2518, 'subsequ': 2519, 'oppos': 2520, 'carpent': 2521, 'sacrific': 2522, 'nowaday': 2523, 'everyday': 2524, 'properli': 2525, 'inspector': 2526, 'burt': 2527, 'succe': 2528, 'circl': 2529, 'laura': 2530, 'neck': 2531, 'massacr': 2532, 'block': 2533, 'lesser': 2534, 'concert': 2535, 'pool': 2536, 'mob': 2537, 'seagal': 2538, 'portrait': 2539, 'fallen': 2540, 'grey': 2541, 'access': 2542, 'fay': 2543, 'christi': 2544, 'react': 2545, 'jake': 2546, 'jewish': 2547, 'chees': 2548, 'relax': 2549, 'sinist': 2550, 'isol': 2551, 'usa': 2552, 'competit': 2553, 'nine': 2554, 'spiritu': 2555, 'immens': 2556, 'stink': 2557, 'suitabl': 2558, 'chop': 2559, 'nonetheless': 2560, '2006': 2561, 'lyric': 2562, 'creep': 2563, 'appal': 2564, 'ironi': 2565, 'navi': 2566, 'nut': 2567, 'sold': 2568, 'rage': 2569, 'user': 2570, 'needless': 2571, 'franchis': 2572, 'adopt': 2573, 'retir': 2574, 'shirt': 2575, 'luci': 2576, 'spring': 2577, 'showcas': 2578, 'reduc': 2579, 'jay': 2580, 'nurs': 2581, 'digit': 2582, 'bath': 2583, 'per': 2584, 'zone': 2585, 'asham': 2586, 'bulli': 2587, 'uninspir': 2588, 'stanwyck': 2589, 'sutherland': 2590, 'illustr': 2591, '2001': 2592, 'amongst': 2593, 'oddli': 2594, 'upper': 2595, 'broadcast': 2596, '1940': 2597, 'laid': 2598, 'fulfil': 2599, 'aspir': 2600, 'throat': 2601, 'brando': 2602, 'baker': 2603, 'disguis': 2604, 'stylish': 2605, 'thief': 2606, 'pound': 2607, '18': 2608, 'em': 2609, 'endear': 2610, 'neighborhood': 2611, 'nobl': 2612, 'impli': 2613, 'wwii': 2614, 'wanna': 2615, 'pride': 2616, 'diseas': 2617, 'coher': 2618, 'dawn': 2619, 'dinner': 2620, 'shoulder': 2621, 'tens': 2622, 'prop': 2623, '16': 2624, 'distribut': 2625, 'bo': 2626, 'cinematograph': 2627, 'bett': 2628, 'rochest': 2629, 'albeit': 2630, 'shift': 2631, 'silenc': 2632, 'knife': 2633, 'shout': 2634, 'wash': 2635, 'matthau': 2636, 'forti': 2637, 'function': 2638, 'snow': 2639, 'poignant': 2640, 'contract': 2641, 'surf': 2642, 'rebel': 2643, 'duti': 2644, 'proof': 2645, 'instinct': 2646, 'heat': 2647, 'reunion': 2648, 'cancel': 2649, 'widmark': 2650, 'cannib': 2651, 'silver': 2652, 'eeri': 2653, 'mindless': 2654, 'chuck': 2655, 'henc': 2656, 'horrend': 2657, 'height': 2658, 'derek': 2659, 'elvira': 2660, 'internet': 2661, 'greatli': 2662, 'torn': 2663, 'musician': 2664, 'alik': 2665, 'innov': 2666, 'pie': 2667, 'premier': 2668, 'absorb': 2669, 'incoher': 2670, 'neat': 2671, 'etern': 2672, 'elvi': 2673, 'spielberg': 2674, 'mill': 2675, 'glori': 2676, 'repetit': 2677, 'diamond': 2678, 'announc': 2679, 'homag': 2680, 'redempt': 2681, 'infam': 2682, 'britain': 2683, 'itali': 2684, 'crisi': 2685, 'precis': 2686, 'nelson': 2687, 'fbi': 2688, 'horrifi': 2689, 'burton': 2690, 'wealthi': 2691, 'blank': 2692, 'trite': 2693, 'lovabl': 2694, 'racism': 2695, 'bang': 2696, 'happili': 2697, 'helen': 2698, 'hammer': 2699, 'wilder': 2700, 'dedic': 2701, 'flop': 2702, 'streisand': 2703, 'ensembl': 2704, 'chaplin': 2705, 'parallel': 2706, 'pat': 2707, 'resolut': 2708, 'oil': 2709, 'broke': 2710, 'triumph': 2711, 'cube': 2712, 'carter': 2713, 'conclud': 2714, 'st': 2715, 'disagre': 2716, 'factori': 2717, 'mar': 2718, 'plastic': 2719, 'own': 2720, 'rocket': 2721, 'bush': 2722, 'chuckl': 2723, 'march': 2724, 'climb': 2725, 'vega': 2726, 'row': 2727, 'fighter': 2728, 'weight': 2729, 'dane': 2730, 'unforgett': 2731, 'mst3k': 2732, 'spare': 2733, 'sensibl': 2734, 'boot': 2735, 'wherea': 2736, 'enorm': 2737, 'thug': 2738, 'meaning': 2739, 'dump': 2740, 'luca': 2741, 'lust': 2742, 'kurt': 2743, 'stress': 2744, 'rap': 2745, 'adequ': 2746, 'caricatur': 2747, 'bobbi': 2748, 'threat': 2749, 'fifti': 2750, 'butt': 2751, 'dear': 2752, 'difficulti': 2753, 'brand': 2754, 'karloff': 2755, 'engin': 2756, 'arnold': 2757, 'swing': 2758, 'elabor': 2759, 'hamlet': 2760, 'fest': 2761, 'polish': 2762, 'homeless': 2763, 'ralph': 2764, 'secretari': 2765, 'ego': 2766, 'flynn': 2767, 'journalist': 2768, 'arrog': 2769, 'barri': 2770, 'arrang': 2771, 'tool': 2772, 'fanci': 2773, 'grate': 2774, 'puppet': 2775, 'conspiraci': 2776, 'spike': 2777, 'float': 2778, 'induc': 2779, 'simpson': 2780, 'unbear': 2781, 'resort': 2782, 'guilt': 2783, 'exercis': 2784, 'boll': 2785, 'tribut': 2786, 'basement': 2787, 'muppet': 2788, 'pig': 2789, 'phillip': 2790, 'choreograph': 2791, 'cruis': 2792, 'toilet': 2793, 'layer': 2794, 'korean': 2795, 'ward': 2796, 'item': 2797, 'ham': 2798, 'slip': 2799, '24': 2800, 'medium': 2801, 'puzzl': 2802, 'editor': 2803, 'babe': 2804, 'document': 2805, 'fianc': 2806, 'file': 2807, 'scarecrow': 2808, 'tower': 2809, 'stan': 2810, 'spark': 2811, 'orient': 2812, 'minim': 2813, 'inexplic': 2814, 'philosoph': 2815, 'persona': 2816, 'territori': 2817, 'doc': 2818, 'catherin': 2819, 'denzel': 2820, 'portion': 2821, 'transit': 2822, 'larger': 2823, 'librari': 2824, 'assur': 2825, 'slaughter': 2826, 'superfici': 2827, 'glover': 2828, 'jeremi': 2829, 'curti': 2830, 'owe': 2831, 'wolf': 2832, 'dorothi': 2833, 'boredom': 2834, 'financi': 2835, 'shi': 2836, 'walken': 2837, 'sneak': 2838, 'jet': 2839, 'pg': 2840, 'ban': 2841, 'profound': 2842, 'ambigu': 2843, 'hudson': 2844, 'backdrop': 2845, 'multi': 2846, 'eleph': 2847, 'cusack': 2848, 'metaphor': 2849, 'whale': 2850, 'rave': 2851, 'viru': 2852, 'elsewher': 2853, 'implaus': 2854, 'notion': 2855, 'ultra': 2856, 'hack': 2857, '2005': 2858, 'union': 2859, 'birthday': 2860, 'stiff': 2861, 'gadget': 2862, 'canada': 2863, 'distanc': 2864, 'afford': 2865, 'urg': 2866, 'disc': 2867, 'reader': 2868, 'superhero': 2869, 'eva': 2870, 'newspap': 2871, 'bibl': 2872, 'deriv': 2873, 'pad': 2874, 'squar': 2875, 'slight': 2876, 'eastwood': 2877, '1st': 2878, 'hawk': 2879, 'poison': 2880, 'lloyd': 2881, 'essenc': 2882, 'cure': 2883, 'drown': 2884, 'health': 2885, 'restaur': 2886, 'charisma': 2887, 'montag': 2888, 'button': 2889, 'sadist': 2890, 'huh': 2891, 'heston': 2892, 'skit': 2893, 'spread': 2894, 'estat': 2895, 'fetch': 2896, 'gradual': 2897, 'companion': 2898, 'godfath': 2899, 'peak': 2900, 'maniac': 2901, 'lab': 2902, 'invest': 2903, 'dealt': 2904, 'scoobi': 2905, 'muslim': 2906, 'servant': 2907, 'cup': 2908, 'tea': 2909, 'subtleti': 2910, 'countless': 2911, 'gothic': 2912, 'kane': 2913, 'ritter': 2914, 'miik': 2915, 'alli': 2916, 'charismat': 2917, 'heroic': 2918, 'briefli': 2919, 'electr': 2920, 'elect': 2921, 'salli': 2922, 'iii': 2923, 'toss': 2924, 'nuanc': 2925, 'tender': 2926, 'grandmoth': 2927, 'admittedli': 2928, 'ingredi': 2929, 'neil': 2930, 'wannab': 2931, 'bud': 2932, 'reel': 2933, 'cole': 2934, 'resourc': 2935, 'mild': 2936, 'stronger': 2937, 'mafia': 2938, 'pauli': 2939, 'dawson': 2940, 'pit': 2941, 'carrey': 2942, 'shall': 2943, 'poverti': 2944, 'kubrick': 2945, 'gate': 2946, 'punk': 2947, 'stood': 2948, 'label': 2949, 'reev': 2950, 'cox': 2951, 'assault': 2952, 'outcom': 2953, 'smooth': 2954, 'tag': 2955, 'updat': 2956, 'easier': 2957, 'fond': 2958, 'terri': 2959, 'smash': 2960, 'astair': 2961, 'ian': 2962, 'burst': 2963, 'cardboard': 2964, 'useless': 2965, 'bakshi': 2966, 'sketch': 2967, '2002': 2968, 'increasingli': 2969, 'vari': 2970, 'vulner': 2971, 'resolv': 2972, 'fist': 2973, 'melodramat': 2974, 'exchang': 2975, 'coincid': 2976, 'divers': 2977, 'samurai': 2978, 'qualifi': 2979, 'rex': 2980, 'scratch': 2981, 'luckili': 2982, 'templ': 2983, 'suspend': 2984, 'tame': 2985, 'conveni': 2986, 'be': 2987, 'blast': 2988, 'insert': 2989, 'brillianc': 2990, 'reynold': 2991, 'pin': 2992, 'farm': 2993, 'matthew': 2994, 'strictli': 2995, 'coach': 2996, 'jami': 2997, 'seventi': 2998, 'ambiti': 2999, 'soprano': 3000, 'nuclear': 3001, 'gotta': 3002, 'walker': 3003, 'meat': 3004, 'fisher': 3005, 'hamilton': 3006, 'closet': 3007, 'kudo': 3008, 'instantli': 3009, 'worthless': 3010, 'revers': 3011, 'convolut': 3012, 'discoveri': 3013, 'brosnan': 3014, 'cave': 3015, 'timeless': 3016, 'grasp': 3017, 'struck': 3018, 'eccentr': 3019, 'monk': 3020, 'ninja': 3021, 'spooki': 3022, 'butcher': 3023, 'empir': 3024, 'recreat': 3025, 'joey': 3026, 'clock': 3027, 'declar': 3028, 'inconsist': 3029, 'sidekick': 3030, 'miracl': 3031, 'eighti': 3032, 'importantli': 3033, 'mitchel': 3034, 'sloppi': 3035, 'bleak': 3036, 'wipe': 3037, 'selfish': 3038, 'pal': 3039, 'gray': 3040, 'fifteen': 3041, 'norman': 3042, 'partli': 3043, 'evok': 3044, 'clown': 3045, 'cliff': 3046, 'communist': 3047, 'seller': 3048, 'superbl': 3049, 'lifestyl': 3050, 'websit': 3051, 'ho': 3052, 'debat': 3053, 'chew': 3054, 'farc': 3055, 'destin': 3056, 'enthusiast': 3057, 'cheek': 3058, 'australia': 3059, 'psychiatrist': 3060, 'aforement': 3061, 'piano': 3062, '45': 3063, 'flawless': 3064, 'seed': 3065, 'stoog': 3066, 'splatter': 3067, 'emili': 3068, 'wick': 3069, 'anni': 3070, 'regardless': 3071, 'abc': 3072, 'slice': 3073, 'wrestl': 3074, 'akshay': 3075, 'drivel': 3076, 'kitchen': 3077, 'dash': 3078, 'dire': 3079, 'soviet': 3080, 'directori': 3081, 'pressur': 3082, 'incompet': 3083, 'bash': 3084, 'lou': 3085, 'helicopt': 3086, 'suppli': 3087, 'pleasantli': 3088, 'prize': 3089, 'increas': 3090, 'jar': 3091, 'glow': 3092, 'recov': 3093, 'mann': 3094, 'beaten': 3095, 'distant': 3096, 'blob': 3097, 'boil': 3098, 'doo': 3099, 'ken': 3100, 'judi': 3101, 'chapter': 3102, 'flower': 3103, 'duo': 3104, 'curios': 3105, 'artifici': 3106, 'seduc': 3107, 'dave': 3108, 'cia': 3109, 'cagney': 3110, 'cameron': 3111, 'splendid': 3112, 'drunken': 3113, 'favour': 3114, 'combat': 3115, 'panic': 3116, 'francisco': 3117, 'turner': 3118, 'ranger': 3119, 'craven': 3120, 'psychot': 3121, 'glenn': 3122, 'craig': 3123, 'eleg': 3124, 'hop': 3125, 'goldberg': 3126, 'perri': 3127, 'web': 3128, 'ellen': 3129, 'laurel': 3130, '20th': 3131, 'falk': 3132, 'philosophi': 3133, 'flip': 3134, 'shortli': 3135, 'slightest': 3136, 'gentl': 3137, 'hatr': 3138, 'rid': 3139, 'wizard': 3140, 'fx': 3141, 'modesti': 3142, 'min': 3143, 'alexand': 3144, 'plausibl': 3145, 'graduat': 3146, 'gandhi': 3147, 'greek': 3148, 'ruth': 3149, 'legal': 3150, 'preciou': 3151, 'unpleas': 3152, 'manhattan': 3153, 'knight': 3154, 'fund': 3155, 'dracula': 3156, 'ocean': 3157, 'we': 3158, 'holi': 3159, 'tall': 3160, 'lend': 3161, 'harm': 3162, 'jealou': 3163, 'futurist': 3164, 'felix': 3165, 'overdon': 3166, 'explicit': 3167, 'childish': 3168, 'tank': 3169, 'thread': 3170, 'scientif': 3171, 'forbidden': 3172, 'bless': 3173, 'reviv': 3174, 'nod': 3175, 'digniti': 3176, 'mock': 3177, 'giallo': 3178, 'ami': 3179, 'pirat': 3180, '2004': 3181, 'broad': 3182, 'verhoeven': 3183, 'awaken': 3184, 'unwatch': 3185, 'mel': 3186, 'repeatedli': 3187, 'torment': 3188, 'awe': 3189, '99': 3190, 'nerv': 3191, 'thick': 3192, 'yesterday': 3193, 'elderli': 3194, 'fever': 3195, 'eve': 3196, 'margaret': 3197, 'rivet': 3198, 'lean': 3199, 'ah': 3200, 'roman': 3201, 'timothi': 3202, 'custom': 3203, 'publish': 3204, 'ambit': 3205, 'royal': 3206, 'automat': 3207, 'griffith': 3208, 'politician': 3209, 'acclaim': 3210, 'kay': 3211, 'romero': 3212, 'uniform': 3213, 'absenc': 3214, 'eas': 3215, 'stiller': 3216, 'bin': 3217, 'launch': 3218, 'sunshin': 3219, 'tomato': 3220, 'pierc': 3221, 'stinker': 3222, 'wallac': 3223, 'darker': 3224, 'termin': 3225, 'warren': 3226, 'phrase': 3227, 'gabriel': 3228, 'transport': 3229, 'pulp': 3230, 'foul': 3231, 'crook': 3232, 'antic': 3233, 'purpl': 3234, 'bathroom': 3235, 'homicid': 3236, 'viciou': 3237, '2003': 3238, 'juvenil': 3239, 'hollow': 3240, 'awak': 3241, 'packag': 3242, 'pray': 3243, 'horrid': 3244, 'sixti': 3245, 'ought': 3246, 'saint': 3247, 'karen': 3248, 'brazil': 3249, 'marin': 3250, 'eyr': 3251, 'prom': 3252, 'contrari': 3253, 'evolv': 3254, 'rambo': 3255, 'coloni': 3256, 'choreographi': 3257, 'li': 3258, 'kenneth': 3259, 'revolutionari': 3260, 'album': 3261, 'donna': 3262, 'q': 3263, 'dose': 3264, 'boast': 3265, 'defi': 3266, 'candid': 3267, 'overr': 3268, 'twelv': 3269, 'ireland': 3270, 'kapoor': 3271, 'stole': 3272, 'option': 3273, 'conserv': 3274, 'nerd': 3275, 'mummi': 3276, 'mildr': 3277, 'blade': 3278, 'ramon': 3279, 'beatti': 3280, 'confirm': 3281, 'detract': 3282, 'global': 3283, 'natali': 3284, 'funer': 3285, 'astonish': 3286, 'collabor': 3287, 'jazz': 3288, 'protest': 3289, 'kirk': 3290, 'fulci': 3291, 'trio': 3292, 'flame': 3293, 'altman': 3294, 'destini': 3295, 'leap': 3296, 'bottl': 3297, 'nicholson': 3298, 'tommi': 3299, 'spit': 3300, 'delici': 3301, 'racial': 3302, 'mystic': 3303, 'bull': 3304, 'enterpris': 3305, 'audio': 3306, 'shade': 3307, 'whip': 3308, 'yellow': 3309, 'blake': 3310, 'neo': 3311, 'fonda': 3312, 'enchant': 3313, 'merci': 3314, 'staff': 3315, 'popcorn': 3316, 'todd': 3317, 'altogeth': 3318, 'adolesc': 3319, 'visibl': 3320, 'reunit': 3321, 'vivid': 3322, 'threw': 3323, 'harder': 3324, 'bedroom': 3325, 'swedish': 3326, 'inherit': 3327, 'pseudo': 3328, 'meaningless': 3329, 'decor': 3330, 'wire': 3331, 'crocodil': 3332, 'madonna': 3333, 'exhibit': 3334, 'suspici': 3335, 'await': 3336, 'befriend': 3337, 'jew': 3338, 'uneven': 3339, 'fanat': 3340, 'edi': 3341, 'ruthless': 3342, 'roommat': 3343, 'kennedi': 3344, 'synopsi': 3345, 'atlanti': 3346, 'bust': 3347, 'respond': 3348, 'tip': 3349, 'reserv': 3350, 'leonard': 3351, 'voight': 3352, 'lemmon': 3353, 'lawrenc': 3354, 'moodi': 3355, 'holli': 3356, '2007': 3357, 'centr': 3358, 'abysm': 3359, 'audit': 3360, 'incident': 3361, 'rural': 3362, 'ventur': 3363, 'dimens': 3364, 'bradi': 3365, 'clumsi': 3366, 'bold': 3367, 'chao': 3368, 'carl': 3369, 'unsettl': 3370, 'garner': 3371, 'bargain': 3372, 'clint': 3373, 'palma': 3374, 'voyag': 3375, 'cuba': 3376, 'neglect': 3377, 'cd': 3378, 'lit': 3379, 'nearbi': 3380, 'cari': 3381, 'mall': 3382, 'versu': 3383, 'poetic': 3384, 'echo': 3385, 'daddi': 3386, 'imperson': 3387, 'hart': 3388, 'elimin': 3389, 'immigr': 3390, 'wealth': 3391, 'ant': 3392, 'characterist': 3393, 'troop': 3394, 'humili': 3395, '2nd': 3396, 'timon': 3397, 'acknowledg': 3398, 'tiger': 3399, 'trail': 3400, 'domest': 3401, 'homer': 3402, 'paus': 3403, 'solo': 3404, 'collaps': 3405, 'pun': 3406, 'marshal': 3407, 'mickey': 3408, 'jeffrey': 3409, 'mistaken': 3410, 'saga': 3411, 'prejudic': 3412, 'repuls': 3413, 'celluloid': 3414, 'infect': 3415, 'inappropri': 3416, 'leon': 3417, 'inan': 3418, 'tribe': 3419, 'chest': 3420, 'sore': 3421, 'undoubtedli': 3422, 'harvey': 3423, 'ginger': 3424, 'equip': 3425, 'milk': 3426, 'apolog': 3427, 'interrupt': 3428, 'pant': 3429, 'assembl': 3430, 'promin': 3431, 'gear': 3432, 'hbo': 3433, 'cake': 3434, 'coat': 3435, 'olivi': 3436, 'coffe': 3437, '1996': 3438, 'primari': 3439, 'colonel': 3440, 'devast': 3441, 'solut': 3442, 'maggi': 3443, 'airplan': 3444, 'humbl': 3445, 'aveng': 3446, 'embrac': 3447, 'trace': 3448, 'florida': 3449, 'highest': 3450, 'instant': 3451, 'pen': 3452, 'colleagu': 3453, 'furthermor': 3454, 'institut': 3455, 'vulgar': 3456, 'consum': 3457, 'jenni': 3458, 'retain': 3459, 'brooklyn': 3460, 'polanski': 3461, 'pot': 3462, 'exot': 3463, 'bowl': 3464, 'illog': 3465, 'disabl': 3466, '3rd': 3467, 'wive': 3468, 'dutch': 3469, '1999': 3470, 'dian': 3471, 'principl': 3472, 'linda': 3473, 'poke': 3474, 'gender': 3475, 'outer': 3476, 'godzilla': 3477, 'seduct': 3478, 'cope': 3479, 'strain': 3480, 'sale': 3481, 'descend': 3482, 'smaller': 3483, 'rick': 3484, 'ya': 3485, 'scope': 3486, 'dive': 3487, 'dud': 3488, 'glamor': 3489, 'inferior': 3490, 'gloriou': 3491, 'cue': 3492, 'yard': 3493, 'primarili': 3494, 'bubbl': 3495, 'secondli': 3496, 'beneath': 3497, 'mixtur': 3498, 'vast': 3499, 'gundam': 3500, 'predecessor': 3501, 'blatant': 3502, 'lol': 3503, 'devoid': 3504, 'rabbit': 3505, 'hal': 3506, 'alfr': 3507, 'museum': 3508, 'countrysid': 3509, 'aggress': 3510, 'shelf': 3511, 'arab': 3512, 'alert': 3513, 'domino': 3514, 'disjoint': 3515, 'simplist': 3516, 'breed': 3517, 'casual': 3518, 'invas': 3519, 'grinch': 3520, 'senseless': 3521, 'garbo': 3522, 'april': 3523, 'shirley': 3524, 'talki': 3525, 'myer': 3526, 'trademark': 3527, 'z': 3528, 'et': 3529, 'streep': 3530, 'hideou': 3531, 'pearl': 3532, 'hopeless': 3533, 'applaud': 3534, 'mail': 3535, 'disgrac': 3536, 'robberi': 3537, 'illeg': 3538, 'loyal': 3539, 'uwe': 3540, 'vanish': 3541, 'stack': 3542, 'stellar': 3543, 'hardcor': 3544, 'stir': 3545, 'unhappi': 3546, 'experiment': 3547, 'khan': 3548, 'sh': 3549, 'obtain': 3550, 'boom': 3551, 'acid': 3552, 'robinson': 3553, 'rendit': 3554, 'maci': 3555, 'oz': 3556, 'defens': 3557, 'slide': 3558, 'mayor': 3559, 'rifl': 3560, 'diana': 3561, 'fri': 3562, 'amanda': 3563, 'wont': 3564, 'dismiss': 3565, 'blew': 3566, 'tempt': 3567, 'emphasi': 3568, 'dicken': 3569, 'scroog': 3570, 'topless': 3571, 'counter': 3572, 'spider': 3573, 'psychic': 3574, 'span': 3575, 'berlin': 3576, 'declin': 3577, 'incomprehens': 3578, 'grandfath': 3579, 'soccer': 3580, 'tenant': 3581, 'craze': 3582, 'recruit': 3583, 'hartley': 3584, 'niro': 3585, 'bitch': 3586, 'revolt': 3587, 'resurrect': 3588, 'riot': 3589, 'justin': 3590, 'parad': 3591, 'faster': 3592, 'trashi': 3593, 'ration': 3594, 'shed': 3595, 'porno': 3596, 'shaw': 3597, 'goer': 3598, 'sibl': 3599, 'woo': 3600, 'ethnic': 3601, 'wet': 3602, 'sympath': 3603, 'lumet': 3604, 'intim': 3605, 'enlighten': 3606, 'lena': 3607, 'wheel': 3608, 'feminist': 3609, '00': 3610, 'nephew': 3611, 'hesit': 3612, 'slick': 3613, 'eager': 3614, 'commend': 3615, 'weakest': 3616, 'choru': 3617, 'region': 3618, 'gap': 3619, 'honesti': 3620, 'ensur': 3621, 'jonathan': 3622, 'patriot': 3623, 'wendi': 3624, 'dealer': 3625, 'farmer': 3626, 'unreal': 3627, 'worm': 3628, 'rider': 3629, 'mario': 3630, 'steam': 3631, 'biographi': 3632, 'ballet': 3633, 'hopper': 3634, 'immort': 3635, 'partial': 3636, 'andr': 3637, 'properti': 3638, 'blunt': 3639, 'psychopath': 3640, 'composit': 3641, 'skull': 3642, 'wore': 3643, 'sappi': 3644, 'sandra': 3645, 'repress': 3646, 'morri': 3647, 'victori': 3648, 'similarli': 3649, 'util': 3650, 'charlott': 3651, 'leo': 3652, 'prequel': 3653, 'nostalg': 3654, 'hung': 3655, 'snap': 3656, 'kingdom': 3657, 'mutant': 3658, 'safeti': 3659, 'confin': 3660, 'owen': 3661, 'vice': 3662, 'macarthur': 3663, 'franco': 3664, 'compens': 3665, 'deed': 3666, 'tail': 3667, 'heartbreak': 3668, 'miseri': 3669, 'despair': 3670, 'farrel': 3671, 'campbel': 3672, 'thru': 3673, 'pattern': 3674, 'valuabl': 3675, 'bergman': 3676, 'repli': 3677, 'bow': 3678, '1972': 3679, 'speci': 3680, 'tad': 3681, 'rope': 3682, 'kyle': 3683, 'rambl': 3684, 'bonu': 3685, 'compass': 3686, 'recycl': 3687, 'dust': 3688, 'rocki': 3689, 'exit': 3690, 'latin': 3691, 'acquir': 3692, 'drum': 3693, 'dalton': 3694, 'snl': 3695, 'nervou': 3696, 'bumbl': 3697, 'drain': 3698, 'hyde': 3699, 'del': 3700, 'montana': 3701, 'whoopi': 3702, 'strand': 3703, 'emperor': 3704, 'cg': 3705, 'rapist': 3706, 'gimmick': 3707, 'tonight': 3708, 'downhil': 3709, 'da': 3710, 'gal': 3711, 'pour': 3712, 'mistress': 3713, 'contempl': 3714, 'orson': 3715, 'percept': 3716, 'rotten': 3717, 'oppress': 3718, 'romp': 3719, 'wacki': 3720, 'roth': 3721, 'carradin': 3722, 'radic': 3723, '35': 3724, 'slug': 3725, 'airport': 3726, 'chess': 3727, 'martian': 3728, 'bleed': 3729, 'olli': 3730, 'tackl': 3731, 'pervert': 3732, 'melodi': 3733, 'arc': 3734, 'banal': 3735, 'dazzl': 3736, 'stilt': 3737, 'arguabl': 3738, 'slash': 3739, 'belt': 3740, 'champion': 3741, 'pervers': 3742, 'heal': 3743, 'mislead': 3744, 'shelley': 3745, 'preach': 3746, 'edgar': 3747, '1983': 3748, 'unpredict': 3749, 'paltrow': 3750, 'taught': 3751, 'programm': 3752, 'tooth': 3753, 'pursuit': 3754, 'attorney': 3755, 'employe': 3756, 'vocal': 3757, 'graham': 3758, 'maid': 3759, 'franki': 3760, 'gambl': 3761, 'vengeanc': 3762, 'closest': 3763, 'uplift': 3764, 'raymond': 3765, 'marti': 3766, 'orang': 3767, 'conneri': 3768, 'duval': 3769, 'bela': 3770, 'virginia': 3771, 'dixon': 3772, 'chicken': 3773, 'sensat': 3774, 'plight': 3775, 'mesmer': 3776, 'tiresom': 3777, 'poem': 3778, 'cleverli': 3779, 'passeng': 3780, 'rubi': 3781, 'convincingli': 3782, 'profan': 3783, 'engross': 3784, 'giggl': 3785, 'paranoia': 3786, 'swallow': 3787, 'sirk': 3788, 'numb': 3789, '1968': 3790, 'clone': 3791, 'gerard': 3792, 'scottish': 3793, 'amitabh': 3794, 'quarter': 3795, 'extens': 3796, 'mute': 3797, 'pokemon': 3798, 'volum': 3799, 'suffic': 3800, 'calm': 3801, 'secretli': 3802, 'yawn': 3803, 'inject': 3804, 'habit': 3805, 'tube': 3806, 'climact': 3807, 'iran': 3808, 'crystal': 3809, 'monologu': 3810, 'lundgren': 3811, 'outing': 3812, 'whine': 3813, 'bay': 3814, 'abraham': 3815, 'fed': 3816, 'junior': 3817, 'underst': 3818, 'profess': 3819, 'plod': 3820, 'backward': 3821, 'frankenstein': 3822, 'grotesqu': 3823, 'lowest': 3824, 'dispos': 3825, 'ethan': 3826, 'earl': 3827, 'im': 3828, 'richardson': 3829, 'abort': 3830, 'expand': 3831, 'bend': 3832, 'linger': 3833, 'taxi': 3834, 'surpass': 3835, 'poetri': 3836, 'spock': 3837, 'nichola': 3838, 'chicago': 3839, 'trend': 3840, 'franci': 3841, 'meander': 3842, 'septemb': 3843, 'austen': 3844, 'lure': 3845, 'dysfunct': 3846, 'hum': 3847, 'compliment': 3848, 'rant': 3849, 'der': 3850, 'simplic': 3851, 'tourist': 3852, 'descent': 3853, 'mundan': 3854, 'sue': 3855, 'muddl': 3856, 'instrument': 3857, 'household': 3858, 'econom': 3859, 'waitress': 3860, 'eugen': 3861, 'catchi': 3862, 'greedi': 3863, 'spoke': 3864, 'literatur': 3865, 'stallon': 3866, 'myth': 3867, 'nostalgia': 3868, 'cannon': 3869, 'rubber': 3870, 'alongsid': 3871, 'randi': 3872, 'recognit': 3873, 'damon': 3874, 'irrelev': 3875, 'eaten': 3876, 'map': 3877, 'bacal': 3878, 'recognis': 3879, 'molli': 3880, 'stale': 3881, 'equival': 3882, 'phoni': 3883, 'deaf': 3884, 'furi': 3885, 'phantom': 3886, 'occupi': 3887, 'firstli': 3888, 'duck': 3889, 'louis': 3890, 'dictat': 3891, 'lang': 3892, 'june': 3893, 'mankind': 3894, 'sissi': 3895, 'coast': 3896, 'insur': 3897, 'cent': 3898, 'flee': 3899, 'crucial': 3900, 'carel': 3901, 'omen': 3902, 'dement': 3903, 'mortal': 3904, 'hello': 3905, 'bump': 3906, 'labor': 3907, 'onlin': 3908, 'bike': 3909, 'grayson': 3910, 'buffalo': 3911, 'drake': 3912, 'blackmail': 3913, 'rude': 3914, 'heel': 3915, 'reign': 3916, 'rooney': 3917, 'lengthi': 3918, 'ashley': 3919, 'distinguish': 3920, 'freez': 3921, '1973': 3922, 'twilight': 3923, 'cyborg': 3924, 'loyalti': 3925, 'newli': 3926, 'daisi': 3927, 'likewis': 3928, 'dreari': 3929, 'wisdom': 3930, 'damm': 3931, 'biko': 3932, 'antwon': 3933, 'sailor': 3934, 'unorigin': 3935, 'worn': 3936, 'butler': 3937, 'baddi': 3938, 'exposur': 3939, 'keith': 3940, 'approv': 3941, 'inher': 3942, 'nineti': 3943, 'analysi': 3944, 'incorpor': 3945, 'startl': 3946, 'vein': 3947, 'provoc': 3948, 'prey': 3949, 'basketbal': 3950, 'pink': 3951, 'chronicl': 3952, 'emphas': 3953, 'proce': 3954, 'attribut': 3955, 'ridden': 3956, 'tunnel': 3957, 'boxer': 3958, 'barrymor': 3959, 'interior': 3960, 'unrel': 3961, 'belushi': 3962, 'improvis': 3963, 'millionair': 3964, 'carla': 3965, 'fleet': 3966, 'meyer': 3967, 'er': 3968, 'mighti': 3969, 'substitut': 3970, 'indiffer': 3971, 'barrel': 3972, 'simmon': 3973, 'predat': 3974, 'drift': 3975, 'elm': 3976, 'nicol': 3977, 'bunni': 3978, 'underli': 3979, 'robbin': 3980, 'condemn': 3981, 'stalker': 3982, 'undeni': 3983, 'meg': 3984, 'walsh': 3985, 'mormon': 3986, 'julian': 3987, 'degrad': 3988, 'hypnot': 3989, 'othello': 3990, 'roof': 3991, 'vital': 3992, 'alarm': 3993, 'dolph': 3994, 'nyc': 3995, 'mtv': 3996, 'alison': 3997, 'hay': 3998, 'unawar': 3999, 'greed': 4000, 'lampoon': 4001, 'agenda': 4002, 'disord': 4003, 'edgi': 4004, 'palac': 4005, 'priceless': 4006, '3d': 4007, 'shove': 4008, 'marion': 4009, 'exquisit': 4010, 'warmth': 4011, 'firm': 4012, 'rukh': 4013, 'enthusiasm': 4014, 'watson': 4015, 'errol': 4016, 'novak': 4017, 'reid': 4018, '1933': 4019, 'distort': 4020, 'spain': 4021, 'crown': 4022, 'cassidi': 4023, 'israel': 4024, 'valentin': 4025, 'angela': 4026, 'drip': 4027, 'simultan': 4028, 'minimum': 4029, 'what': 4030, 'nun': 4031, 'petti': 4032, 'preserv': 4033, 'profit': 4034, 'pamela': 4035, 'orlean': 4036, 'randomli': 4037, '13th': 4038, 'glanc': 4039, 'coup': 4040, 'thompson': 4041, 'showdown': 4042, 'peril': 4043, 'eastern': 4044, 'iraq': 4045, 'beatl': 4046, 'testament': 4047, 'peck': 4048, 'gestur': 4049, 'ponder': 4050, 'session': 4051, 'unleash': 4052, 'championship': 4053, 'campaign': 4054, 'sergeant': 4055, 'zizek': 4056, 'rout': 4057, 'cream': 4058, 'calib': 4059, 'stake': 4060, 'reson': 4061, 'unimagin': 4062, 'realm': 4063, 'climat': 4064, 'contradict': 4065, 'cooki': 4066, 'exposit': 4067, 'kurosawa': 4068, 'mon': 4069, 'travesti': 4070, 'jan': 4071, 'wig': 4072, 'crawl': 4073, 'valley': 4074, 'fido': 4075, 'perpetu': 4076, 'miyazaki': 4077, 'represent': 4078, 'din': 4079, 'bro': 4080, 'han': 4081, 'gentleman': 4082, 'restrain': 4083, 'crow': 4084, 'buster': 4085, 'regist': 4086, 'brenda': 4087, 'scotland': 4088, 'empathi': 4089, 'shootout': 4090, 'stroke': 4091, '1984': 4092, 'quinn': 4093, 'sabrina': 4094, 'sucker': 4095, 'compromis': 4096, '1987': 4097, 'delic': 4098, 'cloud': 4099, 'censor': 4100, 'painter': 4101, 'demis': 4102, 'pretens': 4103, 'darren': 4104, 'stargat': 4105, 'dana': 4106, 'traumat': 4107, 'unsatisfi': 4108, 'abomin': 4109, 'pole': 4110, '1997': 4111, 'sammi': 4112, 'josh': 4113, 'derang': 4114, 'mclaglen': 4115, 'passabl': 4116, 'fuller': 4117, 'distress': 4118, 'shaki': 4119, 'tacki': 4120, 'perceiv': 4121, 'meryl': 4122, 'ustinov': 4123, 'geek': 4124, 'greg': 4125, 'absent': 4126, 'warrant': 4127, 'unseen': 4128, 'businessman': 4129, 'femm': 4130, 'monoton': 4131, 'ross': 4132, 'shoddi': 4133, 'wax': 4134, 'crawford': 4135, 'spacey': 4136, 'soderbergh': 4137, 'baldwin': 4138, 'norm': 4139, 'anchor': 4140, 'deniro': 4141, 'judgment': 4142, 'accuraci': 4143, 'dee': 4144, 'verbal': 4145, 'jewel': 4146, 'kumar': 4147, 'expedit': 4148, 'reluct': 4149, 'antonioni': 4150, 'deceas': 4151, 'wholli': 4152, 'correctli': 4153, 'tech': 4154, 'uncov': 4155, 'fog': 4156, 'click': 4157, 'seal': 4158, 'furiou': 4159, 'clash': 4160, 'nathan': 4161, 'valid': 4162, 'exclus': 4163, '1993': 4164, 'austin': 4165, 'tarantino': 4166, 'sid': 4167, 'fenc': 4168, 'polici': 4169, 'primit': 4170, 'unravel': 4171, 'unfair': 4172, 'sheet': 4173, 'clerk': 4174, 'fought': 4175, 'darn': 4176, 'malon': 4177, 'dreck': 4178, '1971': 4179, '3000': 4180, 'mode': 4181, 'fabric': 4182, 'wretch': 4183, 'joel': 4184, 'wang': 4185, 'debt': 4186, '1995': 4187, 'crippl': 4188, 'seldom': 4189, 'roller': 4190, 'enforc': 4191, 'shanghai': 4192, 'nicola': 4193, 'hallucin': 4194, 'fart': 4195, 'temper': 4196, 'sand': 4197, 'slam': 4198, 'logan': 4199, 'sunni': 4200, 'conduct': 4201, 'trait': 4202, '2008': 4203, 'sustain': 4204, 'patienc': 4205, 'pocket': 4206, 'behold': 4207, 'ritual': 4208, 'bake': 4209, 'tax': 4210, 'alec': 4211, 'murray': 4212, 'vanc': 4213, 'conscious': 4214, 'exhaust': 4215, 'stark': 4216, 'grief': 4217, 'sweep': 4218, 'outlin': 4219, 'helpless': 4220, 'scriptwrit': 4221, 'rita': 4222, 'isabel': 4223, 'legaci': 4224, 'fundament': 4225, 'penni': 4226, 'critiqu': 4227, 'shell': 4228, 'bridget': 4229, 'technicolor': 4230, 'preposter': 4231, 'soup': 4232, 'despis': 4233, 'clau': 4234, 'preston': 4235, 'canyon': 4236, 'stuart': 4237, 'schedul': 4238, 'divid': 4239, 'robber': 4240, 'tactic': 4241, 'phil': 4242, 'guitar': 4243, 'pete': 4244, 'squad': 4245, 'runner': 4246, 'bias': 4247, 'alley': 4248, 'agenc': 4249, 'restrict': 4250, 'flair': 4251, 'rear': 4252, 'unexpectedli': 4253, 'culmin': 4254, 'invad': 4255, 'downey': 4256, 'liberti': 4257, 'sentinel': 4258, 'boyl': 4259, 'vomit': 4260, 'palanc': 4261, 'lacklust': 4262, 'sniper': 4263, 'bloom': 4264, 'cigarett': 4265, 'jacket': 4266, 'passag': 4267, 'implic': 4268, 'rehash': 4269, 'connor': 4270, 'drove': 4271, 'alicia': 4272, 'delv': 4273, 'consciou': 4274, 'russia': 4275, 'inabl': 4276, 'sugar': 4277, 'propos': 4278, 'jodi': 4279, 'marc': 4280, 'newman': 4281, 'gregori': 4282, 'kansa': 4283, 'feat': 4284, 'chainsaw': 4285, 'bacon': 4286, 'awhil': 4287, 'sharon': 4288, 'lush': 4289, 'yeti': 4290, 'rampag': 4291, 'arrow': 4292, 'karl': 4293, '1936': 4294, 'aesthet': 4295, 'cap': 4296, 'delet': 4297, 'vet': 4298, 'wrench': 4299, 'pale': 4300, 'rehears': 4301, 'mccoy': 4302, 'tendenc': 4303, 'improb': 4304, 'foxx': 4305, 'ladder': 4306, 'tripe': 4307, 'rod': 4308, 'horn': 4309, '22': 4310, 'behaviour': 4311, 'asylum': 4312, 'kolchak': 4313, 'newcom': 4314, 'sung': 4315, 'globe': 4316, 'stream': 4317, 'minu': 4318, 'tasteless': 4319, 'conscienc': 4320, 'el': 4321, '1988': 4322, '19th': 4323, 'underneath': 4324, 'prank': 4325, 'wildli': 4326, 'rumor': 4327, 'financ': 4328, '1920': 4329, 'visitor': 4330, 'wagner': 4331, '1978': 4332, 'spice': 4333, 'suspicion': 4334, 'thunderbird': 4335, 'basing': 4336, 'hackney': 4337, 'rhythm': 4338, 'amazon': 4339, 'paramount': 4340, 'fright': 4341, 'paradis': 4342, 'weav': 4343, 'suffici': 4344, 'tomorrow': 4345, 'filler': 4346, 'elit': 4347, 'coaster': 4348, 'scoop': 4349, 'lurk': 4350, 'hulk': 4351, 'aristocrat': 4352, 'hungri': 4353, 'loneli': 4354, 'shortcom': 4355, 'penn': 4356, 'ingeni': 4357, 'brit': 4358, 'impos': 4359, 'quietli': 4360, 'en': 4361, 'minist': 4362, 'teas': 4363, 'secondari': 4364, 'lectur': 4365, 'rub': 4366, 'standout': 4367, 'couch': 4368, 'grudg': 4369, 'smell': 4370, 'cancer': 4371, 'wwe': 4372, 'tierney': 4373, 'curli': 4374, '75': 4375, 'dirt': 4376, 'literari': 4377, 'choppi': 4378, 'abrupt': 4379, 'atroc': 4380, 'naughti': 4381, 'chamberlain': 4382, '1939': 4383, 'worship': 4384, 'leigh': 4385, 'hopkin': 4386, 'immers': 4387, 'paxton': 4388, 'straightforward': 4389, 'bread': 4390, 'springer': 4391, 'recogniz': 4392, '1989': 4393, 'posey': 4394, 'entranc': 4395, 'beverli': 4396, 'ram': 4397, 'chavez': 4398, 'counterpart': 4399, 'inmat': 4400, 'heist': 4401, 'iv': 4402, 'bernard': 4403, 'quaid': 4404, 'moreov': 4405, 'policeman': 4406, 'convert': 4407, 'misguid': 4408, 'sublim': 4409, 'nemesi': 4410, 'lindsay': 4411, 'missil': 4412, 'enthral': 4413, 'injuri': 4414, 'cattl': 4415, 'net': 4416, 'laurenc': 4417, 'heartfelt': 4418, 'entitl': 4419, '1986': 4420, 'esther': 4421, 'nolan': 4422, 'ratso': 4423, 'skeptic': 4424, 'yearn': 4425, 'ace': 4426, 'attenborough': 4427, 'watcher': 4428, 'morbid': 4429, 'duel': 4430, 'geni': 4431, 'transcend': 4432, 'clan': 4433, 'variat': 4434, 'sassi': 4435, 'moder': 4436, 'artsi': 4437, 'cruelti': 4438, 'grin': 4439, 'youngest': 4440, 'obstacl': 4441, 'hopelessli': 4442, 'uncut': 4443, 'steadi': 4444, 'bye': 4445, 'characteris': 4446, 'dont': 4447, 'bean': 4448, 'out': 4449, 'poe': 4450, 'buzz': 4451, 'rosemari': 4452, 'reliabl': 4453, '1979': 4454, 'tyler': 4455, 'mytholog': 4456, 'setup': 4457, 'egg': 4458, 'spiral': 4459, 'facil': 4460, 'kitti': 4461, 'graini': 4462, 'unexplain': 4463, 'kidman': 4464, 'puppi': 4465, 'enabl': 4466, 'brood': 4467, 'hk': 4468, 'vader': 4469, 'diari': 4470, 'carlito': 4471, 'gina': 4472, 'oblig': 4473, 'acquaint': 4474, 'heap': 4475, 'underworld': 4476, 'weather': 4477, 'martha': 4478, 'sweat': 4479, 'preming': 4480, 'athlet': 4481, 'disastr': 4482, 'baffl': 4483, 'bewar': 4484, 'decept': 4485, 'fuel': 4486, 'hammi': 4487, 'exterior': 4488, 'effici': 4489, 'spontan': 4490, 'clueless': 4491, 'patricia': 4492, 'bronson': 4493, 'narrow': 4494, 'brendan': 4495, 'despic': 4496, '1969': 4497, 'kline': 4498, 'bounc': 4499, 'hain': 4500, 'christin': 4501, 'gillian': 4502, 'niec': 4503, 'trigger': 4504, 'taboo': 4505, 'biker': 4506, 'preachi': 4507, 'harmless': 4508, 'outlaw': 4509, '19': 4510, 'viewpoint': 4511, 'analyz': 4512, 'tick': 4513, 'shatter': 4514, '73': 4515, 'candl': 4516, 'rome': 4517, 'housewif': 4518, 'insipid': 4519, 'scar': 4520, 'injur': 4521, 'hepburn': 4522, 'goof': 4523, 'mayhem': 4524, 'lester': 4525, 'enlist': 4526, 'suprem': 4527, 'angst': 4528, 'loath': 4529, 'circu': 4530, 'sooner': 4531, 'uh': 4532, 'mermaid': 4533, 'virtu': 4534, 'loi': 4535, 'dilemma': 4536, 'dandi': 4537, 'headach': 4538, 'sleepwalk': 4539, 'astound': 4540, 'fontain': 4541, 'renaiss': 4542, 'stimul': 4543, 'salt': 4544, 'macho': 4545, 'sox': 4546, 'glorifi': 4547, 'intric': 4548, 'claustrophob': 4549, 'hooker': 4550, 'amor': 4551, 'steer': 4552, 'cassavet': 4553, 'spade': 4554, 'surgeri': 4555, 'stair': 4556, 'scorses': 4557, 'zoom': 4558, 'phenomenon': 4559, 'immatur': 4560, 'hokey': 4561, 'slimi': 4562, 'idol': 4563, 'contempt': 4564, 'gere': 4565, 'foolish': 4566, 'guin': 4567, 'whore': 4568, 'camcord': 4569, 'boston': 4570, 'corbett': 4571, 'dismal': 4572, 'overlong': 4573, 'tripl': 4574, 'redund': 4575, 'fluff': 4576, 'ebert': 4577, 'hostag': 4578, 'ariel': 4579, 'filth': 4580, 'bent': 4581, 'dish': 4582, 'oldest': 4583, 'alvin': 4584, 'astronaut': 4585, 'shred': 4586, 'margin': 4587, 'beard': 4588, 'obligatori': 4589, 'remad': 4590, 'cohen': 4591, 'zane': 4592, 'assert': 4593, 'naschi': 4594, 'faint': 4595, 'corman': 4596, 'gabl': 4597, 'proport': 4598, 'flashi': 4599, 'perman': 4600, 'strongest': 4601, 'radiat': 4602, 'cow': 4603, 'spree': 4604, 'down': 4605, '1981': 4606, 'flirt': 4607, '1976': 4608, 'mutual': 4609, 'trivia': 4610, 'flag': 4611, 'spinal': 4612, 'keen': 4613, 'rhyme': 4614, 'messi': 4615, 'mount': 4616, 'harold': 4617, 'preced': 4618, 'conquer': 4619, 'nolt': 4620, 'frantic': 4621, 'antagonist': 4622, 'cush': 4623, 'joker': 4624, 'fascist': 4625, 'gasp': 4626, 'shield': 4627, 'schlock': 4628, 'transplant': 4629, 'dwarf': 4630, 'muscl': 4631, 'widescreen': 4632, 'barn': 4633, 'raj': 4634, 'bachelor': 4635, 'brush': 4636, 'carey': 4637, 'resum': 4638, 'archiv': 4639, 'bitten': 4640, 'interestingli': 4641, 'deer': 4642, 'repris': 4643, 'persuad': 4644, 'fishburn': 4645, 'mobil': 4646, 'www': 4647, 'triangl': 4648, 'sensual': 4649, 'instruct': 4650, 'hara': 4651, 'flock': 4652, 'danish': 4653, 'aborigin': 4654, 'off': 4655, '95': 4656, 'divin': 4657, 'boob': 4658, 'someday': 4659, 'departur': 4660, 'scandal': 4661, 'discern': 4662, 'mol': 4663, '28': 4664, 'claud': 4665, 'info': 4666, '1945': 4667, 'vaniti': 4668, 'strive': 4669, 'inflict': 4670, 'ritchi': 4671, 'wield': 4672, 'neurot': 4673, 'hilar': 4674, 'bate': 4675, 'rot': 4676, 'dame': 4677, 'kathryn': 4678, 'frontier': 4679, 'loretta': 4680, 'hapless': 4681, 'clad': 4682, 'jade': 4683, 'undermin': 4684, 'vibrant': 4685, 'pixar': 4686, 'mobster': 4687, 'wendigo': 4688, 'heartwarm': 4689, 'casino': 4690, 'senior': 4691, 'europa': 4692, 'colin': 4693, 'cycl': 4694, 'pacif': 4695, 'banter': 4696, 'cliffhang': 4697, 'proclaim': 4698, 'dylan': 4699, 'recit': 4700, 'melissa': 4701, 'neill': 4702, 'artwork': 4703, 'biblic': 4704, 'fragil': 4705, 'prophet': 4706, 'hug': 4707, 'harrison': 4708, 'submit': 4709, 'ish': 4710, 'dim': 4711, 'luka': 4712, 'helm': 4713, 'parson': 4714, 'traffic': 4715, 'pickford': 4716, 'timberlak': 4717, 'miracul': 4718, 'earnest': 4719, 'carlo': 4720, 'cher': 4721, 'cb': 4722, 'axe': 4723, 'anton': 4724, 'shepherd': 4725, 'estrang': 4726, 'redneck': 4727, 'choke': 4728, 'bondag': 4729, 'foil': 4730, 'vanessa': 4731, 'cerebr': 4732, 'flavor': 4733, 'uma': 4734, 'token': 4735, 'marlon': 4736, 'razor': 4737, 'eli': 4738, 'illus': 4739, 'winchest': 4740, 'blatantli': 4741, 'rooki': 4742, 'akin': 4743, 'electron': 4744, 'articl': 4745, 'http': 4746, 'northern': 4747, 'bikini': 4748, 'orphan': 4749, 'jordan': 4750, 'vile': 4751, 'feast': 4752, 'holocaust': 4753, 'sicken': 4754, 'misfortun': 4755, 'lucil': 4756, 'mason': 4757, 'jo': 4758, 'isra': 4759, 'venom': 4760, 'nope': 4761, 'trier': 4762, 'lui': 4763, 'antholog': 4764, 'legitim': 4765, 'alexandr': 4766, 'seedi': 4767, 'toronto': 4768, 'aris': 4769, 'static': 4770, 'wardrob': 4771, 'mathieu': 4772, 'breakfast': 4773, 'milo': 4774, 'pc': 4775, 'comprehend': 4776, 'gilbert': 4777, 'peer': 4778, 'styliz': 4779, 'howl': 4780, 'smack': 4781, 'leather': 4782, 'tack': 4783, 'abund': 4784, 'linear': 4785, 'cartoonish': 4786, 'fifth': 4787, 'swept': 4788, 'clinic': 4789, 'knightley': 4790, 'nightclub': 4791, 'ceremoni': 4792, 'glare': 4793, 'charlton': 4794, 'shorter': 4795, 'feminin': 4796, 'affleck': 4797, 'audrey': 4798, 'disregard': 4799, 'wrestler': 4800, 'dudley': 4801, 'boyer': 4802, 'psych': 4803, 'turd': 4804, 'outdat': 4805, 'frog': 4806, 'ideolog': 4807, 'gunga': 4808, 'oppon': 4809, 'magician': 4810, 'retriev': 4811, 'deem': 4812, 'highway': 4813, 'huston': 4814, 'breakdown': 4815, 'collector': 4816, 'client': 4817, 'salman': 4818, 'lighter': 4819, 'whack': 4820, 'monument': 4821, 'chip': 4822, 'phenomen': 4823, 'greet': 4824, 'mitch': 4825, '1991': 4826, 'snatch': 4827, '4th': 4828, 'bastard': 4829, 'bogu': 4830, 'lavish': 4831, 'sleaz': 4832, 'corn': 4833, 'durat': 4834, 'uniformli': 4835, 'newer': 4836, 'toe': 4837, 'plate': 4838, 'evolut': 4839, 'einstein': 4840, 'btw': 4841, 'tara': 4842, 'braveheart': 4843, 'summar': 4844, 'senat': 4845, 'spine': 4846, 'compris': 4847, 'cuban': 4848, 'conrad': 4849, 'energet': 4850, 'deliver': 4851, 'spawn': 4852, 'lifeless': 4853, 'potter': 4854, 'cemeteri': 4855, 'boo': 4856, '1994': 4857, 'moe': 4858, 'goldsworthi': 4859, 'constitut': 4860, 'alleg': 4861, 'creek': 4862, 'fluid': 4863, 'sorrow': 4864, 'clara': 4865, 'firmli': 4866, '1977': 4867, 'judd': 4868, 'embark': 4869, 'replay': 4870, 'undertak': 4871, 'lex': 4872, 'armstrong': 4873, 'eleven': 4874, 'appl': 4875, 'bulk': 4876, 'undead': 4877, 'neatli': 4878, 'mcqueen': 4879, 'bori': 4880, 'healthi': 4881, 'historian': 4882, 'belli': 4883, 'luxuri': 4884, 'liu': 4885, 'randolph': 4886, 'evelyn': 4887, 'jare': 4888, 'occup': 4889, 'gilliam': 4890, 'trauma': 4891, 'jule': 4892, 'wtf': 4893, 'signal': 4894, '1974': 4895, 'kent': 4896, 'nina': 4897, 'inaccuraci': 4898, 'ol': 4899, 'jedi': 4900, 'pronounc': 4901, 'spectacl': 4902, 'cecil': 4903, 'ie': 4904, 'kazan': 4905, 'jam': 4906, 'outright': 4907, 'capot': 4908, 'forgiven': 4909, 'galaxi': 4910, 'inclus': 4911, 'kiddi': 4912, 'ash': 4913, 'bait': 4914, 'relentless': 4915, 'genet': 4916, 'blur': 4917, 'lauren': 4918, 'vain': 4919, 'propheci': 4920, 'id': 4921, 'fruit': 4922, 'walt': 4923, 'comb': 4924, 'cape': 4925, 'porter': 4926, 'unattract': 4927, 'unsuspect': 4928, 'decapit': 4929, 'meal': 4930, 'congratul': 4931, 'palm': 4932, 'lanc': 4933, 'sacrif': 4934, 'groan': 4935, 'miniseri': 4936, 'roar': 4937, 'carmen': 4938, 'comprehens': 4939, 'sidewalk': 4940, 'bsg': 4941, 'tokyo': 4942, 'subtli': 4943, 'pioneer': 4944, 'goldblum': 4945, 'rosario': 4946, 'basket': 4947, '1985': 4948, 'mum': 4949, 'curtain': 4950, 'inaccur': 4951, 'abound': 4952, 'poker': 4953, 'truman': 4954, 'spray': 4955, 'knee': 4956, 'aussi': 4957, 'antonio': 4958, 'pepper': 4959, 'paula': 4960, 'vignett': 4961, 'conan': 4962, 'miami': 4963, '21st': 4964, 'frontal': 4965, 'bravo': 4966, 'growth': 4967, 'monti': 4968, 'cypher': 4969, 'jill': 4970, 'ghetto': 4971, 'incorrect': 4972, 'spill': 4973, 'substanti': 4974, 'assort': 4975, 'casper': 4976, 'hackman': 4977, 'scariest': 4978, 'masterson': 4979, 'modest': 4980, 'mice': 4981, 'turtl': 4982, 'omin': 4983, 'weaker': 4984, 'profil': 4985, 'dubiou': 4986, 'rapidli': 4987, 'sparkl': 4988, 'reincarn': 4989, 'motorcycl': 4990, 'bach': 4991, 'detach': 4992, 'playboy': 4993, 'handicap': 4994, 'vastli': 4995, 'epitom': 4996, 'victorian': 4997, 'asset': 4998, 'orchestr': 4999}\n"
     ]
    }
   ],
   "source": [
    "word_dict = build_dict(train_X)"
   ]
  },
  {
   "cell_type": "markdown",
   "metadata": {},
   "source": [
    "**Question:** What are the five most frequently appearing (tokenized) words in the training set? Does it makes sense that these words appear frequently in the training set?"
   ]
  },
  {
   "cell_type": "markdown",
   "metadata": {},
   "source": [
    "**Answer:**\n",
    "'movi', 'film', 'one', 'like', 'time'. Yes, it makes senses since our training set is a set of movies' reviews"
   ]
  },
  {
   "cell_type": "code",
   "execution_count": 14,
   "metadata": {},
   "outputs": [
    {
     "name": "stdout",
     "output_type": "stream",
     "text": [
      "movi\n",
      "film\n",
      "one\n",
      "like\n",
      "time\n"
     ]
    }
   ],
   "source": [
    "# TODO: Use this space to determine the five most frequently appearing words in the training set.\n",
    "i = 0\n",
    "for word in word_dict:\n",
    "    print(word)\n",
    "    i += 1\n",
    "    if i == 5:\n",
    "        break"
   ]
  },
  {
   "cell_type": "markdown",
   "metadata": {},
   "source": [
    "### Save `word_dict`\n",
    "\n",
    "Later on when we construct an endpoint which processes a submitted review we will need to make use of the `word_dict` which we have created. As such, we will save it to a file now for future use."
   ]
  },
  {
   "cell_type": "code",
   "execution_count": 15,
   "metadata": {},
   "outputs": [],
   "source": [
    "data_dir = '../data/pytorch' # The folder we will use for storing data\n",
    "if not os.path.exists(data_dir): # Make sure that the folder exists\n",
    "    os.makedirs(data_dir)"
   ]
  },
  {
   "cell_type": "code",
   "execution_count": 16,
   "metadata": {},
   "outputs": [],
   "source": [
    "with open(os.path.join(data_dir, 'word_dict.pkl'), \"wb\") as f:\n",
    "    pickle.dump(word_dict, f)"
   ]
  },
  {
   "cell_type": "markdown",
   "metadata": {},
   "source": [
    "### Transform the reviews\n",
    "\n",
    "Now that we have our word dictionary which allows us to transform the words appearing in the reviews into integers, it is time to make use of it and convert our reviews to their integer sequence representation, making sure to pad or truncate to a fixed length, which in our case is `500`."
   ]
  },
  {
   "cell_type": "code",
   "execution_count": 17,
   "metadata": {},
   "outputs": [],
   "source": [
    "def convert_and_pad(word_dict, sentence, pad=500):\n",
    "    NOWORD = 0 # We will use 0 to represent the 'no word' category\n",
    "    INFREQ = 1 # and we use 1 to represent the infrequent words, i.e., words not appearing in word_dict\n",
    "    \n",
    "    working_sentence = [NOWORD] * pad\n",
    "    \n",
    "    for word_index, word in enumerate(sentence[:pad]):\n",
    "        if word in word_dict:\n",
    "            working_sentence[word_index] = word_dict[word]\n",
    "        else:\n",
    "            working_sentence[word_index] = INFREQ\n",
    "            \n",
    "    return working_sentence, min(len(sentence), pad)\n",
    "\n",
    "def convert_and_pad_data(word_dict, data, pad=500):\n",
    "    result = []\n",
    "    lengths = []\n",
    "    \n",
    "    for sentence in data:\n",
    "        converted, leng = convert_and_pad(word_dict, sentence, pad)\n",
    "        result.append(converted)\n",
    "        lengths.append(leng)\n",
    "        \n",
    "    return np.array(result), np.array(lengths)"
   ]
  },
  {
   "cell_type": "code",
   "execution_count": 18,
   "metadata": {},
   "outputs": [],
   "source": [
    "train_X, train_X_len = convert_and_pad_data(word_dict, train_X)\n",
    "test_X, test_X_len = convert_and_pad_data(word_dict, test_X)"
   ]
  },
  {
   "cell_type": "markdown",
   "metadata": {},
   "source": [
    "As a quick check to make sure that things are working as intended, check to see what one of the reviews in the training set looks like after having been processeed. Does this look reasonable? What is the length of a review in the training set?"
   ]
  },
  {
   "cell_type": "code",
   "execution_count": 19,
   "metadata": {},
   "outputs": [
    {
     "name": "stdout",
     "output_type": "stream",
     "text": [
      "25000\n",
      "[   7  193   15  773  192 2905 3099  724  151   53  192 2905    2   47\n",
      "    5   13   99  954    2   27   17  473   10  186  101   27   69  477\n",
      "    9 1102 2905    1 1132  190  864    2   71 2988   70  176   12   27\n",
      "    5   26 3793   85 3862    1  369   37 2905    1 1971  397   59  176\n",
      "   10   86  192   27  106    7    2   15   29 4007  192 2905  724  401\n",
      "   11 2905 3099    1    1  604  624   83    0    0    0    0    0    0\n",
      "    0    0    0    0    0    0    0    0    0    0    0    0    0    0\n",
      "    0    0    0    0    0    0    0    0    0    0    0    0    0    0\n",
      "    0    0    0    0    0    0    0    0    0    0    0    0    0    0\n",
      "    0    0    0    0    0    0    0    0    0    0    0    0    0    0\n",
      "    0    0    0    0    0    0    0    0    0    0    0    0    0    0\n",
      "    0    0    0    0    0    0    0    0    0    0    0    0    0    0\n",
      "    0    0    0    0    0    0    0    0    0    0    0    0    0    0\n",
      "    0    0    0    0    0    0    0    0    0    0    0    0    0    0\n",
      "    0    0    0    0    0    0    0    0    0    0    0    0    0    0\n",
      "    0    0    0    0    0    0    0    0    0    0    0    0    0    0\n",
      "    0    0    0    0    0    0    0    0    0    0    0    0    0    0\n",
      "    0    0    0    0    0    0    0    0    0    0    0    0    0    0\n",
      "    0    0    0    0    0    0    0    0    0    0    0    0    0    0\n",
      "    0    0    0    0    0    0    0    0    0    0    0    0    0    0\n",
      "    0    0    0    0    0    0    0    0    0    0    0    0    0    0\n",
      "    0    0    0    0    0    0    0    0    0    0    0    0    0    0\n",
      "    0    0    0    0    0    0    0    0    0    0    0    0    0    0\n",
      "    0    0    0    0    0    0    0    0    0    0    0    0    0    0\n",
      "    0    0    0    0    0    0    0    0    0    0    0    0    0    0\n",
      "    0    0    0    0    0    0    0    0    0    0    0    0    0    0\n",
      "    0    0    0    0    0    0    0    0    0    0    0    0    0    0\n",
      "    0    0    0    0    0    0    0    0    0    0    0    0    0    0\n",
      "    0    0    0    0    0    0    0    0    0    0    0    0    0    0\n",
      "    0    0    0    0    0    0    0    0    0    0    0    0    0    0\n",
      "    0    0    0    0    0    0    0    0    0    0    0    0    0    0\n",
      "    0    0    0    0    0    0    0    0    0    0    0    0    0    0\n",
      "    0    0    0    0    0    0    0    0    0    0    0    0    0    0\n",
      "    0    0    0    0    0    0    0    0    0    0    0    0    0    0\n",
      "    0    0    0    0    0    0    0    0    0    0    0    0    0    0\n",
      "    0    0    0    0    0    0    0    0    0    0]\n",
      "78\n"
     ]
    }
   ],
   "source": [
    "# Use this cell to examine one of the processed reviews to make sure everything is working as intended.\n",
    "print(len(train_X))\n",
    "print(test_X[100])\n",
    "print(test_X_len[100])"
   ]
  },
  {
   "cell_type": "markdown",
   "metadata": {},
   "source": [
    "**Question:** In the cells above we use the `preprocess_data` and `convert_and_pad_data` methods to process both the training and testing set. Why or why not might this be a problem?"
   ]
  },
  {
   "cell_type": "markdown",
   "metadata": {},
   "source": [
    "**Answer:** I don't think this is a problem. Both the training and the testing set needs to be converted into vectors of same length. "
   ]
  },
  {
   "cell_type": "markdown",
   "metadata": {},
   "source": [
    "## Step 3: Upload the data to S3\n",
    "\n",
    "As in the XGBoost notebook, we will need to upload the training dataset to S3 in order for our training code to access it. For now we will save it locally and we will upload to S3 later on.\n",
    "\n",
    "### Save the processed training dataset locally\n",
    "\n",
    "It is important to note the format of the data that we are saving as we will need to know it when we write the training code. In our case, each row of the dataset has the form `label`, `length`, `review[500]` where `review[500]` is a sequence of `500` integers representing the words in the review."
   ]
  },
  {
   "cell_type": "code",
   "execution_count": 20,
   "metadata": {},
   "outputs": [],
   "source": [
    "import pandas as pd\n",
    "    \n",
    "pd.concat([pd.DataFrame(train_y), pd.DataFrame(train_X_len), pd.DataFrame(train_X)], axis=1) \\\n",
    "        .to_csv(os.path.join(data_dir, 'train.csv'), header=False, index=False)"
   ]
  },
  {
   "cell_type": "markdown",
   "metadata": {},
   "source": [
    "### Uploading the training data\n",
    "\n",
    "\n",
    "Next, we need to upload the training data to the SageMaker default S3 bucket so that we can provide access to it while training our model."
   ]
  },
  {
   "cell_type": "code",
   "execution_count": 21,
   "metadata": {},
   "outputs": [],
   "source": [
    "import sagemaker\n",
    "\n",
    "sagemaker_session = sagemaker.Session()\n",
    "\n",
    "bucket = sagemaker_session.default_bucket()\n",
    "prefix = 'sagemaker/sentiment_rnn'\n",
    "\n",
    "role = sagemaker.get_execution_role()"
   ]
  },
  {
   "cell_type": "code",
   "execution_count": 22,
   "metadata": {},
   "outputs": [],
   "source": [
    "input_data = sagemaker_session.upload_data(path=data_dir, bucket=bucket, key_prefix=prefix)"
   ]
  },
  {
   "cell_type": "markdown",
   "metadata": {},
   "source": [
    "**NOTE:** The cell above uploads the entire contents of our data directory. This includes the `word_dict.pkl` file. This is fortunate as we will need this later on when we create an endpoint that accepts an arbitrary review. For now, we will just take note of the fact that it resides in the data directory (and so also in the S3 training bucket) and that we will need to make sure it gets saved in the model directory."
   ]
  },
  {
   "cell_type": "markdown",
   "metadata": {},
   "source": [
    "## Step 4: Build and Train the PyTorch Model\n",
    "\n",
    "In the XGBoost notebook we discussed what a model is in the SageMaker framework. In particular, a model comprises three objects\n",
    "\n",
    " - Model Artifacts,\n",
    " - Training Code, and\n",
    " - Inference Code,\n",
    " \n",
    "each of which interact with one another. In the XGBoost example we used training and inference code that was provided by Amazon. Here we will still be using containers provided by Amazon with the added benefit of being able to include our own custom code.\n",
    "\n",
    "We will start by implementing our own neural network in PyTorch along with a training script. For the purposes of this project we have provided the necessary model object in the `model.py` file, inside of the `train` folder. You can see the provided implementation by running the cell below."
   ]
  },
  {
   "cell_type": "code",
   "execution_count": 23,
   "metadata": {},
   "outputs": [
    {
     "name": "stdout",
     "output_type": "stream",
     "text": [
      "\u001b[34mimport\u001b[39;49;00m \u001b[04m\u001b[36mtorch\u001b[39;49;00m\u001b[04m\u001b[36m.\u001b[39;49;00m\u001b[04m\u001b[36mnn\u001b[39;49;00m \u001b[34mas\u001b[39;49;00m \u001b[04m\u001b[36mnn\u001b[39;49;00m\r\n",
      "\r\n",
      "\u001b[34mclass\u001b[39;49;00m \u001b[04m\u001b[32mLSTMClassifier\u001b[39;49;00m(nn.Module):\r\n",
      "    \u001b[33m\"\"\"\u001b[39;49;00m\r\n",
      "\u001b[33m    This is the simple RNN model we will be using to perform Sentiment Analysis.\u001b[39;49;00m\r\n",
      "\u001b[33m    \"\"\"\u001b[39;49;00m\r\n",
      "\r\n",
      "    \u001b[34mdef\u001b[39;49;00m \u001b[32m__init__\u001b[39;49;00m(\u001b[36mself\u001b[39;49;00m, embedding_dim, hidden_dim, vocab_size):\r\n",
      "        \u001b[33m\"\"\"\u001b[39;49;00m\r\n",
      "\u001b[33m        Initialize the model by settingg up the various layers.\u001b[39;49;00m\r\n",
      "\u001b[33m        \"\"\"\u001b[39;49;00m\r\n",
      "        \u001b[36msuper\u001b[39;49;00m(LSTMClassifier, \u001b[36mself\u001b[39;49;00m).\u001b[32m__init__\u001b[39;49;00m()\r\n",
      "\r\n",
      "        \u001b[36mself\u001b[39;49;00m.embedding = nn.Embedding(vocab_size, embedding_dim, padding_idx=\u001b[34m0\u001b[39;49;00m)\r\n",
      "        \u001b[36mself\u001b[39;49;00m.lstm = nn.LSTM(embedding_dim, hidden_dim)\r\n",
      "        \u001b[36mself\u001b[39;49;00m.dense = nn.Linear(in_features=hidden_dim, out_features=\u001b[34m1\u001b[39;49;00m)\r\n",
      "        \u001b[36mself\u001b[39;49;00m.sig = nn.Sigmoid()\r\n",
      "        \r\n",
      "        \u001b[36mself\u001b[39;49;00m.word_dict = \u001b[34mNone\u001b[39;49;00m\r\n",
      "\r\n",
      "    \u001b[34mdef\u001b[39;49;00m \u001b[32mforward\u001b[39;49;00m(\u001b[36mself\u001b[39;49;00m, x):\r\n",
      "        \u001b[33m\"\"\"\u001b[39;49;00m\r\n",
      "\u001b[33m        Perform a forward pass of our model on some input.\u001b[39;49;00m\r\n",
      "\u001b[33m        \"\"\"\u001b[39;49;00m\r\n",
      "        x = x.t()\r\n",
      "        lengths = x[\u001b[34m0\u001b[39;49;00m,:]\r\n",
      "        reviews = x[\u001b[34m1\u001b[39;49;00m:,:]\r\n",
      "        embeds = \u001b[36mself\u001b[39;49;00m.embedding(reviews)\r\n",
      "        lstm_out, _ = \u001b[36mself\u001b[39;49;00m.lstm(embeds)\r\n",
      "        out = \u001b[36mself\u001b[39;49;00m.dense(lstm_out)\r\n",
      "        out = out[lengths - \u001b[34m1\u001b[39;49;00m, \u001b[36mrange\u001b[39;49;00m(\u001b[36mlen\u001b[39;49;00m(lengths))]\r\n",
      "        \u001b[34mreturn\u001b[39;49;00m \u001b[36mself\u001b[39;49;00m.sig(out.squeeze())\r\n"
     ]
    }
   ],
   "source": [
    "!pygmentize train/model.py"
   ]
  },
  {
   "cell_type": "markdown",
   "metadata": {},
   "source": [
    "The important takeaway from the implementation provided is that there are three parameters that we may wish to tweak to improve the performance of our model. These are the embedding dimension, the hidden dimension and the size of the vocabulary. We will likely want to make these parameters configurable in the training script so that if we wish to modify them we do not need to modify the script itself. We will see how to do this later on. To start we will write some of the training code in the notebook so that we can more easily diagnose any issues that arise.\n",
    "\n",
    "First we will load a small portion of the training data set to use as a sample. It would be very time consuming to try and train the model completely in the notebook as we do not have access to a gpu and the compute instance that we are using is not particularly powerful. However, we can work on a small bit of the data to get a feel for how our training script is behaving."
   ]
  },
  {
   "cell_type": "code",
   "execution_count": 24,
   "metadata": {},
   "outputs": [],
   "source": [
    "import torch\n",
    "import torch.utils.data\n",
    "\n",
    "# Read in only the first 250 rows\n",
    "train_sample = pd.read_csv(os.path.join(data_dir, 'train.csv'), header=None, names=None, nrows=250)\n",
    "\n",
    "# Turn the input pandas dataframe into tensors\n",
    "train_sample_y = torch.from_numpy(train_sample[[0]].values).float().squeeze()\n",
    "train_sample_X = torch.from_numpy(train_sample.drop([0], axis=1).values).long()\n",
    "\n",
    "# Build the dataset\n",
    "train_sample_ds = torch.utils.data.TensorDataset(train_sample_X, train_sample_y)\n",
    "# Build the dataloader\n",
    "train_sample_dl = torch.utils.data.DataLoader(train_sample_ds, batch_size=50)"
   ]
  },
  {
   "cell_type": "markdown",
   "metadata": {},
   "source": [
    "### (TODO) Writing the training method\n",
    "\n",
    "Next we need to write the training code itself. This should be very similar to training methods that you have written before to train PyTorch models. We will leave any difficult aspects such as model saving / loading and parameter loading until a little later."
   ]
  },
  {
   "cell_type": "code",
   "execution_count": 25,
   "metadata": {},
   "outputs": [],
   "source": [
    "import torch.optim as optim\n",
    "import torch.nn as nn\n",
    "\n",
    "def train(model, train_loader, epochs, optimizer, loss_fn, device):\n",
    "    \n",
    "    for epoch in range(1, epochs + 1):\n",
    "        model.train()\n",
    "        total_loss = 0\n",
    "        for batch in train_loader:\n",
    "            batch_X, batch_y = batch\n",
    "            \n",
    "            batch_X = batch_X.to(device)\n",
    "            batch_y = batch_y.to(device)\n",
    "            \n",
    "            # TODO: Complete this train method to train the model provided.\n",
    "            optimizer.zero_grad()\n",
    "            outputs = model(batch_X)\n",
    "            loss = loss_fn(outputs, batch_y)\n",
    "            loss.backward()\n",
    "            optimizer.step()\n",
    "            total_loss += loss.data.item()\n",
    "\n",
    "        print(\"Epoch: {}, BCELoss: {}\".format(epoch, total_loss / len(train_loader)))"
   ]
  },
  {
   "cell_type": "markdown",
   "metadata": {},
   "source": [
    "Supposing we have the training method above, we will test that it is working by writing a bit of code in the notebook that executes our training method on the small sample training set that we loaded earlier. The reason for doing this in the notebook is so that we have an opportunity to fix any errors that arise early when they are easier to diagnose."
   ]
  },
  {
   "cell_type": "code",
   "execution_count": 26,
   "metadata": {},
   "outputs": [
    {
     "name": "stdout",
     "output_type": "stream",
     "text": [
      "Epoch: 1, BCELoss: 0.6927384257316589\n",
      "Epoch: 2, BCELoss: 0.6839561462402344\n",
      "Epoch: 3, BCELoss: 0.6768540501594543\n",
      "Epoch: 4, BCELoss: 0.6694968223571778\n",
      "Epoch: 5, BCELoss: 0.6613343834877015\n"
     ]
    }
   ],
   "source": [
    "import torch.optim as optim\n",
    "from train.model import LSTMClassifier\n",
    "\n",
    "device = torch.device(\"cuda\" if torch.cuda.is_available() else \"cpu\")\n",
    "model = LSTMClassifier(32, 100, 5000).to(device)\n",
    "optimizer = optim.Adam(model.parameters())\n",
    "loss_fn = torch.nn.BCELoss()\n",
    "\n",
    "train(model, train_sample_dl, 5, optimizer, loss_fn, device)"
   ]
  },
  {
   "cell_type": "markdown",
   "metadata": {},
   "source": [
    "In order to construct a PyTorch model using SageMaker we must provide SageMaker with a training script. We may optionally include a directory which will be copied to the container and from which our training code will be run. When the training container is executed it will check the uploaded directory (if there is one) for a `requirements.txt` file and install any required Python libraries, after which the training script will be run."
   ]
  },
  {
   "cell_type": "markdown",
   "metadata": {},
   "source": [
    "### (TODO) Training the model\n",
    "\n",
    "When a PyTorch model is constructed in SageMaker, an entry point must be specified. This is the Python file which will be executed when the model is trained. Inside of the `train` directory is a file called `train.py` which has been provided and which contains most of the necessary code to train our model. The only thing that is missing is the implementation of the `train()` method which you wrote earlier in this notebook.\n",
    "\n",
    "**TODO**: Copy the `train()` method written above and paste it into the `train/train.py` file where required.\n",
    "\n",
    "The way that SageMaker passes hyperparameters to the training script is by way of arguments. These arguments can then be parsed and used in the training script. To see how this is done take a look at the provided `train/train.py` file."
   ]
  },
  {
   "cell_type": "code",
   "execution_count": 27,
   "metadata": {},
   "outputs": [],
   "source": [
    "from sagemaker.pytorch import PyTorch\n",
    "estimator = None\n",
    "estimator = PyTorch(entry_point=\"train.py\",\n",
    "                    source_dir=\"train\",\n",
    "                    role=role,\n",
    "                    framework_version='0.4.0',\n",
    "                    py_version=\"py3\",\n",
    "                    train_instance_count=1,\n",
    "                    train_instance_type='ml.p2.xlarge',\n",
    "                    hyperparameters={\n",
    "                        'epochs': 10,\n",
    "                        'hidden_dim': 200,\n",
    "                    })"
   ]
  },
  {
   "cell_type": "code",
   "execution_count": 28,
   "metadata": {},
   "outputs": [
    {
     "name": "stderr",
     "output_type": "stream",
     "text": [
      "'create_image_uri' will be deprecated in favor of 'ImageURIProvider' class in SageMaker Python SDK v2.\n",
      "'s3_input' class will be renamed to 'TrainingInput' in SageMaker Python SDK v2.\n",
      "'create_image_uri' will be deprecated in favor of 'ImageURIProvider' class in SageMaker Python SDK v2.\n"
     ]
    },
    {
     "name": "stdout",
     "output_type": "stream",
     "text": [
      "2021-02-08 03:43:31 Starting - Starting the training job...\n",
      "2021-02-08 03:43:33 Starting - Launching requested ML instances.........\n",
      "2021-02-08 03:45:18 Starting - Preparing the instances for training.........\n",
      "2021-02-08 03:46:37 Downloading - Downloading input data...\n",
      "2021-02-08 03:47:15 Training - Downloading the training image..\n",
      "2021-02-08 03:47:46 Training - Training image download completed. Training in progress.\u001b[34mbash: cannot set terminal process group (-1): Inappropriate ioctl for device\u001b[0m\n",
      "\u001b[34mbash: no job control in this shell\u001b[0m\n",
      "\u001b[34m2021-02-08 03:47:47,308 sagemaker-containers INFO     Imported framework sagemaker_pytorch_container.training\u001b[0m\n",
      "\u001b[34m2021-02-08 03:47:47,336 sagemaker_pytorch_container.training INFO     Block until all host DNS lookups succeed.\u001b[0m\n",
      "\u001b[34m2021-02-08 03:47:48,786 sagemaker_pytorch_container.training INFO     Invoking user training script.\u001b[0m\n",
      "\u001b[34m2021-02-08 03:48:49,581 sagemaker-containers INFO     Module train does not provide a setup.py. \u001b[0m\n",
      "\u001b[34mGenerating setup.py\u001b[0m\n",
      "\u001b[34m2021-02-08 03:48:49,582 sagemaker-containers INFO     Generating setup.cfg\u001b[0m\n",
      "\u001b[34m2021-02-08 03:48:49,582 sagemaker-containers INFO     Generating MANIFEST.in\u001b[0m\n",
      "\u001b[34m2021-02-08 03:48:49,582 sagemaker-containers INFO     Installing module with the following command:\u001b[0m\n",
      "\u001b[34m/usr/bin/python -m pip install -U . -r requirements.txt\u001b[0m\n",
      "\u001b[34mProcessing /opt/ml/code\u001b[0m\n",
      "\u001b[34mCollecting pandas (from -r requirements.txt (line 1))\n",
      "  Downloading https://files.pythonhosted.org/packages/74/24/0cdbf8907e1e3bc5a8da03345c23cbed7044330bb8f73bb12e711a640a00/pandas-0.24.2-cp35-cp35m-manylinux1_x86_64.whl (10.0MB)\u001b[0m\n",
      "\u001b[34mCollecting numpy (from -r requirements.txt (line 2))\u001b[0m\n",
      "\u001b[34m  Downloading https://files.pythonhosted.org/packages/b5/36/88723426b4ff576809fec7d73594fe17a35c27f8d01f93637637a29ae25b/numpy-1.18.5-cp35-cp35m-manylinux1_x86_64.whl (19.9MB)\u001b[0m\n",
      "\u001b[34mCollecting nltk (from -r requirements.txt (line 3))\n",
      "  Downloading https://files.pythonhosted.org/packages/92/75/ce35194d8e3022203cca0d2f896dbb88689f9b3fce8e9f9cff942913519d/nltk-3.5.zip (1.4MB)\u001b[0m\n",
      "\u001b[34mCollecting beautifulsoup4 (from -r requirements.txt (line 4))\n",
      "  Downloading https://files.pythonhosted.org/packages/d1/41/e6495bd7d3781cee623ce23ea6ac73282a373088fcd0ddc809a047b18eae/beautifulsoup4-4.9.3-py3-none-any.whl (115kB)\u001b[0m\n",
      "\u001b[34mCollecting html5lib (from -r requirements.txt (line 5))\u001b[0m\n",
      "\u001b[34m  Downloading https://files.pythonhosted.org/packages/6c/dd/a834df6482147d48e225a49515aabc28974ad5a4ca3215c18a882565b028/html5lib-1.1-py2.py3-none-any.whl (112kB)\u001b[0m\n",
      "\u001b[34mCollecting pytz>=2011k (from pandas->-r requirements.txt (line 1))\n",
      "  Downloading https://files.pythonhosted.org/packages/70/94/784178ca5dd892a98f113cdd923372024dc04b8d40abe77ca76b5fb90ca6/pytz-2021.1-py2.py3-none-any.whl (510kB)\u001b[0m\n",
      "\u001b[34mRequirement already satisfied, skipping upgrade: python-dateutil>=2.5.0 in /usr/local/lib/python3.5/dist-packages (from pandas->-r requirements.txt (line 1)) (2.7.5)\u001b[0m\n",
      "\u001b[34mRequirement already satisfied, skipping upgrade: click in /usr/local/lib/python3.5/dist-packages (from nltk->-r requirements.txt (line 3)) (7.0)\u001b[0m\n",
      "\u001b[34mCollecting joblib (from nltk->-r requirements.txt (line 3))\n",
      "  Downloading https://files.pythonhosted.org/packages/28/5c/cf6a2b65a321c4a209efcdf64c2689efae2cb62661f8f6f4bb28547cf1bf/joblib-0.14.1-py2.py3-none-any.whl (294kB)\u001b[0m\n",
      "\u001b[34mCollecting regex (from nltk->-r requirements.txt (line 3))\u001b[0m\n",
      "\u001b[34m  Downloading https://files.pythonhosted.org/packages/2e/e4/3447fed9ab29944333f48730ecff4dca92f0868c5b188d6ab2b2078e32c2/regex-2020.11.13.tar.gz (694kB)\u001b[0m\n",
      "\u001b[34mCollecting tqdm (from nltk->-r requirements.txt (line 3))\n",
      "  Downloading https://files.pythonhosted.org/packages/80/02/8f8880a4fd6625461833abcf679d4c12a44c76f9925f92bf212bb6cefaad/tqdm-4.56.0-py2.py3-none-any.whl (72kB)\u001b[0m\n",
      "\u001b[34mCollecting soupsieve>1.2; python_version >= \"3.0\" (from beautifulsoup4->-r requirements.txt (line 4))\n",
      "  Downloading https://files.pythonhosted.org/packages/02/fb/1c65691a9aeb7bd6ac2aa505b84cb8b49ac29c976411c6ab3659425e045f/soupsieve-2.1-py3-none-any.whl\u001b[0m\n",
      "\u001b[34mRequirement already satisfied, skipping upgrade: six>=1.9 in /usr/local/lib/python3.5/dist-packages (from html5lib->-r requirements.txt (line 5)) (1.11.0)\u001b[0m\n",
      "\u001b[34mCollecting webencodings (from html5lib->-r requirements.txt (line 5))\n",
      "  Downloading https://files.pythonhosted.org/packages/f4/24/2a3e3df732393fed8b3ebf2ec078f05546de641fe1b667ee316ec1dcf3b7/webencodings-0.5.1-py2.py3-none-any.whl\u001b[0m\n",
      "\u001b[34mBuilding wheels for collected packages: nltk, train, regex\n",
      "  Running setup.py bdist_wheel for nltk: started\u001b[0m\n",
      "\u001b[34m  Running setup.py bdist_wheel for nltk: finished with status 'done'\n",
      "  Stored in directory: /root/.cache/pip/wheels/ae/8c/3f/b1fe0ba04555b08b57ab52ab7f86023639a526d8bc8d384306\n",
      "  Running setup.py bdist_wheel for train: started\u001b[0m\n",
      "\u001b[34m  Running setup.py bdist_wheel for train: finished with status 'done'\n",
      "  Stored in directory: /tmp/pip-ephem-wheel-cache-d_6t19ye/wheels/35/24/16/37574d11bf9bde50616c67372a334f94fa8356bc7164af8ca3\n",
      "  Running setup.py bdist_wheel for regex: started\u001b[0m\n",
      "\u001b[34m  Running setup.py bdist_wheel for regex: finished with status 'done'\n",
      "  Stored in directory: /root/.cache/pip/wheels/27/f6/66/a4243e485a0ebc73dc59033ae26c48e82526f77dbfe158ac59\u001b[0m\n",
      "\u001b[34mSuccessfully built nltk train regex\u001b[0m\n",
      "\u001b[34mInstalling collected packages: pytz, numpy, pandas, joblib, regex, tqdm, nltk, soupsieve, beautifulsoup4, webencodings, html5lib, train\n",
      "  Found existing installation: numpy 1.15.4\n",
      "    Uninstalling numpy-1.15.4:\u001b[0m\n",
      "\u001b[34m      Successfully uninstalled numpy-1.15.4\u001b[0m\n",
      "\u001b[34mSuccessfully installed beautifulsoup4-4.9.3 html5lib-1.1 joblib-0.14.1 nltk-3.5 numpy-1.18.5 pandas-0.24.2 pytz-2021.1 regex-2020.11.13 soupsieve-2.1 tqdm-4.56.0 train-1.0.0 webencodings-0.5.1\u001b[0m\n",
      "\u001b[34mYou are using pip version 18.1, however version 20.3.4 is available.\u001b[0m\n",
      "\u001b[34mYou should consider upgrading via the 'pip install --upgrade pip' command.\u001b[0m\n",
      "\u001b[34m2021-02-08 03:49:14,965 sagemaker-containers INFO     Invoking user script\n",
      "\u001b[0m\n",
      "\u001b[34mTraining Env:\n",
      "\u001b[0m\n",
      "\u001b[34m{\n",
      "    \"hyperparameters\": {\n",
      "        \"hidden_dim\": 200,\n",
      "        \"epochs\": 10\n",
      "    },\n",
      "    \"module_name\": \"train\",\n",
      "    \"job_name\": \"sagemaker-pytorch-2021-02-08-03-43-31-031\",\n",
      "    \"additional_framework_parameters\": {},\n",
      "    \"input_dir\": \"/opt/ml/input\",\n",
      "    \"module_dir\": \"s3://sagemaker-us-east-1-668157908928/sagemaker-pytorch-2021-02-08-03-43-31-031/source/sourcedir.tar.gz\",\n",
      "    \"num_gpus\": 1,\n",
      "    \"output_data_dir\": \"/opt/ml/output/data\",\n",
      "    \"network_interface_name\": \"eth0\",\n",
      "    \"output_intermediate_dir\": \"/opt/ml/output/intermediate\",\n",
      "    \"framework_module\": \"sagemaker_pytorch_container.training:main\",\n",
      "    \"current_host\": \"algo-1\",\n",
      "    \"output_dir\": \"/opt/ml/output\",\n",
      "    \"num_cpus\": 4,\n",
      "    \"input_data_config\": {\n",
      "        \"training\": {\n",
      "            \"TrainingInputMode\": \"File\",\n",
      "            \"S3DistributionType\": \"FullyReplicated\",\n",
      "            \"RecordWrapperType\": \"None\"\n",
      "        }\n",
      "    },\n",
      "    \"channel_input_dirs\": {\n",
      "        \"training\": \"/opt/ml/input/data/training\"\n",
      "    },\n",
      "    \"user_entry_point\": \"train.py\",\n",
      "    \"resource_config\": {\n",
      "        \"network_interface_name\": \"eth0\",\n",
      "        \"current_host\": \"algo-1\",\n",
      "        \"hosts\": [\n",
      "            \"algo-1\"\n",
      "        ]\n",
      "    },\n",
      "    \"log_level\": 20,\n",
      "    \"input_config_dir\": \"/opt/ml/input/config\",\n",
      "    \"hosts\": [\n",
      "        \"algo-1\"\n",
      "    ],\n",
      "    \"model_dir\": \"/opt/ml/model\"\u001b[0m\n",
      "\u001b[34m}\n",
      "\u001b[0m\n",
      "\u001b[34mEnvironment variables:\n",
      "\u001b[0m\n",
      "\u001b[34mSM_NETWORK_INTERFACE_NAME=eth0\u001b[0m\n",
      "\u001b[34mSM_HOSTS=[\"algo-1\"]\u001b[0m\n",
      "\u001b[34mSM_INPUT_DATA_CONFIG={\"training\":{\"RecordWrapperType\":\"None\",\"S3DistributionType\":\"FullyReplicated\",\"TrainingInputMode\":\"File\"}}\u001b[0m\n",
      "\u001b[34mSM_HP_HIDDEN_DIM=200\u001b[0m\n",
      "\u001b[34mSM_MODULE_NAME=train\u001b[0m\n",
      "\u001b[34mSM_INPUT_CONFIG_DIR=/opt/ml/input/config\u001b[0m\n",
      "\u001b[34mSM_MODULE_DIR=s3://sagemaker-us-east-1-668157908928/sagemaker-pytorch-2021-02-08-03-43-31-031/source/sourcedir.tar.gz\u001b[0m\n",
      "\u001b[34mSM_INPUT_DIR=/opt/ml/input\u001b[0m\n",
      "\u001b[34mSM_NUM_GPUS=1\u001b[0m\n",
      "\u001b[34mSM_USER_ENTRY_POINT=train.py\u001b[0m\n",
      "\u001b[34mSM_CHANNELS=[\"training\"]\u001b[0m\n",
      "\u001b[34mSM_RESOURCE_CONFIG={\"current_host\":\"algo-1\",\"hosts\":[\"algo-1\"],\"network_interface_name\":\"eth0\"}\u001b[0m\n",
      "\u001b[34mSM_FRAMEWORK_MODULE=sagemaker_pytorch_container.training:main\u001b[0m\n",
      "\u001b[34mSM_TRAINING_ENV={\"additional_framework_parameters\":{},\"channel_input_dirs\":{\"training\":\"/opt/ml/input/data/training\"},\"current_host\":\"algo-1\",\"framework_module\":\"sagemaker_pytorch_container.training:main\",\"hosts\":[\"algo-1\"],\"hyperparameters\":{\"epochs\":10,\"hidden_dim\":200},\"input_config_dir\":\"/opt/ml/input/config\",\"input_data_config\":{\"training\":{\"RecordWrapperType\":\"None\",\"S3DistributionType\":\"FullyReplicated\",\"TrainingInputMode\":\"File\"}},\"input_dir\":\"/opt/ml/input\",\"job_name\":\"sagemaker-pytorch-2021-02-08-03-43-31-031\",\"log_level\":20,\"model_dir\":\"/opt/ml/model\",\"module_dir\":\"s3://sagemaker-us-east-1-668157908928/sagemaker-pytorch-2021-02-08-03-43-31-031/source/sourcedir.tar.gz\",\"module_name\":\"train\",\"network_interface_name\":\"eth0\",\"num_cpus\":4,\"num_gpus\":1,\"output_data_dir\":\"/opt/ml/output/data\",\"output_dir\":\"/opt/ml/output\",\"output_intermediate_dir\":\"/opt/ml/output/intermediate\",\"resource_config\":{\"current_host\":\"algo-1\",\"hosts\":[\"algo-1\"],\"network_interface_name\":\"eth0\"},\"user_entry_point\":\"train.py\"}\u001b[0m\n",
      "\u001b[34mSM_NUM_CPUS=4\u001b[0m\n",
      "\u001b[34mSM_CURRENT_HOST=algo-1\u001b[0m\n",
      "\u001b[34mSM_HPS={\"epochs\":10,\"hidden_dim\":200}\u001b[0m\n",
      "\u001b[34mSM_HP_EPOCHS=10\u001b[0m\n",
      "\u001b[34mSM_CHANNEL_TRAINING=/opt/ml/input/data/training\u001b[0m\n",
      "\u001b[34mSM_USER_ARGS=[\"--epochs\",\"10\",\"--hidden_dim\",\"200\"]\u001b[0m\n",
      "\u001b[34mSM_FRAMEWORK_PARAMS={}\u001b[0m\n",
      "\u001b[34mSM_LOG_LEVEL=20\u001b[0m\n",
      "\u001b[34mSM_MODEL_DIR=/opt/ml/model\u001b[0m\n",
      "\u001b[34mSM_OUTPUT_DIR=/opt/ml/output\u001b[0m\n",
      "\u001b[34mSM_OUTPUT_DATA_DIR=/opt/ml/output/data\u001b[0m\n",
      "\u001b[34mSM_OUTPUT_INTERMEDIATE_DIR=/opt/ml/output/intermediate\u001b[0m\n",
      "\u001b[34mPYTHONPATH=/usr/local/bin:/usr/lib/python35.zip:/usr/lib/python3.5:/usr/lib/python3.5/plat-x86_64-linux-gnu:/usr/lib/python3.5/lib-dynload:/usr/local/lib/python3.5/dist-packages:/usr/lib/python3/dist-packages\n",
      "\u001b[0m\n",
      "\u001b[34mInvoking script with the following command:\n",
      "\u001b[0m\n",
      "\u001b[34m/usr/bin/python -m train --epochs 10 --hidden_dim 200\n",
      "\n",
      "\u001b[0m\n",
      "\u001b[34mUsing device cuda.\u001b[0m\n",
      "\u001b[34mGet train data loader.\u001b[0m\n",
      "\u001b[34mModel loaded with embedding_dim 32, hidden_dim 200, vocab_size 5000.\u001b[0m\n",
      "\u001b[34mEpoch: 1, BCELoss: 0.6757231074936536\u001b[0m\n",
      "\u001b[34mEpoch: 2, BCELoss: 0.6193919619735406\u001b[0m\n",
      "\u001b[34mEpoch: 3, BCELoss: 0.539069647083477\u001b[0m\n",
      "\u001b[34mEpoch: 4, BCELoss: 0.4559328604717644\u001b[0m\n",
      "\u001b[34mEpoch: 5, BCELoss: 0.4145497107992367\u001b[0m\n",
      "\u001b[34mEpoch: 6, BCELoss: 0.37302893643476526\u001b[0m\n",
      "\u001b[34mEpoch: 7, BCELoss: 0.33238844725550437\u001b[0m\n",
      "\u001b[34mEpoch: 8, BCELoss: 0.307896438301826\u001b[0m\n",
      "\u001b[34mEpoch: 9, BCELoss: 0.29622894312654224\u001b[0m\n",
      "\u001b[34mEpoch: 10, BCELoss: 0.27166644620652103\u001b[0m\n",
      "\u001b[34m2021-02-08 03:52:17,073 sagemaker-containers INFO     Reporting training SUCCESS\u001b[0m\n",
      "\n",
      "2021-02-08 03:52:58 Uploading - Uploading generated training model\n",
      "2021-02-08 03:52:58 Completed - Training job completed\n",
      "Training seconds: 381\n",
      "Billable seconds: 381\n"
     ]
    }
   ],
   "source": [
    "estimator.fit({'training': input_data})"
   ]
  },
  {
   "cell_type": "markdown",
   "metadata": {},
   "source": [
    "## Step 5: Testing the model\n",
    "\n",
    "As mentioned at the top of this notebook, we will be testing this model by first deploying it and then sending the testing data to the deployed endpoint. We will do this so that we can make sure that the deployed model is working correctly.\n",
    "\n",
    "## Step 6: Deploy the model for testing\n",
    "\n",
    "Now that we have trained our model, we would like to test it to see how it performs. Currently our model takes input of the form `review_length, review[500]` where `review[500]` is a sequence of `500` integers which describe the words present in the review, encoded using `word_dict`. Fortunately for us, SageMaker provides built-in inference code for models with simple inputs such as this.\n",
    "\n",
    "There is one thing that we need to provide, however, and that is a function which loads the saved model. This function must be called `model_fn()` and takes as its only parameter a path to the directory where the model artifacts are stored. This function must also be present in the python file which we specified as the entry point. In our case the model loading function has been provided and so no changes need to be made.\n",
    "\n",
    "**NOTE**: When the built-in inference code is run it must import the `model_fn()` method from the `train.py` file. This is why the training code is wrapped in a main guard ( ie, `if __name__ == '__main__':` )\n",
    "\n",
    "Since we don't need to change anything in the code that was uploaded during training, we can simply deploy the current model as-is.\n",
    "\n",
    "**NOTE:** When deploying a model you are asking SageMaker to launch an compute instance that will wait for data to be sent to it. As a result, this compute instance will continue to run until *you* shut it down. This is important to know since the cost of a deployed endpoint depends on how long it has been running for.\n",
    "\n",
    "In other words **If you are no longer using a deployed endpoint, shut it down!**\n",
    "\n",
    "**TODO:** Deploy the trained model."
   ]
  },
  {
   "cell_type": "code",
   "execution_count": 29,
   "metadata": {},
   "outputs": [
    {
     "name": "stderr",
     "output_type": "stream",
     "text": [
      "Parameter image will be renamed to image_uri in SageMaker Python SDK v2.\n",
      "'create_image_uri' will be deprecated in favor of 'ImageURIProvider' class in SageMaker Python SDK v2.\n"
     ]
    },
    {
     "name": "stdout",
     "output_type": "stream",
     "text": [
      "-----------------!"
     ]
    }
   ],
   "source": [
    "# TODO: Deploy the trained model\n",
    "rnn_predictor = estimator.deploy(initial_instance_count=1, instance_type='ml.m4.xlarge')"
   ]
  },
  {
   "cell_type": "markdown",
   "metadata": {},
   "source": [
    "## Step 7 - Use the model for testing\n",
    "\n",
    "Once deployed, we can read in the test data and send it off to our deployed model to get some results. Once we collect all of the results we can determine how accurate our model is."
   ]
  },
  {
   "cell_type": "code",
   "execution_count": 30,
   "metadata": {},
   "outputs": [],
   "source": [
    "test_X = pd.concat([pd.DataFrame(test_X_len), pd.DataFrame(test_X)], axis=1)"
   ]
  },
  {
   "cell_type": "code",
   "execution_count": 31,
   "metadata": {},
   "outputs": [],
   "source": [
    "# We split the data into chunks and send each chunk seperately, accumulating the results.\n",
    "\n",
    "def predict(data, rows=512):\n",
    "    split_array = np.array_split(data, int(data.shape[0] / float(rows) + 1))\n",
    "    predictions = np.array([])\n",
    "    for array in split_array:\n",
    "\n",
    "        predictions = np.append(predictions, rnn_predictor.predict(array))\n",
    "    \n",
    "    return predictions"
   ]
  },
  {
   "cell_type": "code",
   "execution_count": 32,
   "metadata": {},
   "outputs": [],
   "source": [
    "predictions = predict(test_X.values)\n",
    "predictions = [round(num) for num in predictions]"
   ]
  },
  {
   "cell_type": "code",
   "execution_count": 33,
   "metadata": {},
   "outputs": [
    {
     "data": {
      "text/plain": [
       "0.827"
      ]
     },
     "execution_count": 33,
     "metadata": {},
     "output_type": "execute_result"
    }
   ],
   "source": [
    "from sklearn.metrics import accuracy_score\n",
    "accuracy_score(test_y, predictions)"
   ]
  },
  {
   "cell_type": "markdown",
   "metadata": {},
   "source": [
    "**Question:** How does this model compare to the XGBoost model you created earlier? Why might these two models perform differently on this dataset? Which do *you* think is better for sentiment analysis?"
   ]
  },
  {
   "cell_type": "markdown",
   "metadata": {},
   "source": [
    "**Answer:** They seem equally good to me. I personally think RNN model is better for sentiment analysis than random forest used in XGBoost"
   ]
  },
  {
   "cell_type": "markdown",
   "metadata": {},
   "source": [
    "### (TODO) More testing\n",
    "\n",
    "We now have a trained model which has been deployed and which we can send processed reviews to and which returns the predicted sentiment. However, ultimately we would like to be able to send our model an unprocessed review. That is, we would like to send the review itself as a string. For example, suppose we wish to send the following review to our model."
   ]
  },
  {
   "cell_type": "code",
   "execution_count": 34,
   "metadata": {},
   "outputs": [],
   "source": [
    "test_review = 'The simplest pleasures in life are the best, and this film is one of them. Combining a rather basic storyline of love and adventure this movie transcends the usual weekend fair with wit and unmitigated charm.'"
   ]
  },
  {
   "cell_type": "markdown",
   "metadata": {},
   "source": [
    "The question we now need to answer is, how do we send this review to our model?\n",
    "\n",
    "Recall in the first section of this notebook we did a bunch of data processing to the IMDb dataset. In particular, we did two specific things to the provided reviews.\n",
    " - Removed any html tags and stemmed the input\n",
    " - Encoded the review as a sequence of integers using `word_dict`\n",
    " \n",
    "In order process the review we will need to repeat these two steps.\n",
    "\n",
    "**TODO**: Using the `review_to_words` and `convert_and_pad` methods from section one, convert `test_review` into a numpy array `test_data` suitable to send to our model. Remember that our model expects input of the form `review_length, review[500]`."
   ]
  },
  {
   "cell_type": "code",
   "execution_count": 35,
   "metadata": {},
   "outputs": [
    {
     "name": "stdout",
     "output_type": "stream",
     "text": [
      "[[20, 1, 1376, 49, 53, 3, 4, 878, 173, 392, 682, 29, 724, 2, 4432, 275, 2077, 1059, 760, 1, 582, 0, 0, 0, 0, 0, 0, 0, 0, 0, 0, 0, 0, 0, 0, 0, 0, 0, 0, 0, 0, 0, 0, 0, 0, 0, 0, 0, 0, 0, 0, 0, 0, 0, 0, 0, 0, 0, 0, 0, 0, 0, 0, 0, 0, 0, 0, 0, 0, 0, 0, 0, 0, 0, 0, 0, 0, 0, 0, 0, 0, 0, 0, 0, 0, 0, 0, 0, 0, 0, 0, 0, 0, 0, 0, 0, 0, 0, 0, 0, 0, 0, 0, 0, 0, 0, 0, 0, 0, 0, 0, 0, 0, 0, 0, 0, 0, 0, 0, 0, 0, 0, 0, 0, 0, 0, 0, 0, 0, 0, 0, 0, 0, 0, 0, 0, 0, 0, 0, 0, 0, 0, 0, 0, 0, 0, 0, 0, 0, 0, 0, 0, 0, 0, 0, 0, 0, 0, 0, 0, 0, 0, 0, 0, 0, 0, 0, 0, 0, 0, 0, 0, 0, 0, 0, 0, 0, 0, 0, 0, 0, 0, 0, 0, 0, 0, 0, 0, 0, 0, 0, 0, 0, 0, 0, 0, 0, 0, 0, 0, 0, 0, 0, 0, 0, 0, 0, 0, 0, 0, 0, 0, 0, 0, 0, 0, 0, 0, 0, 0, 0, 0, 0, 0, 0, 0, 0, 0, 0, 0, 0, 0, 0, 0, 0, 0, 0, 0, 0, 0, 0, 0, 0, 0, 0, 0, 0, 0, 0, 0, 0, 0, 0, 0, 0, 0, 0, 0, 0, 0, 0, 0, 0, 0, 0, 0, 0, 0, 0, 0, 0, 0, 0, 0, 0, 0, 0, 0, 0, 0, 0, 0, 0, 0, 0, 0, 0, 0, 0, 0, 0, 0, 0, 0, 0, 0, 0, 0, 0, 0, 0, 0, 0, 0, 0, 0, 0, 0, 0, 0, 0, 0, 0, 0, 0, 0, 0, 0, 0, 0, 0, 0, 0, 0, 0, 0, 0, 0, 0, 0, 0, 0, 0, 0, 0, 0, 0, 0, 0, 0, 0, 0, 0, 0, 0, 0, 0, 0, 0, 0, 0, 0, 0, 0, 0, 0, 0, 0, 0, 0, 0, 0, 0, 0, 0, 0, 0, 0, 0, 0, 0, 0, 0, 0, 0, 0, 0, 0, 0, 0, 0, 0, 0, 0, 0, 0, 0, 0, 0, 0, 0, 0, 0, 0, 0, 0, 0, 0, 0, 0, 0, 0, 0, 0, 0, 0, 0, 0, 0, 0, 0, 0, 0, 0, 0, 0, 0, 0, 0, 0, 0, 0, 0, 0, 0, 0, 0, 0, 0, 0, 0, 0, 0, 0, 0, 0, 0, 0, 0, 0, 0, 0, 0, 0, 0, 0, 0, 0, 0, 0, 0, 0, 0, 0, 0, 0, 0, 0, 0, 0, 0, 0, 0, 0, 0, 0, 0, 0, 0, 0, 0, 0, 0, 0, 0, 0, 0, 0, 0, 0, 0, 0, 0, 0, 0, 0, 0, 0, 0, 0, 0, 0, 0, 0, 0, 0, 0, 0, 0, 0, 0]]\n"
     ]
    }
   ],
   "source": [
    "# TODO: Convert test_review into a form usable by the model and save the results in test_data\n",
    "converted, leng = convert_and_pad(word_dict, review_to_words(test_review), 500)\n",
    "converted.insert(0, leng)\n",
    "test_data = []\n",
    "test_data.append(converted)\n",
    "print(test_data)"
   ]
  },
  {
   "cell_type": "markdown",
   "metadata": {},
   "source": [
    "Now that we have processed the review, we can send the resulting array to our model to predict the sentiment of the review."
   ]
  },
  {
   "cell_type": "code",
   "execution_count": 36,
   "metadata": {},
   "outputs": [
    {
     "data": {
      "text/plain": [
       "array(0.71407497, dtype=float32)"
      ]
     },
     "execution_count": 36,
     "metadata": {},
     "output_type": "execute_result"
    }
   ],
   "source": [
    "rnn_predictor.predict(test_data)"
   ]
  },
  {
   "cell_type": "markdown",
   "metadata": {},
   "source": [
    "Since the return value of our model is close to `1`, we can be certain that the review we submitted is positive."
   ]
  },
  {
   "cell_type": "markdown",
   "metadata": {},
   "source": [
    "### Delete the endpoint\n",
    "\n",
    "Of course, just like in the XGBoost notebook, once we've deployed an endpoint it continues to run until we tell it to shut down. Since we are done using our endpoint for now, we can delete it."
   ]
  },
  {
   "cell_type": "code",
   "execution_count": 37,
   "metadata": {},
   "outputs": [
    {
     "name": "stderr",
     "output_type": "stream",
     "text": [
      "estimator.delete_endpoint() will be deprecated in SageMaker Python SDK v2. Please use the delete_endpoint() function on your predictor instead.\n"
     ]
    }
   ],
   "source": [
    "estimator.delete_endpoint()"
   ]
  },
  {
   "cell_type": "markdown",
   "metadata": {},
   "source": [
    "## Step 6 (again) - Deploy the model for the web app\n",
    "\n",
    "Now that we know that our model is working, it's time to create some custom inference code so that we can send the model a review which has not been processed and have it determine the sentiment of the review.\n",
    "\n",
    "As we saw above, by default the estimator which we created, when deployed, will use the entry script and directory which we provided when creating the model. However, since we now wish to accept a string as input and our model expects a processed review, we need to write some custom inference code.\n",
    "\n",
    "We will store the code that we write in the `serve` directory. Provided in this directory is the `model.py` file that we used to construct our model, a `utils.py` file which contains the `review_to_words` and `convert_and_pad` pre-processing functions which we used during the initial data processing, and `predict.py`, the file which will contain our custom inference code. Note also that `requirements.txt` is present which will tell SageMaker what Python libraries are required by our custom inference code.\n",
    "\n",
    "When deploying a PyTorch model in SageMaker, you are expected to provide four functions which the SageMaker inference container will use.\n",
    " - `model_fn`: This function is the same function that we used in the training script and it tells SageMaker how to load our model.\n",
    " - `input_fn`: This function receives the raw serialized input that has been sent to the model's endpoint and its job is to de-serialize and make the input available for the inference code.\n",
    " - `output_fn`: This function takes the output of the inference code and its job is to serialize this output and return it to the caller of the model's endpoint.\n",
    " - `predict_fn`: The heart of the inference script, this is where the actual prediction is done and is the function which you will need to complete.\n",
    "\n",
    "For the simple website that we are constructing during this project, the `input_fn` and `output_fn` methods are relatively straightforward. We only require being able to accept a string as input and we expect to return a single value as output. You might imagine though that in a more complex application the input or output may be image data or some other binary data which would require some effort to serialize.\n",
    "\n",
    "### (TODO) Writing inference code\n",
    "\n",
    "Before writing our custom inference code, we will begin by taking a look at the code which has been provided."
   ]
  },
  {
   "cell_type": "code",
   "execution_count": 2,
   "metadata": {},
   "outputs": [
    {
     "name": "stdout",
     "output_type": "stream",
     "text": [
      "\u001b[34mimport\u001b[39;49;00m \u001b[04m\u001b[36margparse\u001b[39;49;00m\r\n",
      "\u001b[34mimport\u001b[39;49;00m \u001b[04m\u001b[36mjson\u001b[39;49;00m\r\n",
      "\u001b[34mimport\u001b[39;49;00m \u001b[04m\u001b[36mos\u001b[39;49;00m\r\n",
      "\u001b[34mimport\u001b[39;49;00m \u001b[04m\u001b[36mpickle\u001b[39;49;00m\r\n",
      "\u001b[34mimport\u001b[39;49;00m \u001b[04m\u001b[36msys\u001b[39;49;00m\r\n",
      "\u001b[34mimport\u001b[39;49;00m \u001b[04m\u001b[36msagemaker_containers\u001b[39;49;00m\r\n",
      "\u001b[34mimport\u001b[39;49;00m \u001b[04m\u001b[36mpandas\u001b[39;49;00m \u001b[34mas\u001b[39;49;00m \u001b[04m\u001b[36mpd\u001b[39;49;00m\r\n",
      "\u001b[34mimport\u001b[39;49;00m \u001b[04m\u001b[36mnumpy\u001b[39;49;00m \u001b[34mas\u001b[39;49;00m \u001b[04m\u001b[36mnp\u001b[39;49;00m\r\n",
      "\u001b[34mimport\u001b[39;49;00m \u001b[04m\u001b[36mtorch\u001b[39;49;00m\r\n",
      "\u001b[34mimport\u001b[39;49;00m \u001b[04m\u001b[36mtorch\u001b[39;49;00m\u001b[04m\u001b[36m.\u001b[39;49;00m\u001b[04m\u001b[36mnn\u001b[39;49;00m \u001b[34mas\u001b[39;49;00m \u001b[04m\u001b[36mnn\u001b[39;49;00m\r\n",
      "\u001b[34mimport\u001b[39;49;00m \u001b[04m\u001b[36mtorch\u001b[39;49;00m\u001b[04m\u001b[36m.\u001b[39;49;00m\u001b[04m\u001b[36moptim\u001b[39;49;00m \u001b[34mas\u001b[39;49;00m \u001b[04m\u001b[36moptim\u001b[39;49;00m\r\n",
      "\u001b[34mimport\u001b[39;49;00m \u001b[04m\u001b[36mtorch\u001b[39;49;00m\u001b[04m\u001b[36m.\u001b[39;49;00m\u001b[04m\u001b[36mutils\u001b[39;49;00m\u001b[04m\u001b[36m.\u001b[39;49;00m\u001b[04m\u001b[36mdata\u001b[39;49;00m\r\n",
      "\r\n",
      "\u001b[34mfrom\u001b[39;49;00m \u001b[04m\u001b[36mmodel\u001b[39;49;00m \u001b[34mimport\u001b[39;49;00m LSTMClassifier\r\n",
      "\r\n",
      "\u001b[34mfrom\u001b[39;49;00m \u001b[04m\u001b[36mutils\u001b[39;49;00m \u001b[34mimport\u001b[39;49;00m review_to_words, convert_and_pad\r\n",
      "\r\n",
      "\u001b[34mdef\u001b[39;49;00m \u001b[32mmodel_fn\u001b[39;49;00m(model_dir):\r\n",
      "    \u001b[33m\"\"\"Load the PyTorch model from the `model_dir` directory.\"\"\"\u001b[39;49;00m\r\n",
      "    \u001b[36mprint\u001b[39;49;00m(\u001b[33m\"\u001b[39;49;00m\u001b[33mLoading model.\u001b[39;49;00m\u001b[33m\"\u001b[39;49;00m)\r\n",
      "\r\n",
      "    \u001b[37m# First, load the parameters used to create the model.\u001b[39;49;00m\r\n",
      "    model_info = {}\r\n",
      "    model_info_path = os.path.join(model_dir, \u001b[33m'\u001b[39;49;00m\u001b[33mmodel_info.pth\u001b[39;49;00m\u001b[33m'\u001b[39;49;00m)\r\n",
      "    \u001b[34mwith\u001b[39;49;00m \u001b[36mopen\u001b[39;49;00m(model_info_path, \u001b[33m'\u001b[39;49;00m\u001b[33mrb\u001b[39;49;00m\u001b[33m'\u001b[39;49;00m) \u001b[34mas\u001b[39;49;00m f:\r\n",
      "        model_info = torch.load(f)\r\n",
      "\r\n",
      "    \u001b[36mprint\u001b[39;49;00m(\u001b[33m\"\u001b[39;49;00m\u001b[33mmodel_info: \u001b[39;49;00m\u001b[33m{}\u001b[39;49;00m\u001b[33m\"\u001b[39;49;00m.format(model_info))\r\n",
      "\r\n",
      "    \u001b[37m# Determine the device and construct the model.\u001b[39;49;00m\r\n",
      "    device = torch.device(\u001b[33m\"\u001b[39;49;00m\u001b[33mcuda\u001b[39;49;00m\u001b[33m\"\u001b[39;49;00m \u001b[34mif\u001b[39;49;00m torch.cuda.is_available() \u001b[34melse\u001b[39;49;00m \u001b[33m\"\u001b[39;49;00m\u001b[33mcpu\u001b[39;49;00m\u001b[33m\"\u001b[39;49;00m)\r\n",
      "    model = LSTMClassifier(model_info[\u001b[33m'\u001b[39;49;00m\u001b[33membedding_dim\u001b[39;49;00m\u001b[33m'\u001b[39;49;00m], model_info[\u001b[33m'\u001b[39;49;00m\u001b[33mhidden_dim\u001b[39;49;00m\u001b[33m'\u001b[39;49;00m], model_info[\u001b[33m'\u001b[39;49;00m\u001b[33mvocab_size\u001b[39;49;00m\u001b[33m'\u001b[39;49;00m])\r\n",
      "\r\n",
      "    \u001b[37m# Load the store model parameters.\u001b[39;49;00m\r\n",
      "    model_path = os.path.join(model_dir, \u001b[33m'\u001b[39;49;00m\u001b[33mmodel.pth\u001b[39;49;00m\u001b[33m'\u001b[39;49;00m)\r\n",
      "    \u001b[34mwith\u001b[39;49;00m \u001b[36mopen\u001b[39;49;00m(model_path, \u001b[33m'\u001b[39;49;00m\u001b[33mrb\u001b[39;49;00m\u001b[33m'\u001b[39;49;00m) \u001b[34mas\u001b[39;49;00m f:\r\n",
      "        model.load_state_dict(torch.load(f))\r\n",
      "\r\n",
      "    \u001b[37m# Load the saved word_dict.\u001b[39;49;00m\r\n",
      "    word_dict_path = os.path.join(model_dir, \u001b[33m'\u001b[39;49;00m\u001b[33mword_dict.pkl\u001b[39;49;00m\u001b[33m'\u001b[39;49;00m)\r\n",
      "    \u001b[34mwith\u001b[39;49;00m \u001b[36mopen\u001b[39;49;00m(word_dict_path, \u001b[33m'\u001b[39;49;00m\u001b[33mrb\u001b[39;49;00m\u001b[33m'\u001b[39;49;00m) \u001b[34mas\u001b[39;49;00m f:\r\n",
      "        model.word_dict = pickle.load(f)\r\n",
      "\r\n",
      "    model.to(device).eval()\r\n",
      "\r\n",
      "    \u001b[36mprint\u001b[39;49;00m(\u001b[33m\"\u001b[39;49;00m\u001b[33mDone loading model.\u001b[39;49;00m\u001b[33m\"\u001b[39;49;00m)\r\n",
      "    \u001b[34mreturn\u001b[39;49;00m model\r\n",
      "\r\n",
      "\u001b[34mdef\u001b[39;49;00m \u001b[32minput_fn\u001b[39;49;00m(serialized_input_data, content_type):\r\n",
      "    \u001b[36mprint\u001b[39;49;00m(\u001b[33m'\u001b[39;49;00m\u001b[33mDeserializing the input data.\u001b[39;49;00m\u001b[33m'\u001b[39;49;00m)\r\n",
      "    \u001b[34mif\u001b[39;49;00m content_type == \u001b[33m'\u001b[39;49;00m\u001b[33mtext/plain\u001b[39;49;00m\u001b[33m'\u001b[39;49;00m:\r\n",
      "        data = serialized_input_data.decode(\u001b[33m'\u001b[39;49;00m\u001b[33mutf-8\u001b[39;49;00m\u001b[33m'\u001b[39;49;00m)\r\n",
      "        \u001b[34mreturn\u001b[39;49;00m data\r\n",
      "    \u001b[34mraise\u001b[39;49;00m \u001b[36mException\u001b[39;49;00m(\u001b[33m'\u001b[39;49;00m\u001b[33mRequested unsupported ContentType in content_type: \u001b[39;49;00m\u001b[33m'\u001b[39;49;00m + content_type)\r\n",
      "\r\n",
      "\u001b[34mdef\u001b[39;49;00m \u001b[32moutput_fn\u001b[39;49;00m(prediction_output, accept):\r\n",
      "    \u001b[36mprint\u001b[39;49;00m(\u001b[33m'\u001b[39;49;00m\u001b[33mSerializing the generated output.\u001b[39;49;00m\u001b[33m'\u001b[39;49;00m)\r\n",
      "    \u001b[34mreturn\u001b[39;49;00m \u001b[36mstr\u001b[39;49;00m(prediction_output)\r\n",
      "\r\n",
      "\u001b[34mdef\u001b[39;49;00m \u001b[32mpredict_fn\u001b[39;49;00m(input_data, model):\r\n",
      "    \u001b[36mprint\u001b[39;49;00m(\u001b[33m'\u001b[39;49;00m\u001b[33mInferring sentiment of input data.\u001b[39;49;00m\u001b[33m'\u001b[39;49;00m)\r\n",
      "\r\n",
      "    device = torch.device(\u001b[33m\"\u001b[39;49;00m\u001b[33mcuda\u001b[39;49;00m\u001b[33m\"\u001b[39;49;00m \u001b[34mif\u001b[39;49;00m torch.cuda.is_available() \u001b[34melse\u001b[39;49;00m \u001b[33m\"\u001b[39;49;00m\u001b[33mcpu\u001b[39;49;00m\u001b[33m\"\u001b[39;49;00m)\r\n",
      "    \r\n",
      "    \u001b[34mif\u001b[39;49;00m model.word_dict \u001b[35mis\u001b[39;49;00m \u001b[34mNone\u001b[39;49;00m:\r\n",
      "        \u001b[34mraise\u001b[39;49;00m \u001b[36mException\u001b[39;49;00m(\u001b[33m'\u001b[39;49;00m\u001b[33mModel has not been loaded properly, no word_dict.\u001b[39;49;00m\u001b[33m'\u001b[39;49;00m)\r\n",
      "    \r\n",
      "    \u001b[37m# TODO: Process input_data so that it is ready to be sent to our model.\u001b[39;49;00m\r\n",
      "    \u001b[37m#       You should produce two variables:\u001b[39;49;00m\r\n",
      "    \u001b[37m#         data_X   - A sequence of length 500 which represents the converted review\u001b[39;49;00m\r\n",
      "    \u001b[37m#         data_len - The length of the review\u001b[39;49;00m\r\n",
      "    data_X = \u001b[34mNone\u001b[39;49;00m\r\n",
      "    data_len = \u001b[34mNone\u001b[39;49;00m\r\n",
      "    data_X, data_len = convert_and_pad(model.word_dict, review_to_words(input_data), \u001b[34m500\u001b[39;49;00m)\r\n",
      "\r\n",
      "    \u001b[37m# Using data_X and data_len we construct an appropriate input tensor. Remember\u001b[39;49;00m\r\n",
      "    \u001b[37m# that our model expects input data of the form 'len, review[500]'.\u001b[39;49;00m\r\n",
      "    data_pack = np.hstack((data_len, data_X))\r\n",
      "    data_pack = data_pack.reshape(\u001b[34m1\u001b[39;49;00m, -\u001b[34m1\u001b[39;49;00m)\r\n",
      "    \r\n",
      "    data = torch.from_numpy(data_pack)\r\n",
      "    data = data.to(device)\r\n",
      "    \u001b[37m#print(data)\u001b[39;49;00m\r\n",
      "    \u001b[37m# Make sure to put the model into evaluation mode\u001b[39;49;00m\r\n",
      "    model.eval()\r\n",
      "\r\n",
      "    \u001b[37m# TODO: Compute the result of applying the model to the input data. The variable `result` should\u001b[39;49;00m\r\n",
      "    \u001b[37m#       be a numpy array which contains a single integer which is either 1 or 0\u001b[39;49;00m\r\n",
      "    result = \u001b[34mNone\u001b[39;49;00m\r\n",
      "    \u001b[37m#Make a forward call to predict\u001b[39;49;00m\r\n",
      "    prediction = model.forward(data)\r\n",
      "    result = np.round(prediction.numpy())\r\n",
      "    \r\n",
      "    \u001b[34mreturn\u001b[39;49;00m result\r\n"
     ]
    }
   ],
   "source": [
    "!pygmentize serve/predict.py"
   ]
  },
  {
   "cell_type": "markdown",
   "metadata": {},
   "source": [
    "As mentioned earlier, the `model_fn` method is the same as the one provided in the training code and the `input_fn` and `output_fn` methods are very simple and your task will be to complete the `predict_fn` method. Make sure that you save the completed file as `predict.py` in the `serve` directory.\n",
    "\n",
    "**TODO**: Complete the `predict_fn()` method in the `serve/predict.py` file."
   ]
  },
  {
   "cell_type": "markdown",
   "metadata": {},
   "source": [
    "### Deploying the model\n",
    "\n",
    "Now that the custom inference code has been written, we will create and deploy our model. To begin with, we need to construct a new PyTorchModel object which points to the model artifacts created during training and also points to the inference code that we wish to use. Then we can call the deploy method to launch the deployment container.\n",
    "\n",
    "**NOTE**: The default behaviour for a deployed PyTorch model is to assume that any input passed to the predictor is a `numpy` array. In our case we want to send a string so we need to construct a simple wrapper around the `RealTimePredictor` class to accomodate simple strings. In a more complicated situation you may want to provide a serialization object, for example if you wanted to sent image data."
   ]
  },
  {
   "cell_type": "code",
   "execution_count": 51,
   "metadata": {},
   "outputs": [
    {
     "name": "stderr",
     "output_type": "stream",
     "text": [
      "Parameter image will be renamed to image_uri in SageMaker Python SDK v2.\n",
      "'create_image_uri' will be deprecated in favor of 'ImageURIProvider' class in SageMaker Python SDK v2.\n"
     ]
    },
    {
     "name": "stdout",
     "output_type": "stream",
     "text": [
      "---------------!"
     ]
    }
   ],
   "source": [
    "from sagemaker.predictor import RealTimePredictor\n",
    "from sagemaker.pytorch import PyTorchModel\n",
    "\n",
    "class StringPredictor(RealTimePredictor):\n",
    "    def __init__(self, endpoint_name, sagemaker_session):\n",
    "        super(StringPredictor, self).__init__(endpoint_name, sagemaker_session, content_type='text/plain')\n",
    "\n",
    "model = PyTorchModel(model_data=estimator.model_data,\n",
    "                     role = role,\n",
    "                     framework_version='0.4.0',\n",
    "                     entry_point='predict.py',\n",
    "                     source_dir='serve',\n",
    "                     predictor_cls=StringPredictor)\n",
    "predictor = model.deploy(initial_instance_count=1, instance_type='ml.m4.xlarge')"
   ]
  },
  {
   "cell_type": "code",
   "execution_count": 44,
   "metadata": {},
   "outputs": [
    {
     "name": "stderr",
     "output_type": "stream",
     "text": [
      "Parameter image will be renamed to image_uri in SageMaker Python SDK v2.\n"
     ]
    },
    {
     "name": "stdout",
     "output_type": "stream",
     "text": [
      "tensor([[ 143,   14,   23, 1831,    3,  275,   61,   22,  584,  660,  494,   32,\n",
      "            1,  830, 1975,    1,   33,   42,  107,  177,    2,  573,  779,  978,\n",
      "          454,   22,    8,  196,   23,   30,   22,    8,  196,  454, 4239,  229,\n",
      "           30, 1056,  334,  103,  933,  230,  298,    4,    6, 1677,  854,  237,\n",
      "          170,  439, 2611, 1132,    1,  426,  948,    1,  640,  462,  248,  160,\n",
      "           30, 1056,  334,    1,  815,    1, 1507,  815, 1138, 4894, 2216, 1297,\n",
      "          462, 1525,  160,    8,   70,  196,  896,   31,   46,  375,  439, 1297,\n",
      "          462,    1, 1297,  421, 2286, 4803,  783, 1297,  464,   66,  265,    1,\n",
      "          192,   14,    1,  132,   31,    8,   70,  196,  131, 1056,  237, 1297,\n",
      "           51, 1677,  526,  602,    4,   42,  334,   10, 1297,  188,  109,   27,\n",
      "         2748, 1056,  334,   27, 2326,    4,    4, 2127, 2216,  462,   27,  248,\n",
      "           71,   49, 3599, 1297,   15, 4514,  642,  415, 1507,    1,  778,   22,\n",
      "            0,    0,    0,    0,    0,    0,    0,    0,    0,    0,    0,    0,\n",
      "            0,    0,    0,    0,    0,    0,    0,    0,    0,    0,    0,    0,\n",
      "            0,    0,    0,    0,    0,    0,    0,    0,    0,    0,    0,    0,\n",
      "            0,    0,    0,    0,    0,    0,    0,    0,    0,    0,    0,    0,\n",
      "            0,    0,    0,    0,    0,    0,    0,    0,    0,    0,    0,    0,\n",
      "            0,    0,    0,    0,    0,    0,    0,    0,    0,    0,    0,    0,\n",
      "            0,    0,    0,    0,    0,    0,    0,    0,    0,    0,    0,    0,\n",
      "            0,    0,    0,    0,    0,    0,    0,    0,    0,    0,    0,    0,\n",
      "            0,    0,    0,    0,    0,    0,    0,    0,    0,    0,    0,    0,\n",
      "            0,    0,    0,    0,    0,    0,    0,    0,    0,    0,    0,    0,\n",
      "            0,    0,    0,    0,    0,    0,    0,    0,    0,    0,    0,    0,\n",
      "            0,    0,    0,    0,    0,    0,    0,    0,    0,    0,    0,    0,\n",
      "            0,    0,    0,    0,    0,    0,    0,    0,    0,    0,    0,    0,\n",
      "            0,    0,    0,    0,    0,    0,    0,    0,    0,    0,    0,    0,\n",
      "            0,    0,    0,    0,    0,    0,    0,    0,    0,    0,    0,    0,\n",
      "            0,    0,    0,    0,    0,    0,    0,    0,    0,    0,    0,    0,\n",
      "            0,    0,    0,    0,    0,    0,    0,    0,    0,    0,    0,    0,\n",
      "            0,    0,    0,    0,    0,    0,    0,    0,    0,    0,    0,    0,\n",
      "            0,    0,    0,    0,    0,    0,    0,    0,    0,    0,    0,    0,\n",
      "            0,    0,    0,    0,    0,    0,    0,    0,    0,    0,    0,    0,\n",
      "            0,    0,    0,    0,    0,    0,    0,    0,    0,    0,    0,    0,\n",
      "            0,    0,    0,    0,    0,    0,    0,    0,    0,    0,    0,    0,\n",
      "            0,    0,    0,    0,    0,    0,    0,    0,    0,    0,    0,    0,\n",
      "            0,    0,    0,    0,    0,    0,    0,    0,    0,    0,    0,    0,\n",
      "            0,    0,    0,    0,    0,    0,    0,    0,    0,    0,    0,    0,\n",
      "            0,    0,    0,    0,    0,    0,    0,    0,    0,    0,    0,    0,\n",
      "            0,    0,    0,    0,    0,    0,    0,    0,    0,    0,    0,    0,\n",
      "            0,    0,    0,    0,    0,    0,    0,    0,    0,    0,    0,    0,\n",
      "            0,    0,    0,    0,    0,    0,    0,    0,    0,    0,    0,    0,\n",
      "            0,    0,    0,    0,    0,    0,    0,    0,    0]])\n"
     ]
    }
   ],
   "source": [
    "aTestReview = 'Even people who dislike the film, usually because they find the ending confused, should appreciate the strong acting of Elijah Wood & Joseph Mazello who played the two young leads in this movie.<br /><br />Spoiler WARNING: At a literal level, the ending makes no sense. People who think the ending makes some sense at other levels are divided between those who 1) think the younger brother was killed by the step-father either the one time Mike (the older boy) was away dealing with the neighborhood gang, or flew off the wishing spot in his wagon to escape the situation through death & those 2) who think the younger brother is imaginary & his flying off in the wagon transformed into a flying machine signals his overcoming the abusive situation.<br /><br />I favor 2). It makes a lot of sense in terms of the way many children deal with abusive situations. It is not uncommon for an abused child to split his or her psyche & project the abused self into something else; a stuffed animal, even an imaginary friend. This way, it makes a lot more sense that it is always the younger boy who is abused & never Mike. In reality, it is unlikely for one of two brothers to get all the abuse, although that does happen. Also, it is Bobby, the younger brother who is also the encouraging one, the one who insists that they can overcome the situation. Also, the death of a real-life sibling through abuse would have been too shattering for an adult with this in his history to transform into as upbeat a fantasy ending as this.'\n",
    "data_X, data_len = convert_and_pad(word_dict, review_to_words(aTestReview), 500)\n",
    "data_pack = np.hstack((data_len, data_X))\n",
    "data_pack = data_pack.reshape(1, -1)\n",
    "\n",
    "data = torch.from_numpy(data_pack)\n",
    "data = data.to(device)\n",
    "print(data)\n"
   ]
  },
  {
   "cell_type": "markdown",
   "metadata": {},
   "source": [
    "### Testing the model\n",
    "\n",
    "Now that we have deployed our model with the custom inference code, we should test to see if everything is working. Here we test our model by loading the first `250` positive and negative reviews and send them to the endpoint, then collect the results. The reason for only sending some of the data is that the amount of time it takes for our model to process the input and then perform inference is quite long and so testing the entire data set would be prohibitive."
   ]
  },
  {
   "cell_type": "code",
   "execution_count": 52,
   "metadata": {},
   "outputs": [],
   "source": [
    "import glob\n",
    "\n",
    "def test_reviews(data_dir='../data/aclImdb', stop=250):\n",
    "    \n",
    "    results = []\n",
    "    ground = []\n",
    "    \n",
    "    # We make sure to test both positive and negative reviews    \n",
    "    for sentiment in ['pos', 'neg']:\n",
    "        \n",
    "        path = os.path.join(data_dir, 'test', sentiment, '*.txt')\n",
    "        files = glob.glob(path)\n",
    "        \n",
    "        files_read = 0\n",
    "        \n",
    "        print('Starting ', sentiment, ' files')\n",
    "        \n",
    "        # Iterate through the files and send them to the predictor\n",
    "        for f in files:\n",
    "            with open(f) as review:\n",
    "                # First, we store the ground truth (was the review positive or negative)\n",
    "                if sentiment == 'pos':\n",
    "                    ground.append(1)\n",
    "                else:\n",
    "                    ground.append(0)\n",
    "                # Read in the review and convert to 'utf-8' for transmission via HTTP\n",
    "                review_input = review.read().encode('utf-8')\n",
    "                # Send the review to the predictor and store the results\n",
    "                results.append(float(predictor.predict(review_input)))\n",
    "                \n",
    "            # Sending reviews to our endpoint one at a time takes a while so we\n",
    "            # only send a small number of reviews\n",
    "            files_read += 1\n",
    "            if files_read == stop:\n",
    "                break\n",
    "            \n",
    "    return ground, results"
   ]
  },
  {
   "cell_type": "code",
   "execution_count": 53,
   "metadata": {},
   "outputs": [
    {
     "name": "stdout",
     "output_type": "stream",
     "text": [
      "Starting  pos  files\n",
      "Starting  neg  files\n"
     ]
    }
   ],
   "source": [
    "ground, results = test_reviews()"
   ]
  },
  {
   "cell_type": "code",
   "execution_count": 54,
   "metadata": {},
   "outputs": [
    {
     "data": {
      "text/plain": [
       "0.836"
      ]
     },
     "execution_count": 54,
     "metadata": {},
     "output_type": "execute_result"
    }
   ],
   "source": [
    "from sklearn.metrics import accuracy_score\n",
    "accuracy_score(ground, results)"
   ]
  },
  {
   "cell_type": "markdown",
   "metadata": {},
   "source": [
    "As an additional test, we can try sending the `test_review` that we looked at earlier."
   ]
  },
  {
   "cell_type": "code",
   "execution_count": 55,
   "metadata": {},
   "outputs": [
    {
     "data": {
      "text/plain": [
       "b'1.0'"
      ]
     },
     "execution_count": 55,
     "metadata": {},
     "output_type": "execute_result"
    }
   ],
   "source": [
    "predictor.predict(test_review)"
   ]
  },
  {
   "cell_type": "markdown",
   "metadata": {},
   "source": [
    "Now that we know our endpoint is working as expected, we can set up the web page that will interact with it. If you don't have time to finish the project now, make sure to skip down to the end of this notebook and shut down your endpoint. You can deploy it again when you come back."
   ]
  },
  {
   "cell_type": "markdown",
   "metadata": {},
   "source": [
    "## Step 7 (again): Use the model for the web app\n",
    "\n",
    "> **TODO:** This entire section and the next contain tasks for you to complete, mostly using the AWS console.\n",
    "\n",
    "So far we have been accessing our model endpoint by constructing a predictor object which uses the endpoint and then just using the predictor object to perform inference. What if we wanted to create a web app which accessed our model? The way things are set up currently makes that not possible since in order to access a SageMaker endpoint the app would first have to authenticate with AWS using an IAM role which included access to SageMaker endpoints. However, there is an easier way! We just need to use some additional AWS services.\n",
    "\n",
    "<img src=\"Web App Diagram.svg\">\n",
    "\n",
    "The diagram above gives an overview of how the various services will work together. On the far right is the model which we trained above and which is deployed using SageMaker. On the far left is our web app that collects a user's movie review, sends it off and expects a positive or negative sentiment in return.\n",
    "\n",
    "In the middle is where some of the magic happens. We will construct a Lambda function, which you can think of as a straightforward Python function that can be executed whenever a specified event occurs. We will give this function permission to send and recieve data from a SageMaker endpoint.\n",
    "\n",
    "Lastly, the method we will use to execute the Lambda function is a new endpoint that we will create using API Gateway. This endpoint will be a url that listens for data to be sent to it. Once it gets some data it will pass that data on to the Lambda function and then return whatever the Lambda function returns. Essentially it will act as an interface that lets our web app communicate with the Lambda function.\n",
    "\n",
    "### Setting up a Lambda function\n",
    "\n",
    "The first thing we are going to do is set up a Lambda function. This Lambda function will be executed whenever our public API has data sent to it. When it is executed it will receive the data, perform any sort of processing that is required, send the data (the review) to the SageMaker endpoint we've created and then return the result.\n",
    "\n",
    "#### Part A: Create an IAM Role for the Lambda function\n",
    "\n",
    "Since we want the Lambda function to call a SageMaker endpoint, we need to make sure that it has permission to do so. To do this, we will construct a role that we can later give the Lambda function.\n",
    "\n",
    "Using the AWS Console, navigate to the **IAM** page and click on **Roles**. Then, click on **Create role**. Make sure that the **AWS service** is the type of trusted entity selected and choose **Lambda** as the service that will use this role, then click **Next: Permissions**.\n",
    "\n",
    "In the search box type `sagemaker` and select the check box next to the **AmazonSageMakerFullAccess** policy. Then, click on **Next: Review**.\n",
    "\n",
    "Lastly, give this role a name. Make sure you use a name that you will remember later on, for example `LambdaSageMakerRole`. Then, click on **Create role**.\n",
    "\n",
    "#### Part B: Create a Lambda function\n",
    "\n",
    "Now it is time to actually create the Lambda function.\n",
    "\n",
    "Using the AWS Console, navigate to the AWS Lambda page and click on **Create a function**. When you get to the next page, make sure that **Author from scratch** is selected. Now, name your Lambda function, using a name that you will remember later on, for example `sentiment_analysis_func`. Make sure that the **Python 3.6** runtime is selected and then choose the role that you created in the previous part. Then, click on **Create Function**.\n",
    "\n",
    "On the next page you will see some information about the Lambda function you've just created. If you scroll down you should see an editor in which you can write the code that will be executed when your Lambda function is triggered. In our example, we will use the code below. \n",
    "\n",
    "```python\n",
    "# We need to use the low-level library to interact with SageMaker since the SageMaker API\n",
    "# is not available natively through Lambda.\n",
    "import boto3\n",
    "\n",
    "def lambda_handler(event, context):\n",
    "\n",
    "    # The SageMaker runtime is what allows us to invoke the endpoint that we've created.\n",
    "    runtime = boto3.Session().client('sagemaker-runtime')\n",
    "\n",
    "    # Now we use the SageMaker runtime to invoke our endpoint, sending the review we were given\n",
    "    response = runtime.invoke_endpoint(EndpointName = '**ENDPOINT NAME HERE**',    # The name of the endpoint we created\n",
    "                                       ContentType = 'text/plain',                 # The data format that is expected\n",
    "                                       Body = event['body'])                       # The actual review\n",
    "\n",
    "    # The response is an HTTP response whose body contains the result of our inference\n",
    "    result = response['Body'].read().decode('utf-8')\n",
    "\n",
    "    return {\n",
    "        'statusCode' : 200,\n",
    "        'headers' : { 'Content-Type' : 'text/plain', 'Access-Control-Allow-Origin' : '*' },\n",
    "        'body' : result\n",
    "    }\n",
    "```\n",
    "\n",
    "Once you have copy and pasted the code above into the Lambda code editor, replace the `**ENDPOINT NAME HERE**` portion with the name of the endpoint that we deployed earlier. You can determine the name of the endpoint using the code cell below."
   ]
  },
  {
   "cell_type": "code",
   "execution_count": 56,
   "metadata": {},
   "outputs": [
    {
     "data": {
      "text/plain": [
       "'sagemaker-pytorch-2021-02-08-04-55-38-155'"
      ]
     },
     "execution_count": 56,
     "metadata": {},
     "output_type": "execute_result"
    }
   ],
   "source": [
    "predictor.endpoint"
   ]
  },
  {
   "cell_type": "markdown",
   "metadata": {},
   "source": [
    "Once you have added the endpoint name to the Lambda function, click on **Save**. Your Lambda function is now up and running. Next we need to create a way for our web app to execute the Lambda function.\n",
    "\n",
    "### Setting up API Gateway\n",
    "\n",
    "Now that our Lambda function is set up, it is time to create a new API using API Gateway that will trigger the Lambda function we have just created.\n",
    "\n",
    "Using AWS Console, navigate to **Amazon API Gateway** and then click on **Get started**.\n",
    "\n",
    "On the next page, make sure that **New API** is selected and give the new api a name, for example, `sentiment_analysis_api`. Then, click on **Create API**.\n",
    "\n",
    "Now we have created an API, however it doesn't currently do anything. What we want it to do is to trigger the Lambda function that we created earlier.\n",
    "\n",
    "Select the **Actions** dropdown menu and click **Create Method**. A new blank method will be created, select its dropdown menu and select **POST**, then click on the check mark beside it.\n",
    "\n",
    "For the integration point, make sure that **Lambda Function** is selected and click on the **Use Lambda Proxy integration**. This option makes sure that the data that is sent to the API is then sent directly to the Lambda function with no processing. It also means that the return value must be a proper response object as it will also not be processed by API Gateway.\n",
    "\n",
    "Type the name of the Lambda function you created earlier into the **Lambda Function** text entry box and then click on **Save**. Click on **OK** in the pop-up box that then appears, giving permission to API Gateway to invoke the Lambda function you created.\n",
    "\n",
    "The last step in creating the API Gateway is to select the **Actions** dropdown and click on **Deploy API**. You will need to create a new Deployment stage and name it anything you like, for example `prod`.\n",
    "\n",
    "You have now successfully set up a public API to access your SageMaker model. Make sure to copy or write down the URL provided to invoke your newly created public API as this will be needed in the next step. This URL can be found at the top of the page, highlighted in blue next to the text **Invoke URL**."
   ]
  },
  {
   "cell_type": "markdown",
   "metadata": {},
   "source": [
    "## Step 4: Deploying our web app\n",
    "\n",
    "Now that we have a publicly available API, we can start using it in a web app. For our purposes, we have provided a simple static html file which can make use of the public api you created earlier.\n",
    "\n",
    "In the `website` folder there should be a file called `index.html`. Download the file to your computer and open that file up in a text editor of your choice. There should be a line which contains **\\*\\*REPLACE WITH PUBLIC API URL\\*\\***. Replace this string with the url that you wrote down in the last step and then save the file.\n",
    "\n",
    "Now, if you open `index.html` on your local computer, your browser will behave as a local web server and you can use the provided site to interact with your SageMaker model.\n",
    "\n",
    "If you'd like to go further, you can host this html file anywhere you'd like, for example using github or hosting a static site on Amazon's S3. Once you have done this you can share the link with anyone you'd like and have them play with it too!\n",
    "\n",
    "> **Important Note** In order for the web app to communicate with the SageMaker endpoint, the endpoint has to actually be deployed and running. This means that you are paying for it. Make sure that the endpoint is running when you want to use the web app but that you shut it down when you don't need it, otherwise you will end up with a surprisingly large AWS bill.\n",
    "\n",
    "**TODO:** Make sure that you include the edited `index.html` file in your project submission."
   ]
  },
  {
   "cell_type": "markdown",
   "metadata": {},
   "source": [
    "Now that your web app is working, trying playing around with it and see how well it works.\n",
    "\n",
    "**Question**: Give an example of a review that you entered into your web app. What was the predicted sentiment of your example review?"
   ]
  },
  {
   "cell_type": "markdown",
   "metadata": {},
   "source": [
    "**Answer:** \n",
    "\"I don't know about this topic but I found out that the movie is really interesting!\"\n",
    "I got a positive prediction!"
   ]
  },
  {
   "cell_type": "markdown",
   "metadata": {},
   "source": [
    "### Delete the endpoint\n",
    "\n",
    "Remember to always shut down your endpoint if you are no longer using it. You are charged for the length of time that the endpoint is running so if you forget and leave it on you could end up with an unexpectedly large bill."
   ]
  },
  {
   "cell_type": "code",
   "execution_count": 57,
   "metadata": {},
   "outputs": [],
   "source": [
    "predictor.delete_endpoint()"
   ]
  },
  {
   "cell_type": "code",
   "execution_count": null,
   "metadata": {},
   "outputs": [],
   "source": []
  }
 ],
 "metadata": {
  "kernelspec": {
   "display_name": "conda_pytorch_p36",
   "language": "python",
   "name": "conda_pytorch_p36"
  },
  "language_info": {
   "codemirror_mode": {
    "name": "ipython",
    "version": 3
   },
   "file_extension": ".py",
   "mimetype": "text/x-python",
   "name": "python",
   "nbconvert_exporter": "python",
   "pygments_lexer": "ipython3",
   "version": "3.6.10"
  }
 },
 "nbformat": 4,
 "nbformat_minor": 2
}
